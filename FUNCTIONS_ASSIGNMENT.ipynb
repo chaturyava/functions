{
  "nbformat": 4,
  "nbformat_minor": 0,
  "metadata": {
    "colab": {
      "provenance": []
    },
    "kernelspec": {
      "name": "python3",
      "display_name": "Python 3"
    },
    "language_info": {
      "name": "python"
    }
  },
  "cells": [
    {
      "cell_type": "markdown",
      "source": [
        "#THEORY QUESTIONS\n",
        "\n",
        "\n"
      ],
      "metadata": {
        "id": "8PuSeify7LF4"
      }
    },
    {
      "cell_type": "markdown",
      "source": [
        "1. What is the difference between a function and a method in Python?\n",
        "\n",
        "In Python, both functions and methods are blocks of code designed to perform a specific task, but they differ in how they are called and associated with objects.\n",
        "\n",
        "A function is a standalone block of reusable code defined using the def keyword. It is not tied to any specific object and can be called directly by its name. Functions can take arguments, perform operations, and return results.\n",
        "Example of a Function:\n",
        "\n",
        "def add(x, y):\n",
        "\n",
        "return x + y result = add(2, 3) # Calling a function\n",
        "\n",
        "print(result) # Output: 5\n",
        "\n",
        "Example of a Method:\n",
        "\n",
        "python\n",
        "\n",
        "class Calculator:\n",
        "\n",
        "def add(self, x, y): # 'self' refers to the instance of the class\n",
        "\n",
        "return x + y\n",
        "calc = Calculator()\n",
        "\n",
        "result = calc.add(2, 3) # Calling a method using an object\n",
        "\n",
        "print(result) # Output: 5\n",
        "\n",
        "\n",
        "2. Explain the concept of function arguments and parameters in Python.\n",
        "\n",
        "In Python, parameters and arguments are fundamental concepts related to functions, but they serve distinct purposes. Parameters are the placeholders defined in a function's declaration, acting as variables that accept values when the function is called. They define the structure and requirements of the function, specifying what kind of data the function expects. On the other hand, arguments are the actual values or data passed to the parameters when the function is invoked. Python supports different types of arguments, including positional arguments, where values are matched to parameters based on their order, and keyword arguments, where values are assigned to specific parameters by name. Additionally, functions can have default parameters, which use predefined values if no argument is provided during the call, and variable-length arguments (*args and **kwargs) to handle an arbitrary number of positional or keyword arguments. Understanding the distinction between parameters and arguments, as well as the various ways to pass arguments, enables developers to write more flexible, dynamic, and reusable functions in Python.\n",
        "\n",
        " Function with parameters\n",
        "def greet(name):  \n",
        "    print(f\"Hello, {name}!\")\n",
        "\n",
        " Calling the function with an argument\n",
        "\n",
        "greet(\"Alice\")\n",
        "\n",
        "OUTPUT Hello, Alice!\n",
        "\n",
        "3. What are the different ways to define and call a function in Python?\n",
        "\n",
        " Defining Functions in Python:\n",
        "\n",
        "     Functions in Python are defined using the def keyword, followed by the function name and a set of parentheses that may contain parameters.\n",
        "   \n",
        "     Functions can be categorized as:\n",
        "   \n",
        "     Regular Functions: Defined with def for reusable code blocks.\n",
        "   \n",
        "     Lambda Functions: Anonymous functions defined using the lambda keyword for\n",
        "     short, single-expression tasks.\n",
        "   \n",
        "     Built-in Functions: Predefined functions provided by Python (e.g., print(), len()).\n",
        "  \n",
        "     Recursive Functions: Functions that call themselves to solve smaller instances of a problem.\n",
        "    \n",
        " Calling Functions in Python:\n",
        "\n",
        "     Functions can be called in multiple ways depending on their parameter types:\n",
        "\n",
        "     Positional Arguments: Pass arguments in the order of parameters.\n",
        "     \n",
        "     Keyword Arguments: Pass arguments by specifying parameter names.\n",
        "     \n",
        "     Default Arguments: Call functions without explicitly providing arguments for parameters with default values.\n",
        "     \n",
        "     \n",
        "4. What is the purpose of the `return` statement in a Python function?\n",
        "\n",
        "The return statement in a Python function is used to send back a value from the function to the caller. It effectively exits the function and specifies what value (if any) the function should return.\n",
        "\n",
        "Purpose of the return Statement\n",
        "\n",
        "Returning a Value:\n",
        "\n",
        "It allows a function to send data back to the part of the program where the function was called.\n",
        "\n",
        "Example:\n",
        "\n",
        "def add(a, b):\n",
        "\n",
        "return a + b result = add(3, 5)\n",
        "\n",
        "print(result) # Output: 8\n",
        "\n",
        "Exiting the Function:\n",
        "\n",
        "When return is encountered, the function immediately stops execution and exits, even if there is more code after it.\n",
        "\n",
        "Example:\n",
        "\n",
        "def example():\n",
        "\n",
        "print(\"Before return\")\n",
        "\n",
        "return\n",
        "\n",
        "print(\"After return\") # This line will never execute. example()\n",
        "\n",
        "// Output: \"Before return\"\n",
        "\n",
        "\n",
        "5.What are iterators in Python and how do they differ from iterables.\n",
        "\n",
        "An iterable is any Python object that can be looped over (iterated) using a for loop. It is an object that implements the iter() method, which returns an iterator.\n",
        "\n",
        "Common examples of iterables:\n",
        "\n",
        "Lists, tuples, strings, dictionaries, sets, and custom objects implementing iter.\n",
        "\n",
        "An iterator is an object that produces one value at a time from an iterable. It implements two methods:\n",
        "\n",
        "iter(): Returns the iterator object itself.\n",
        "\n",
        "next(): Returns the next value in the sequence. Raises a StopIteration exception when there are no more items to return.\n",
        "\n",
        "You can explicitly use next() to get the values from an iterator.\n",
        "\n",
        "Example of an Iterator:\n",
        "\n",
        "my_list = [1, 2, 3]\n",
        "\n",
        "iterator = iter(my_list) # Create an iterator using iter()\n",
        "\n",
        "print(next(iterator)) # Output: 1\n",
        "\n",
        "print(next(iterator)) # Output: 2\n",
        "\n",
        "print(next(iterator)) # Output: 3\n",
        "\n",
        "6.Explain the concept of generators in Python and how they are defined.\n",
        "\n",
        "Generators in Python Generators in Python are special types of iterators that allow you to generate values on the fly instead of storing them in memory all at once. They are useful for working with large datasets or infinite sequences because they produce one value at a time as needed.\n",
        "\n",
        "Generators are defined using:\n",
        "\n",
        "The yield keyword (instead of return).\n",
        "\n",
        "Generator expressions (similar to list comprehensions).\n",
        "\n",
        "Defining Generators\n",
        "\n",
        "Using yield in a Function\n",
        "\n",
        "A generator function is defined like a normal function, but it uses yield instead of return to produce values one at a time.\n",
        "\n",
        "Example:\n",
        "\n",
        "def my_generator():\n",
        "\n",
        "yield 1\n",
        "\n",
        "yield 2\n",
        "\n",
        "yield 3 gen = my_generator() # Creates a generator object\n",
        "\n",
        "print(next(gen)) # Output: 1\n",
        "\n",
        "print(next(gen)) # Output: 2\n",
        "\n",
        "print(next(gen)) # Output: 3\n",
        "\n",
        "// print(next(gen)) # Raises StopIteration\n",
        "\n",
        "\n",
        "7.What are the advantages of using generators over regular functions.\n",
        "Using Generator Expressions\n",
        "\n",
        "Generators can also be created using a compact syntax similar to list comprehensions, but with parentheses () instead of square brackets [].\n",
        "\n",
        "Example:\n",
        "\n",
        "gen = (x**2 for x in range(5)) # Generator expression\n",
        "\n",
        "print(next(gen)) # Output: 0\n",
        "\n",
        "print(next(gen)) # Output: 1\n",
        "\n",
        "print(next(gen)) # Output: 4\n",
        "\n",
        "Using generators in Python offers several advantages over regular functions, particularly when working with large datasets or when memory efficiency is important. A generator is a special type of function that uses the yield keyword instead of return. This allows the function to produce a series of values over time, without storing the entire output in memory at once. Here are the key advantages of using generators:\n",
        " Memory Efficiency\n",
        "Generators are more memory-efficient because they generate values one at a time, instead of creating and storing an entire list of values in memory. This is particularly useful when working with large datasets.\n",
        "\n",
        "Example:\n",
        "\n",
        "Using a regular function:\n",
        "\n",
        "python\n",
        "Copy code\n",
        "def create_list(n):\n",
        "    result = []\n",
        "    for i in range(n):\n",
        "        result.append(i)\n",
        "    return result\n",
        "\n",
        "Calling the function with a large number\n",
        "large_list = create_list(1000000)\n",
        "In this case, the entire list is stored in memory, consuming a lot of space.\n",
        "\n",
        "Using a generator:\n",
        "\n",
        "python\n",
        "Copy code\n",
        "def generate_numbers(n):\n",
        "    for i in range(n):\n",
        "        yield i\n",
        " Calling the generator\n",
        "gen = generate_numbers(1000000)\n",
        "Here, the generator only yields one value at a time, thus not requiring large amounts of memory.\n",
        "\n",
        " Lazy Evaluation\n",
        "Generators use lazy evaluation, meaning they only compute values when they are needed, rather than all at once. This can result in faster performance for large datasets, as it avoids unnecessary calculations.\n",
        "\n",
        "Example:\n",
        "\n",
        "python\n",
        "Copy code\n",
        "def countdown(n):\n",
        "    while n > 0:\n",
        "        yield n\n",
        "        n -= 1\n",
        "\n",
        "gen = countdown(5)\n",
        "for num in gen:\n",
        "    print(num)\n",
        "This generator yields numbers from 5 down to 1, and it computes each number only when requested (during the for loop). Unlike a regular function that would generate all values upfront, the generator only produces each value on demand.\n",
        "\n",
        " Improved Performance for Iterations\n",
        "Generators can improve performance by reducing the need for looping over large data structures multiple times. They generate values as they are iterated over, avoiding the overhead of repeatedly creating or processing the entire dataset.\n",
        "\n",
        "8. What is a lambda function in Python and when is it typically used?\n",
        "\n",
        "A lambda function in Python is a small, anonymous function that is defined using the lambda keyword instead of the def keyword. It is used to create simple functions that can be defined in a single line, often for short-term or temporary use where defining a full function might feel unnecessary. Lambda functions can have any number of parameters but can only have a single expression. The result of the expression is automatically returned by the function.\n",
        "\n",
        "Typical Uses of Lambda Functions:\n",
        "Short-term functions: Used when you need a small function for a short period, typically in places where a full function definition would be overkill.\n",
        "Functional programming: Often used in higher-order functions like map(), filter(), and sorted() where a function is needed for a short duration, especially when no reuse is required.\n",
        "Simple Example:\n",
        "A lambda function to add two numbers:\n",
        "\n",
        "python\n",
        "Copy code\n",
        "add = lambda x, y: x + y\n",
        "print(add(3, 5))  # Output: 8\n",
        "In this example, the lambda function takes two arguments x and y, and returns their sum. It is used just like a regular function but in a more concise form.\n",
        "\n",
        "9.Explain the purpose and usage of the map() function in Python.\n",
        "\n",
        " The map() Function in Python The map() function in Python is a built-in function that allows you to apply a function to all the items in an iterable (such as a list, tuple, or string) and return a map object, which is an iterator that yields the results of applying the function.\n",
        "\n",
        "Syntax:\n",
        "\n",
        "map(function, iterable, ...)\n",
        "\n",
        "function: The function to apply to each item in the iterable. This can be a normal function or a lambda function.\n",
        "\n",
        "iterable: One or more iterable objects (like lists, tuples, etc.) whose elements will be processed by the function.\n",
        "\n",
        "If multiple iterables are passed, the function must take as many arguments as there are iterables. The map() function applies the function to the items of the iterables in parallel, stopping when the shortest iterable is exhausted.\n",
        "\n",
        "Return Value:\n",
        "\n",
        "map() returns a map object (an iterator). You can convert it to a list, tuple, or other collection type if needed.\n",
        "\n",
        "Example 1: Using map() with a Simple Function\n",
        "\n",
        "Suppose you want to square each number in a list. You can use map() to apply a function to each element in the list.\n",
        "\n",
        "def square(x):\n",
        "\n",
        "return x ** 2 numbers = [1, 2, 3, 4]\n",
        "\n",
        "squared_numbers = map(square, numbers)\n",
        "\n",
        "// Convert to a list to see the result\n",
        "\n",
        "print(list(squared_numbers)) # Output: [1, 4, 9, 16]\n",
        "\n",
        "10. What is the difference between `map()`, `reduce()`, and `filter()` functions in Python?\n",
        "\n",
        "\n",
        "In Python, the functions map(), reduce(), and filter() are all higher-order functions, meaning they take other functions as arguments and are commonly used for functional programming tasks. Here’s a breakdown of their differences and typical use cases:\n",
        "\n",
        "1. map() Function\n",
        "Purpose: The map() function applies a given function to each item of an iterable (like a list or tuple) and returns a map object (an iterator) with the results.\n",
        "Return Type: It returns an iterator, so you usually need to convert it to a list or another collection type to view the results.\n",
        "Use Case: It's typically used when you want to apply a transformation or operation to each item in an iterable.\n",
        "Example:\n",
        "\n",
        "python\n",
        "Copy code\n",
        "numbers = [1, 2, 3, 4]\n",
        "squared = map(lambda x: x ** 2, numbers)\n",
        "print(list(squared))  # Output: [1, 4, 9, 16]\n",
        "Here, map() applies the lambda function to square each number in the list.\n",
        "\n",
        "2. reduce() Function\n",
        "Purpose: The reduce() function is used to apply a function of two arguments cumulatively to the items of an iterable, from left to right, to reduce the iterable to a single value.\n",
        "Return Type: It returns a single accumulated value (not an iterable).\n",
        "Use Case: It's useful for performing operations like summing or multiplying all the elements in a sequence or finding the greatest/common value.\n",
        "Example:\n",
        "\n",
        "python\n",
        "Copy code\n",
        "from functools import reduce\n",
        "\n",
        "numbers = [1, 2, 3, 4]\n",
        "result = reduce(lambda x, y: x + y, numbers)\n",
        "print(result)  # Output: 10\n",
        "In this example, reduce() sums all the numbers in the list. It starts with the first two numbers, then applies the function to the result and the next number, and so on.\n",
        "\n",
        "3. filter() Function\n",
        "Purpose: The filter() function is used to filter elements from an iterable based on a boolean function (a function that returns either True or False). It returns only those items from the iterable for which the function returns True.\n",
        "Return Type: It returns an iterator, which is typically converted to a list or another collection type.\n",
        "Use Case: It's useful when you want to filter or select certain items from a sequence based on a condition.\n",
        "Example:\n",
        "\n",
        "python\n",
        "Copy code\n",
        "numbers = [1, 2, 3, 4, 5, 6]\n",
        "even_numbers = filter(lambda x: x % 2 == 0, numbers)\n",
        "print(list(even_numbers))  # Output: [2, 4, 6]\n",
        "Here, filter() filters out the even numbers from the list.\n",
        "\n",
        "\n",
        "\n",
        "\n",
        "\n",
        "\n",
        "\n",
        "\n",
        "\n",
        "\n",
        "\n",
        "\n"
      ],
      "metadata": {
        "id": "VoNEj0yQ7w6H"
      }
    },
    {
      "cell_type": "markdown",
      "source": [
        "11. Using pen & Paper write the internal mechanism for sum operation using  reduce function on this given\n",
        "list:[47,11,42,13];\n",
        "![WhatsApp Image 2024-12-22 at 8.41.03 PM.jpeg](data:image/jpeg;base64,/9j/4AAQSkZJRgABAQAAAQABAAD/2wCEAAYGBgYHBgcICAcKCwoLCg8ODAwODxYQERAREBYiFRkVFRkVIh4kHhweJB42KiYmKjY+NDI0PkxERExfWl98fKcBBgYGBgcGBwgIBwoLCgsKDw4MDA4PFhAREBEQFiIVGRUVGRUiHiQeHB4kHjYqJiYqNj40MjQ+TERETF9aX3x8p//CABEIA4sCkgMBIgACEQEDEQH/xAAxAAADAQEBAQAAAAAAAAAAAAAAAQMCBAUGAQEBAQEBAQAAAAAAAAAAAAAAAQIEAwX/2gAMAwEAAhADEAAAAvYaYgAQAAAACBoDM7BzY7BfPx6YeRj2i3wcfQh853+pl5+a+9Xz4DtynIurKc5fNkjeUTxsE0ZGgnnOPoGNrPVzx7UcOe3DHJnqLjkO6yeWenhOF9GGIm0ys9bk4ddWCL2Fp3nN6qF62JtANTLAacIaAbEMX6QRv5YAIEMEAAAAAAAAACGIGIGIGIGgGIGIGgMrYks3E5p9o15uPVJ7eNP3RfBft5a8Zevhvyl6eF887ZzXOUyuDSVYoHPnpTPOugY5J96Tk6djSGPVDAAUGCGhgwAgGH0QG/mCAk0AAAgAAeWPSRRS0bJhQkFSQVJMoZYxAxA0AAAAAAAAAAAAAAAAADQKsUF58dZLw49Ea8rHsC+Jj3hrwD3cNeKexia8o9LLXB09RxZ4uf1Oe64xvs9csBMYAR9Fy1pv5nNnsRFxqVSwNUDBsJ7zozmoSewmUyYceokVCb1kQgZLBcQMSNGWPSRQkFSQVJhQkFSTKGWMAAAABoGIGIGJgAAAAAAMQMTjE7jXJPvGvMn6414h7Y1NsvObzkjVM3oyPAGzGB0iywsFFNm5UkO0agCGIGjBlsNghoQwBZ2ElbBz7qgKBIqEnRGAAAGJDQDBj1hFSTKOQVIsqS0bMBszoAAaBiYAAAABqNgmbCaApKoRdkT1oMYqzmfQHPLtDifWjFBmeLtCB0ZIy6MgxE960ZxXBhPQWlYzDo5C1eYK0jYJakatzo6TjqXM6AOU6ieSwgSczF81JKwSKhMqEnTBkzoYgbzobQGlkogAA2NCAJCZQACeSyxIOjGwEDAFB0MWxsAQnz0KiBiBiBiBiACYnChXQAAIYIYZWwABcnZk5b56DgO4OC3Rk5l1o510oVcUJLWRbxoNRwWrw94mAAEtTobAAA2mgQEmmUAOXo0HLPuDgfcjj30hzdJIkb2LFAWGGNLRy9FNEujFBTpzGtTZcYTikW3zyO8ARz5KX5LFTnR0kqi5KZOlYka6cMjeWToJzOgJFSWjYplQAMhohozeNgABPJKsrDAAA2mhAEmIqAAgYAAAmC5euZpgAAAA0DEDSYIBiBiBgBnQCcBp3JPYQuMywIlghTYKHSGObrZNUZHWwlPpDk10hlaZCXVgy8dIAAAGNzM1lYAAANAAgJ51ksiJaIFxACwVJ6GJDOTrAOcrvn6AFMKxsASKi5zpEDAAAYmAAACYAAAACBiBiBiBiBiBiYCBgAAAAAAAE6TFWVBgAAbQAmiedZKw2xS6Gc2X0Gc9EzeKZCHRE59dAT0w5d9GCWhm952SMsUrApsKabNGNDEDEDEDEDBDEDAAABAxAwABDEDAAAAYmAJgABPeBUnQYmAg2ACEYAKgAIM7QNAAgaAAAEDUbDIaKoQzLGJkbCGIGssYgAmPE+g0NAJhjUDoGhoAEDAGc3QMQNSRcQMTGIGANAAZNYxoKSqAAAG00GdYE1o2IAAAATQAgBDEDQzivZkZ9SFz9ODi13I4uzQLntklnoRKHayLxQr5/oZJFcFGskN1wQtJnRmaLb5eoheNiGs4N355HacmjNpM6Hw6Ot8vUTpHJ0kOgWYaOiKmXUcl7cHcMAADQ0EqxHrOxghmdAACABABEj2cWjrOTR0uGyiXEdz4+goQC8sYH08+iziyizQ5epYKGWASNwVSgwQI0ZYAAmBy9HGdetSK4ncm9snrQJpiWgJ0mSrVHE7bMT65HJ3yqNNABGlpUodER0lUYgBAxAAAAE6AhhlsEMJ5tghbWiC6A589Qcme0OSlwjYRGHaHLSwHJ1o5KXRzdTRyaj1DxvRHFaGx4J4yFp50dAtgAAAAAAMAABMAlWQqxuAAASMC0jWQrRsIAlXn6ATQxAxAxIZiJR52bBDzIOgQNKZU57jEDaBoBiAAAAGgJ05DfTjYgAAAAGgYmCGIAAABgADQMTATCVZGbwsMAAEAFJVkZtGgoOhikcFOjGjn6uXrEIJlpmBzOh8mjpnTjDpjoqc7LQ3zHRSGDrOSh0Bg2Z0DQMQMQMQMQaSBmQ0IGgGIG0AAAAAA0DEwABpgCHKkzNo2GAAADQSrIVpVAYLm6kMAEAAhoBiBmQxidxthk0jGbBIqGDaGsbGgBKQbVQAAABAABPGiowWdcx1AAAAgYAAwAAGJgAAABOkxVjYYgAJNJq0lWQrxsAACYCAAATENAALnpM0tMpOkBbkzdee5nDkVwgejA78fac2bI0YC4YI2jUljooc+t85TUwspIbwFcyqatCxC3Po6M5gdgIYAAA0DEDEwlWZm0bAAACaBKRtEdZVAABAAAMENAAAAAhmNDQjFePrAQMnM6MvmOkJCvGhoQAIZkNCBgChfBUAAAABoAAzoAAEAAAAADEwAAJ0mFY2AAABjQRtEdYXAEAMABoABAAAAQuBz9ATxcObl9JEJ9oc8O8OLPdk4e9shnoCXH6GBKyOafaHMunBQAAAAAEMQN5DSABMAQxAxAxBpAMQMGEqyM3jYAAAhgURrIVo2FMmdIwQ4FjOhDBGZliFxiBmZlhAxAzl6DRljSybOa484ZUQOW+c6QkFee4xAwAAATAQMQAAxA0AAA0DEwAAGDAJVkK0bAAAEMFRKszNMMxz9uTl3ntHDomPNUZNI5r52eb17gavmxCPVMxvUzojaRF9HIHTO4Q6JChYMabJtszoCO1UhQZE6EM2ANAAAgYAAAIGIGZDQgYgbzIu5UNCBxrILRqMAAA0A40kK0bgCM7AEwQ0AAJgRsAnzl04B0Y0NS2amaNqcy4gZhE7QsbBDJ7GZyUJUGlEuuaxslQZgHz0CxBHQQuIJFSOSu+bRc5OwREK456F9zyWnG5qaYWlYAQwAGBKkgtGwAhiBiBiBiBoBoCeaaIT6w5+gDlx2wIPsgEe0ODuxQ5s9Ycb62T2w49X2cGutka6RPl7cnLrTMPrDkn3B59OwOPXUHNfQZh0Bz7qE82wQ6ZXOfdA499Qcy6ghqoSzWZqmdDAAAYBnDQrRqAIaAAABDTQAAAcfXz7LZyGK8tS8cZF0c/QUcqDWcm+bNym56HjXObpNkevl6hPHId0qwNaOYtSHQOecltRqOZyHY4XGsIazsn0RuAIaGAAAAAZnvBVpjAACAFWDLCs9jQhiBiAEDSBkUXaCebBhUDGas5n0Byz7pm9CJ5sEp9Qc/QAc/QEnQJ0ASbHlgmgaIlWsm0tAmDxoEwMKgJgCYAwAAAAAnOmC2kwGAAZYEdY0a0tCTQAAALKiaKIh0MGJgZRpHOUrLZtJG3Ggxc50vm0XIBc59FiWzRBHQQC5z3G5yOghYm+Rl46yde/OudRzYOwyxiBiBiBiYADEwAAAmgLNMAQxAxBEEWaYlpAmgAAEc7rs5M9oc9mHFW4c0u3RxvrRAuHL0MMT1YhjpCeWGH0InRRCL7SM61ObpEZncMKkxbMG22ZWwWkAZRsEMQAAMABGhAwYAEQCzQMQMQMAjnSLgBnWRgAgAAEcp1CRFz0dEJI6aJDWoi1z4K9PJo6iVTMsBumOU7zFCENg+jnYuqNjn3gKHMzr1IKQwzpOIO04w7Vz5NW5eo1BhaAzoi5F1hGd5qNMHSdAAIjyXaYhoAEYCwGi4gE0MQNAAIYgeNA0AJoEA0AxSN6TExDJxOoAI2CVkDEAKZV8vSMSGRCzQMQMQN5DRljExoAeWMTGIFmgNAABLOsHQ0wAEMgAqABdACaGmgAAAQ0AAACRg3x3mUXF3BPNCixk6J15B0kHRrj7RRtyFnNmtZZvmpIq87ELRGuEbcKBvVDGNQKz6YF8zqY0mGdzK83RM6BBoQNoGIGIJ51ku0DEwEDTRBgXQAIGgAEMQAACBiBiBiRz23znQ0gGALIjOigIGkaMsaA5eoAjSJ0Z1yHTvCJ9HPcAwbJs3JxK14+wCOzYc50OOijTAAYmAAAEk0XAAAABpog0ywAJoaAAAAEAAAJoJ0yahfnKZMGbc1ClefpOefRojoRYWiE7Iw3ka3okr4Iu2TCsHPPsYqY2S5e9nEdqOHfWzj6dhwdVQxK7OPpNgAAAxAxROhwsTzpFgAAEMGmiOdIuCGhDAAQMQAgaQMUiwgZGo3lGzKNqVBiB4WDdI1GIGIGIGIGLJmsLGcxubTgWedAAAmZzFHZnXGdZjBaWdFiMzqIIqYkW3z9BrcbE86yWAAAQBpCJZ0i6AAAAAAEwzzdWR83VzFueki6myfVOwuarJKuTn6cUKrUzzuyqJ2lUfH3TIK7Iaozm11o4zrZCHVo5s9rODXYBx9uTkXcHEdwcR2MUbhB2CDsHPnqCGeoM4qHOdDIWAkmiwAAAACeSQBYAEwAAAEMEAAACiXUQrieyoQDo5sHYcrOkhkq+bR0vloWlPRcwzQg0kDMhoyxiBiRoQN5BiDSQaSBtAxAwBiBgAAABJCLgAAAgedKIidWAAAAAABMEAABHVA589QQuBnFAiWZhbDBsMNYL5YZW0DQNACJGqc/QApFNRqMQNoGIGIGIGJgCGIGDAGAAAAMIpos0wAEACaiInVmAmAAAAIaAAEwQAAgRylq8eTunKR2uWS6fGatDJ2mGYzDR1y5ugessryViXcslcZRtKgh7NayyLeTHRkMUjUaoic7ImPZUAbyxiBgDEEQRcAGgAAzucYWlVgYgAAAAQ0AAJggAxsJOgcm7ZJVqEC4LGpj1K4Z0gaBiBoCFpWBPnLvMStI2MqVTaMmjCK5XOdG+TrAnsCFTZPJZpgAMAAAAIoR0AAAAg1KsYedFUAEwAAQwQAhoAAAEPmOiOkZACs0bpihyZ6EIWygBw1pkT2gjapxX2iZXRw2tQ5TomS68bIc3oBx57g5TqZzdDRFXDnj1hya7AxQQxMGgYgYsGFz9JcGIGMAzG0I1rO60AAAAhiABACAxI6AAFE6Dm6BiBikWWYnSZYxIecxLVlQYgYkaEDEjQgFCpudOE7dT0aOfoAnsYgcNIz08PWLccHSuWxqkcHSc2im+HtFHn6zG4I7mmABoQZheMKsr0hggYhoEwS0jl6NQJZ6ATxkpDbMdEpnVrOCnD35OR9GTKsG43ycfRTBOudms0yclKIlqgc+ezRzl0QXVgljqZyw9TIp3Dix3hwHoBxa6w5N9ASn0hzrqDPP1BBdAR3sM4qjk1vZtgAgYhSF4SO0bUAgaYgAAEAAMAABAc1SkqcxfeWPm1k6Tj0dRyo6555ztw5HQQkWtDZRoGIGIGADSG8saAABiBiBiBiBiBiDQgYmAAJojudTaAADBkWvP0c8jtKwhqkwAAQwQwQAABOiIS7Q46dALG2Rz0I56vZFXRJWgXlTRmdgjUAAELmOslUARhzobAAAAAAAEMGAgBA3Kg2MAAABPJOk6GgAAOQmL3wtCTVo2oAEAAwQ0AAIAAAaAOcvy2gdG/PqdeOdFrcFTq5+jhLoyXpydQctoF8z0FMswZ0VzgNzWhtTDVEFDQoWRDVcil2SIY7JlOfqDl1ZnLdVGxDaBgBjczNZVGAAB5Rzl17kLwzl2hcAdJgCaAAEwSYJgAAAGNgctihCzDMrMQSC3N0DTQg5TrACF+QvSVQAAAYgYgDm6QI6KGec6k8mhIIa5zvaybMzKkKm3w9wDAlWIrRuAANM+cIl19NHcM5pfkuUcLUNAAAIGhDEDEDEBnXOdEiY9Ey8xF9ZkKe2Gs4OoA58TubTwOetF05nPTSDGmCozn2IjZbI3Wjj9DFDPH3ZOSHqhxrtZmHQE82CboErIBgEbSFaNgABoPlSZd/V4rLOFeFh82qjGgUs07RsCYIeTKh0GwYgmFeTqGIHjXMdGp0AEMEPLkR7IxOwENSkdQRDeKmgQyNDQgYIZDJ0GEUJZHSeipzI6iNxEZHTvk0dJCB3OFwlWZm0bAACeT5EZd/XSrz5xz9Xn+rRrjwd65NmRBd7yAtE+TqAcgvpAcluc3qgTxtG86CwkST0Z1lmc0Qqqg+fo5yHfOhyFwxOqLrSPO32hyLtDn6AODXQGMdjOKfos5F2BAuidAJ7YZbDMtMoNBOkxVlUAAzqa/MjM9f1PL0yvGbzYjvarGmAJgcnUAABIqKZVNHNWjEEzcMWKgxBzld81ikEjok2UOSpSLqZpLRsJFTMi4AYyh0hU0+PqGcfWPXP0AwAABAAAAMTATAQGN4M1lUAAlWK/OjM9v00rRvC6yqAAcfZzmN1nUt0CSsjJRmoUoc0O5nJWwHF2M49dTOPrAOTrDmz1hy9LCNWEioONWSdAmUDn3UM4qE53ZKoEbAY2BiiBiAAAQMQMEMAAAACdJirKoABz9HKviGjHf9HG0tfPKyqAAADEwABBQAAAhggABiGCAAAAABgAAAAAAAAAACGJgAIAGmAAJgmAJoAAABgAAABOkgpOg0AcvVxTXlmjPf7+NLXzs1lUBgmAAqYgaSNGclCQVU0VIsq4hUkFSLKkgqSCriFiIVcQqSCriFlELEWVIsqSCrkFCQVJMqSZswihJFiIWJMoTRZSCrkFVPRqemYpGoxMODv86b4QM9/uszr5yYImAAAAMyGjIaSBjDJsJlGSdCsKgSKhIqESwRLIkrhBdAQdgirhAuEC6IuoSKhJ1CSsEdUCZQJFQiWCLqEygYVAkrBEsEygYWwzoAaYeZ6fmT04wM930AGvnAAxCMAABAAAAAAAmgYABQAAAIAAAAAAAAAAAABMEAAANMAAAAAAAAAAAAAAABA0AAAAAgfk+p5GfWBs8ev3wPfgAAAGIGgAAAABI0AAA0xADEDQABQAAAAACGAAgaAAAAAAABiBiBiBgACGJgIAAAABDMgxEAimJh4vueBn36Sxw+//xAAC/9oADAMBAAIAAwAAACEihzzAwx0Oew0OgIIU9oIsQMpIlEEBBgBQYoJAmOdM4yDQTjAAAAQwwwBAABCAMJKEkQHIuNPMPJOr4zHUEMPjhhAACgBjyAAgQwxzjDABDDDDDFADMKclUOpxrjyA5AAxBQxxCwiSwwgQTTzBzDDjTDDjywwwgBTzw0sO83yAigAgDABhCzSABARCABSQgBCjywRARyggjDjCwgBDBhhyyQijDQDgBAAQAAAjACQAgzSQjAgDDwARgAgQBzwChjwBADyDjAABAgwAiABwDSwwAAAABgxgSCyCAAzTzBhzgAyigAQgiSiAhSAAwwgAADQAgRTDyBAwDygDgACCyTAwABARjBAABgzyxAyAAxgwyxBhgwQSAASABRgACBxBBAjwQhCRijCQgSDwgACAAAghTjDwgzDzAABSwAAhQSwBQRAABAASCADzRzCBTzSzAAzwARwBDiBAAjQgygggAQxChDAhgQgAACAQzBSQADRjTggBDzhTBziATzzCCgzDBSSwQghQzSACTAyRigASQCATCiSjxBCwTgDzwQjDQjBCyQhCByAQRyjhQiABDQSQwiQQhBiQiTQART5DAQgQiAACCACCRxiyyQQTQTByBADgwAABRwATwhgAOAgigBAQgChDAwgxRyRwwzyygDzxiwhjyDgCQggAQAHyhizQhQBACBTigiQxjSgADDBAwBBSBDDAwjygQjwADTwRAABiRzAgCiTQxRBBDDCADBjCAAAwxgSiDzyhwz9TigAgzAjSwBBwBwTwRRCwABCRSQRSQhATjyQxhCDz0TATgywBQADDgAiAACQADQDDChADCzhDDzwziASgAADQBiDRwADCBAxBxSgTASDQgAhADTyRDhQzzxQxBCgA4ggCjCQCAhgwhTjQhwyAAizgxAAgwzwxiCwhBAAAADMQyihAhBiABSTQRAwASCBAgAAzQgwAAgAxRyhwAAQAGABASBCQBBzCixjgDCRjQBgBhCCggQDAAiDAyzCDgQBARCTzzwBAAyCACAwwAgACxBjBDzgAChiQCyDABhQAAAgiBzwRTjBADCzCBAQiygCBDggQARSBiCRDzyxBQA7QQQQgAAASDzxiAARzSjBBCgBxDiyzxxwxxAACxQRwyyjDygAiAAQjSxCRyAARADDCTwgSQAxQgRjQhDwAAQwzgjBwwRiBByQwCTCiTQjhTSCAQAgADQzyAQRAiSQwzhABQBgAgSBSCRzAhACAgRAiQSDjABiwxAgDRjyQDT0DADAhAQBwBDhBRDADTDAAgAAAxxCwhBCjgSRzwSAAIBxyBQwjTgAQQgCAhygSSQADAAyAACDAgxQyAQyAQgxRBAhDQzAwAATQQACCSQhCTgSwTDwzDSSCAAjDzxTwwCihRwgDwBSgQgRyAiATSQggTwShRgAABQBBxgQBzzAAARRAyihgAASQRDgCRDABAAiCBjTgxBCAwggiQRTzwxBwAABCgDygCABgQAgCgwCBigAhTChBACxiThyRTACSDRgADDCABjCQCQDgAAzBBzjCASzxxyQxAhDDAwAAxIjwBwhDjDygAhiwCAiSBBgihyyQAAAgAThgTxACgDzIySAgCQhDyCQAgQBgyQhAABSgixQRxAAjyhzQyTywx4jgTwDSBDyyyRAAihQAQAiBiBRjxigDAiBQATQzyz0IAyQyijQACAgACjRCzABAQABwDDRgABARDiAQQDjg+4DgAQDCADBghSRhAAiAiQAQAgChBSASDCiAAzSSgDMJjBgRgTQQBDhRCARRSCAARgAyQQBAzygxDCCDQSAw6oASDiCygADiRQAggQgCCwzzCShDAAgQwhwQgBAhyz77KSwiQSxwSQBhCgCAAAgCQwQhDTgiTAjCCARyhTzw8oABTDQBgAQQCByBQABgxRRRwARCCAgRiTSSRCBTzwxc8iBQxBiwAABhCDiQBxABCDAAAAixAwQgQAxADjygCpKCSAATCAiSggwgQyiBiCSAgiQCjQyCDzwQwAADyz5qpKYSRgQDiwgBQhSRgTQDCQQDSADChDQDAASQgAD3+8GRDSgwiAQwBSTSwgSiCywDAAgyAghBTwwwjSwTizEuMQjgzRCQQiihCjwjgzxhjSxTgBBCAAzzwhgygTxAzP8AvLIYAAIAIII4A8s8sIgQAAgwwgAAw880wwwQIgFMHX//ACgnPDMDCEDHPOABAMGMJCAPKDEIFLPIAAANHKwa184xQVIDFPINOIIBAIPIGMDHINMAEMPMMEJGIFCAwrg9y068vww+tCDCKBEEAEMBLHIEIAILDHABPGDPKEjHvjww/wDuMJaIAABzywAAAABDgCgAABTDCAAAxzzDB7LL7457IId/+r457ziAAQAxjyzzwwwwAQgzzCEw7TyQD//EAAL/2gAMAwEAAgADAAAAEGeXfcDHX7P/AGye21+7/wDD7PRO88xUPU7Gen4L4Zr3TON40k84wwwkMMMMcMMcvwgy6vckwdnRzNw3u/c515Tz5c484UsAY888sMMMc84w9xxxxxwQg2+ve8z5/wA+PMP8XLFHDPGPLJPLONPPPNHMcfddffPbTDCFPPfXKXbP/wDVzwDijSRzSzTxBjRzgTyW2nC321RgzyhjjDj21nXH1zxyyRzzzwjhhDyxiBgjgCRCj3XXjDgjTxBTxA2UF32CjzzDzDzjjzSDzzywyTRxjyy2iCTjiyzwSizSwh333zzzxzzzxxSzySiAjzyBwywTzjwAzTzDzzywjzzzj3HTzTwzQzCTzjCTxizzzyzgCzjxzxBhiyxyTTzzzzjkGhxBxQjwzjSzijzSxzzwwDCDCAyzzzzzjzTzzzxywAFxwyyhSRTDBSwzzQTzzzzTTzTzDDzzDTzDziBAAzwgygyjAxxjxjChwxzQgjxQzhzTTDRzThyhjzjTRzyTzz3DiwzzBSTwwgjSzSjyzRzxzgRzTSTTiiSjxDjwTzjz1TDjTjjzzQzTxyTwTyzjwjzhDyzzxjSjhBiRizTyxT9ThwzxzxxyiAyyRxzyzRSzzTRyjSjyxwxDzxTzzzgA/jyyiRRywyzTTzxzzyxxzzyywDxzyxjjzjhCRjjASAHzjjzTjXxTiBzyjyxzzyxxzzxjwDTyDDDSwzygQjwADTwTBzhyRz2iTyTzzTRxzjzCzBzDgDyzzhxjzzyjwz9zShxizyjS23xwzzzzTRjwiBiTTQxTRxRTzywzjDj30TzzixzTTzjDxRjzzTwAjzzTyzyzyzzCDzzziDzxX3zTBzzx1yTjDgzhzywzAyTTxwzzzTyxDjTzzxwxBzz37xzzjTzDghxgjTjzjzzRxzzyxTzgwzwxzywjTiQDj3+zzzxQjxjRHWTzRiwDyzjjhATzSwzDhzyxzyhzQCQEOFhgTxDQRzzTjxzyDzxjTDzCxzyjwQjQyzDzzzDDgUPEzDzzzwxhCyiim0zwwiCjxxiDDzyxCzzzCzTxzzQAzEkyRzyxTzhHTyzixSRyzwCTTyzyRxzBzjRjzyzxQU72W1X2DhjyTz3mSSRzTjBzygDzDiyzxxyxzQxxzSzw32zj32hiBH2xTxizygwRTDTiTwxzzzzzjzjxjTwAiTz3wzxzwzjHBy1xyTjzzQzhzSTgTzzhTTzyDQxgyyxw73GBWhzDy3TzDT3yx1XgiRRmySDjwRjwxxghTzyyjT3zwDwxzTxzDTz3xz1DTjyCigRzzzyyjhCjjyRzxygDPzRzxT0jTzg3VyyB13xTSxyTCHzCwCjCizxyTzySwgxTFCxzTzjywxTyTACTSQx3ziSwDzwzzzSCjxjTzzzzBXjzxykDwhTgTiR2DzDTzTz1XyzjRxBBhTzxzyTjTzwHmRzCyzlzHzSwRTjRzjCRyhzjhzTxxxDAyiiixTzzwnV2Bzzjy33zGDXlSyyzgyCRnzzxzyzxDyzyzhzzzwz2lxxyjDzgF3jQTzTzjDzhDzzzzyzxxyQTQzTzwxS3FPn1Tzzjzzz2iziyiTzTxByjjyywwwzjTzzgzzBygAC92WH2zTxDyzx0l3nnz1zQRR303xw3xBgjyzzQzTywH9nl32nXzjzy23lE2zSnXy2nnDTzxjjTDizxTzzzzwNfn223n3T2FAhWH3VizHXlV3nxjTxiQDixTixyxDjkP/X1EW23HnX033VnW32zzRSUG2W2TzgSDSyDxzSykE/v3lmV232V3n03XX133n001xRz0XRzzzxzRjzjTSw3L9W2n3n3nG32V3kk10mnDzzzCShzRzyzzzwShDBh33L/AD19J9999t1Z515VhZZsw9c8s488884o04wc8sc89+jhB1x1pd5Ft519l9FB99118cU90gs484s8ks0ss8983PN19tZd9d1p9915tV9dFc4xMAgY80MsoM0MwE49pM/X59xpV99t99Ntptd5tZ5to4Y8Ms880o888MAQJ9t8/vX3Vl51R5ttV9Z115F99w89E80E48w18048kco98zvV1d19d9hFN519999tpt9sg50Is4oYwU8c8o0898sAfzFd9t95lVZ5pxt9Z9N9ZZ8sU4wYcgAM88IYsoc95yX/AP63XefedaSSZbfbffTaFCGOOPJHDOPPNNPPNPfVcl3/AP8ALDd995tJx9d95Nd49800co8s8QgU88ksAU9d9w/fyi1Nd19V9l1911FJh8hYwscg88Mww800QkY4d5EOuP8A+++//wCffv03033XVEFDQS13RiSyyzxyxzxw32lnz7488v8A/wDw15wQQXfffSBDAEPNaDBNPPPPMMPHfeef/fvvjnvuh3/6/wA9/wB991lBcc9999NMMwEY8811sr59lN//xAAnEQACAQMCBgEFAAAAAAAAAAAAAhIBAxETUAQFECIxMhQgQFJyoP/aAAgBAgEBPwBvryxNjUY1GNQW4pqKaqmqorKSXopVorkuXmq2KGelKkiRlTClSbEz2E9jP3WWJt+ZV2r5MECBBiJFiPSlekVO1dnwphSBAgQYwc04jnD3sWrNxVU5VzbiqPo8VbufvtVbaV80MKQUgQ/s4xtUtq7tqztXbtLbVX1IbS/qarbS7RU+a20364SpW82an//EAC8RAAEEAQIEAwYHAAAAAAAAAAIAAQMEBRIxEBFCUBMiMgYUIEBBkBUhIyQzQ1P/2gAIAQMBAT8Af1fHrJkM0jda94kZe9SJrRK8BWdHJe4SIqUyerO3QnrzN0J4pG3BMJIlFFJLJoH1EsV7OQRCEs/mNAMYjpEEdaM1JSF+hFjRLoTYQS60eDkH0GjxlsehHVmDcE4kPGnD40wM6igjiHygmQ8dK0/KOEb9CeCF9wVYRrSeJGHmQ5ey26HNyNuCDOh9QQ5qs+6HK1H60N+q+0yaxC+xrxAJOIEP5o6dc9wR4qs6LDRvsap4+OuWr1cR4s61LV84JGyaxM2xob9tv7kGWtt1oc5ZbcEOeLqhQZ2L6ghzVQt02VpP1o8jGZeQ1BeEi0uaEmLjz7MJEyC3YDaZBlbrdaDOWR3X4/L/AI/fw5fdy0F2mL1gmiHl2mL+UE23aa7c5gTB2mo3OxDxJMuXZaDc7cPasY37sFz+LT2PEBqtgtfZR4ssG36xutS//8QARRAAAgAEAgUJBgUEAQIGAwEAAQIAAxESITEQEyJBUQQgMjNSYXGBkSMwQEJyoUNTYoKxFFDB0TRg8CREY3Ph8QWDkqL/2gAIAQEAAT8CXIeHvcIKJ2B6QeTyD+GI/pJHCP6GVxMHkA7cHkDbnEHkM7ug8kn9mP6ed2DGrfsmLcfe10HmFoMEQ0uCkUi0RaItikUimip4xee6Nnsxau4xq2i1uGgAGkWsIJgDYXwhsxCJvgc7fl7gfE2J2RGqTsxqZfCP6dO+P6cdqP6c8Y/p37o1L8I1T9mLG4HQwbdzWwgmvNtgpBlxq41cCXFIsXhBkIY/p++DIeDLYboEClItgpFn6YNDnWAJXExcpw7oC1f+6WrwEatOzGpl8I1Cd8f0w7UNyUn5o/pH4iDyabwgyJo+SCj9mKe9KjhBlJGqO5otm8QYq/ZgnujCK8IQUGOf9+oOAjVy+yIPJ5XZj+llweRr2o/ov1R/RzO6DyWdwjUzR8pixuB51OZQcIA+FfEy/qjVp2Y1Y4t6xYe20Uft/aPacVis3sr6xe35ZjWfpb0jWpGtl9oRcvEf2m1eyIMmUflEHk0nhB5HK4mP6IduDyJ+0IPI5sHk07sxqpnZMWnhFNNNKoWMCSsNJO73rdOV4mJnyiubRZ+totf8z7RSb2lMVm9lfWLn/LMX/oaNanfGul9sRVG4GLJZ+URqZe4RZ+pvWLT2zFH7f2j236Yum9gesXv+WY1n6G9I1qRrJfaEXA7x/aLE7IjUyj8gj+mk8IPI5fEx/RDtR/RntQJBUYRq34RaeETJVcRFOZTmGeS1stLuMH+o3jD9MN/Uobgb03g5xUMZR41h85f1adYMhie6PaHgv3izi7RYOLesC5WArUH/ABHlGrl9gRqZfZjVLxb1iz9bRbN/M+0e24rFZvZHrF7/AJZjWcUb0jXJ3+ka6X24ulnhFkvsiNWnCNWOJ9YsPbMWzPzPtHtuKxWbwEXP2I1n6GjWr3xrU7UXr2hFf7MZcs5qIPJpJ+WDyOXxMHkXB4PI5vdB5NO7Mamb2TExuigzb+IAVBQaVwn2+J9Yfpy/EwzBRWKFull2f9wMOZSlWJgGoB4jnMwUVMPrqay6n6e7mUixOyI1Uvsxq14sPOGW38VvCEZ2JFxBHERSb2lj2vBYum9j7xrG/LaNcOB9I1ycYvTiI9meEWS+yI1af9mNX+totf8AMj2nERWZwEXP2PvGsPYaNcvf6RrE7UXrxEV/sVP/ABFf0RP6pu7GJxpKfw0Ljylm7qDyh+tl+cMtR510q1S3cdM40lvAwFOc2LovnE3EW9o+4litZnHLuEfinuXn0HARq5fYEamXwjVDtNDX1ojEmJetYYtQjAike14rFZvZEXt+WY1v6T6Rrk4xfLO8R7M7hGrl8I1a9/rFn6jFG7ce04rFZvZEXv8AlmNbxVo1qRrE7UXDj8Q5tmIdxwidjLbwhxdTxiYx6IzMAUdRwUwetTwOi4ViY1qMeAiWlqAQ7qgFx3wZu+w04xyg2oPqENPRaVu9IqK0rGsTDHM0gzUBpWGmIvSakVFaVxgdc/cghNo3/wD88+YbUY90DYQdwhOJzPMrzma1SYRbV+5hMbm4nnWrwEauX2RGqSNX+posPbMUftiPa/piszsfeL27BjW9xjWpxi5Dwi2X2RFiRZ3mLT2zFszt/aPbfpi6b2B6xe35Zi/uMaxeMaxO0IuXiPesAwoYGsXBhd3iKtuX1hVp3njH4v7Y/FX6ToqULbJIJrUQZisCLX9IrMpspTxhpdzgtkMhDLW3xxhluKdxrBX2lSpPCHlF5inuNf8AUT1JVVXtCHUBVUZVxh8Xb2ZJOWG6JFg23bbOcUunY4KV9aRLcPdTdv0E0FYDzTJvrTfU74q7rXoimfGC5WWmFWIi5xLqw2q5RNBWWbnqTTCMTtNgBugTVKF90a9g1HlkVyh5oR1XjCvViLaQ1DNHFRX1gz1su45DjCzCqVmnwjXJUY6ZrAFQfGNp8xReHHQJgL26XelABUnKFlmoZmqeG73lq9kRYnAQHlFqC7xiz9Rix+3Fs3tiPbcBF03sfeL2/LMaynyt6Rrk4xdLO8RbK4LGrl8I1Y4n1iz9Zi1/zPtHtOIja4CKnhFx7JgGvuPxf2R+L+3n152EFVbMV0lQwoYZVYUOUUwp3QyBqd0NLrSjYgw0gFTjVuJgSycXNe7dGq2SldmBK2wxatKwJdJjPvP2hVN7njSkatva7i0aixkKDIZmGk1GeJzP+osxUUoq6VmKZhNhJrh5Rtu7VNoXCJUs7XtDSOTqBLHHfoZqNQ8IYgzpVprnAesxscsAIVrVmzHzrj5QGm6m4mmFYrNsuwGGUISyK3EaTylRNtplmYaYqyy+4CsLOrbgRWKitN8Bga90XrxhvaTLNwxaGoWVeGPp7khd4EJqpihrY1ScI1Y4t6xqz+Y0Wv8AmfaNviI2u6MeEBqisS+rXw9wOtb6RH4p+nnoomFnbLJYGA51Zkzom0cYlF9pWNab+YzKoqTAYMARkfezTs04mnrFNqWOAMGWhNSo0U0gAZCKDhBVTmIZFaldxh0uwrhXHmSSEWmN28d8MvVSPNvKLSzAkUAOUJhdMrWYa4QBZycUbFjifGCkszJSpgMyeNIlt1lMy5hbdceAxY8TD3z2Kq9qrmeNYlB6N7TZ3ExKmTZjPadkfMYRmvKNwroLHWKg8TDvtBF6R+wh5hvEtRjv7oLi8JxBi9FwrlCMHFRGtl3W3c6X1Q8Il9BfD3C9ZM8oHWv9I0zXsSvh94QsW6VRvjWLWlYmcolqGxxAiWLZaju0EgZwDpm40TtQzBB/AhFtHfv5mDzGJ6KZRKFJY9fX3jvaO/cImcnuAZjU/aOTrSX3n3zMFUk7okjEs3TbdwHDTQcBDKrZiNVL7MFEJqVGENKVjXH/AHEyWJiW1oO6BLsUKlAISXbXGpOZ0GXVrg1MI1WNVNDlAlsrEjEnMmAlrO2daRIklbnbpsa+HdG1qFWjV+aJoZtUgW0E0/3zl6j9kJ0V8PcJ1k3ygdY/gNMxHmNMU1tAw74XoDCmEJJsQrTHGhh1/wDDWhSCBj5RPe9VpWyu0YmFG1UsHZ3nwiewYy1wtJxMM4STRD3RJEtGYX1Y56A1xmOGGGAiXjNw2qZt/qFctMYbh/MCfV2ULXhCOTdXcaRrWozU2aGFHsQN1KtElqqWpQboHKJj42bJaGmurqLM4LzFpcooTT10u6pixpGvlduDNlrmdLMEFTFy60k/LgPOKM+eC8OMFgMzTmidtgUwJwPhz2BdGmFj+kQNwOdIeltTux9IlrVgxzzY+O7Q8x6sJYrbnAy9+Nqef0LT15pyPhH/AJf9kLkPD3CdOb9UL1kzy9wQDmIoOEEA7oAC5CJp+UZtCSpYdqKMABGqF1akVzpAlha24ViVKWWtB6xqTYy3YGsapilrNuphBkO6Ws+7ACNU7Laz7t0JLIpcQaZQJQ1pmb/4hkuYVOAxppWwzJhfcaU4QAw5MABiYMoLJsAzoNMwGbOtHRTPxiWyyi4PSvPjBL6yWW2Vxg0nTWu6INNNusd7jgDSkSQ2smIDsj/MS5qautpqoplwhplAMN1Yks7Au2CnERK1k1a1tByiTUqanJiK6OUH2ZxzNIdrVvIwHRWHewLhVjgIn1aXYekSK0hFCrQQTQEndEkUl97YnzgTsJjfKu/jFxsrb5RJZnuc5ZAeGgsdcqjskmFYmZMG4U+8M4Wld5pFYeaFOIPjprn3QT6xWcFqwWBM9le2GFYkLRMc2xPNbot4Q/Uftge4l5zfrhenM8veK3zZs2CjuhRaPe2qTio59Kxq07A0GghxLoXZYlS2WVhgTifONWBLs3U/mElhBTPjGoW22404aFAUU0NIlsSd5+0ahcbiW8Y1A7RrxjVrbSFW0Uif0VFDQtj5Qpu3EQeTt7Na1QNlE0VlthU7oly1loFHCJattM284DhASju3Gn2hFsUljniYo8xQ++6oEUabOW4UCY+MTdYzWWm3eeMVwrlCvcl0SOhcc2N0fjpsW4nHjE/FLe0aesalLq455c6Z0G8Im9UfD3Mv5/rMJ0pv1e8SWidEfEO6iYt2VKwAZhqwooyHH4gqGwOhlu4jwgSqNdUkjKAS89dkgKDz5nQbwid1Z8vcyuifqMSvxPrPMl1LzfH3qPePOnpzFnI7Wj+5zOg0Tej5j3MroeZiTk/1nQzEmxc954RKk6uu2TWJHQJ4sTzJh9m3gYl9Wn0jSSAMYd3eyg2S2ekCfeakBY5PgjfW2mb0ado0ig1qgfKp++nWDWW92iTcWZ64H+3TOgYmZD6h7mT1a+cSOgfqOiYtlZi4Hf3xOaksnfHtlSWtFFaCGrIkOb6njEtXeWpZyBSJNdWKnzif0Le0aaLdoHROWoGIGMMZusRcCc/CNZMEwodo0rhAZwWDU6NcIV6yw/dWJcy2T0CcyYWYyylJFa5RrZotqmJagET2t1Z/XCCgxzOeiY1stjGzKTwgTay3elKV+0LNCSVoCcBBc6yWtM8TBnNrmlhK4CEclirChpWFJuYEeH9qmdDzETPl+oe5ldWsSOh5mLZgLW24nfAl41c1h0up41hlDChidKXYGJq4zMNLRjoKVdW4f50Ux0Or3hlAOFKQiUxPSO+ES0scyd8GXjMx6QpGr9lq+6kOtUKg0wgyz7O35eMGS1yvdtD0hpROJNWGUJfQ3ccuGhxNZStox31iYpIXCtDiOMFGdGWlopSGRyExFR6QZdPaazGmJjkytqy9dp8YVLamtSd8Vz7oVbeP9pmdHzETPk+oe5ldWvhEnqx580pV1auW74aejPLKrvpFKADu9y7WjLHcIlmZcQ9Mq84zFUhSRU/GTMl+oRMzl/V7g5HwiX1a/TEnql8PgVes2YvAD76FFs39tTAmIXtBx0VgMp3jRXv01Fab9N20BxHND1ZxTo7/ABgMXmsVFaYDhCrTxOZ0lgKVOgmgrwgJ7Iluk2PrzSQMzANRUab2MwU6OXpzHJwVcz9o1aq60z4+8drFqYBmhluIoTlwiZ8n1xM6Urx9w3RbwherH0xK6tPD4GRdMDUwq1SY1boapiN4MKjbRbM/aJSavMGvHQ23NKt0VphxrACmfwXPxioeeakUGIMMQ89cdkCFYMKjRLxea/A2+QiW10yY1dkYD/cSTUvMLYVMSGuVph4mndSNZOeRflj64wxdnYK1oXMxImNMQkjfTQm0k2ad7G0faCyyJdoxIGUPNKyVbeaQtaCudNCe0mtwVoWbfMIA2RvibOuWgXZYgAwzLUdkGg7zBYBgu8/4h5ipb3w8xUpU56AL5pr0UwA74AoIlgq8xa13+sTnslsYkpQAnhQDhzNZRma2tTSvhEssasVgmmegkDfonMVlmmeQ8+aL6mooN2jpze5P5MZv4f5iZnL+qH6yX5+4mdW/hH4X7YToL4D4Yy0Y1KisEKcwDFF4DTct1tRXhGpl3XUgypZN1uMapLq//UatShXcYKArbuyhpKqGYu1MzHJ0tkoPOCKikWLZZTCkLLRVItzzjUS+8+JygYbzDrfhXDfCqqk04D7RqzaVuwhpMxkphhTzpBSa1htAtOCxZNE3WdKq08ItcTbyt2FBTdDK5mq7LhwEA13GJOAtOdTolG55jbsAPKJ7bSC2oG0YV3ZzWiqI1tsua+bE4D7QUcS1q5uwiizLnc4A0ESBcmOQMK981sdlB61ge0vnE7IwUeETFEuRtEk7h3mGlWyGLYtbnAyHhE+46pVzv/iKTGmWtMwpXCEA1ptrSmOjWuzzFUCinMxrthTQlmGAETJ4RqU3VjWLJl7R2jjTvheUSVXpd5PGGn9SzKRVjQb4blA1qbJqLqjhCmqg8efO6p/CG6o/TC9FfD3ra56MrUFcPezHKrhmcB5wZajVgDaurXw5pNBWLhPtA6OBb/XOrQQTOYXCijv3wMh7kiooRorcGPbNB4Rq5da24xReyM9Grl3XWisGUjH+YMqWTW0Rqpda0gqrUqMjWCoNK7tFBWu+GRG6QrAAUUAwibM1ctm4RJlewVW34t5wZeNymhpSJkt9Ym1UnPwEPIFx7TDGNVdUuoG4d0NKOvlvdU0NI1LhgKi5g1zQBQAcBz5/VNEzq28IGQ8OZT3FS4O4R/5VfSJhTYlr0a0JjlLnYlpiSYczJYuL1xGFI2yCzNaKZCJd2rW7OkE0Ea2bRmOG8YZxMnMJksUNOG8wr1JBFCISaWuNuyMjxiVNvlXsKQZ9BVkoKYRPtDyyxNKxW3bfNjQCHdJZ31Y5QswEGuFDjWDNQCt2cI4cVGgAAZQsxG6LAwCDkRFRx0THsHmB6xNYaxUPiRxijtngvDfzCcKwrXKDxHObonwhEYosx88Ao4DRNa1MM8h5xLQK7U7q+Pu5ku+2uQNdLMqzat2f5hBmxzP/AHTQ3WS/OD1y+B9xP6s+UTerbw97qpfZEUi1aUphAVRuEFVNMMoKhhQxSJiXIwi12pdQDhCC6c8zhsrGrwbHFt8auYVsJAFKYRq31dmGGXlDy5jlWwwOAh5c1rWwqpwWCk0uswgYfLBR9bcyXbOHdGqEuXglzxKlJJTvpiYkjZJ7TE6OUdU3fh6xKkSwQo2qVigedauCqNr/AFCgCdgMkx0TLmnKi/KKk8IlFZetJNTeR3mEL6x7yBgMIls0ycxu2Vwpx0OzmW0y+0UqoH+Y11klS2LW1pFRLQcP4rDTqY27AzMCabGdltUZcY10wy77MKVx0zz7J/CnrBK9Kuwn8xci2rU7WUTy18kKKmphVtFIqKgbz8A3WS/OD1y/SfcTuh+4RO6s+I+FmXWG3PdEtLEC8PeUrFKZRSmmn3i1Qa2ivGCqE1KAxhw0TgAtgJJOA7o1S2BfCvfSJ0vWrbXfjDoGllMsIeSZgAcjPIRMS8Bd1cfDQ91jWjGkTL50sqophn/qGDTAFVaKtDjv7ox19zJjZsjxi0pMV2qcCDCljUkU4D4Futl+cHrx9HuJvyfWIn9D9w5izFLsu8f595rCegtftCOTgVoeYro1bWBp8M5NbVz/AIhVUzaDJP5Pxp62X4GPxx9HuJmcv64nZJ9Y5krrp3kPdXLxETJ6KpowruhX2QqoxpCA9Js9L7RsH7olhb5hUYYD05jvb4nIQrTdYA1tDXAfApM6QUVmEnypxiWli037z8aetTwMfj/s9w/TleMTvw/rGguLS26LZrUmF6b7YkYS7iekawJiMCQ2AgcoBFwRyONIBBFRExLBde13jzGlXPUk0plGql9kRL1bVoowNPSDQzUHDGMNLsFUkwlxBC5npNwhVCrQcxTUvMOQqB5RLxq53/xFcafAYfHHrV8DFfb/ALPcP1krxMTelJ+qHBKNSJhvllFRqkcImhtVaMzhDclFq0FSDv3xO1lqpRReaUg3Ciou7PcIVdXLpnQQutZrmlH+KaGodk742qnEaJjhFLRISyUoOeZ84F5mzbRTdU90KBLmzMGJoPOOThheZlbidDzfaqLSVHDe0XzDMVbbRnCPfMenRGHmYV5rs9tAAaVjWNqkNNpo6EvbbjjCrdKVi9qUESGJRpjtgcu4RdMaWZl9o3CmcO02WisTU1At8YUzRNCvTFa+FNGygY99YVruP9pPXL9Jj8f9vuG6yX5xM6yT481dvlBO5BTz9xhzZjECgzOAgAXog+XEw0tHpctaRYoNaRYgS2mEMisAOGUCUlanE98CQgpmaZAwJEofL5QJKLxwyHCDLBcNwygJtXVqcufc7nYoBxP+IlklBX3NYWYjGisDzGdVzIHw34w+mPxT9PuD1svwMP1srz5oULkPevNCzTxwCjxhFtGOJOZ92s1WYgbuYTQE8IeZ7Kq/Nl5xusXd9vdD2pr8gy74w1ooMh/PMtuQuc3wHcPhvxv2wOub6fcHrU+kw3XSvP4Hk2Epcc6mnjE8DVN4QZrawKKZ46Ham6pOQgTTcFZcSf4h5gS3DOJky1kWmLHQ7BFLHdDTLZV5GNMvGHexKkeUO+wmHSIFPGNZKl7NaQs2oY4imdY12dylcvvo5RcQqAdI/wAQyMXlhmwxNBAKBrBwrGsGss300iY1HmN0dwi7YqYmu9qqvWNAntMossY7yd0SS3tKtWj0rE04Bd7GkTW1SC0d3hApLoN7H1guozO6FmKwPdnEx1eUbTmbY1i3jA0yXCDPlBrS4rB5QgBzPgIadLXfom3syyl34seAilq0XcMNFy1pUVPvvxf2QOufwHuPxh9EHrk+k/ATq6tqZwJGANaPuPDuix2pfSg3CBLtdiKY6GqsythNRhSLJiuJtK4UoN0FZlwmEZfLFszWaygypThANdxicNnKtGEOkyYLqUoahf8AcOrzB0aUNacYsd3RyKUOUWEzizDIUXz3w6P7Si5sDDB6yrhSswaGR9YrCmAIxhxNvW0DLONUytctDhQ1hJTozGoN2hyQMAc90WM0mlPmqAfGsUZulh3CFlgOzbz9hFBwhEsWkOGLOwalmHrDywrS22jQ474OsLq9uGIp474lyzrZjt4CGVyrEjNhUdwhwzLgptBB7zHtbw+rwpRR/mFlN0Wl431LxNDORLphmxib1ZlqMSKUgCgA7oDHWzjbXojOP/EawYKBSLZla3DwiWlJzFpZLdrdT334p+kQvWzPL3H4/wCyPx1+g/DPNRM688sFFSdPSnr+kV9feoNiWN7bR/n3di3XUx4/AjrX+kQvWTPL3A69voEfj/s+CVrlB48yVt40zxP+BprAmIWtDCvCJZbWzqnDCmiZtTKdla+Zw0Ojkgq9P/mF1cs2V2mxx3xct1tcaZcwmKitK4xUVpFYrpIqKRKl2b6nj8YOsfwES+nO+r3C9dM8Fj8c/QPgZ3RC9ogaJ92rGNtTieES5aogAMTGzRcWI/7rEkoshcchjD0Mu+tXO/h4ROZtWur6TEUhpR1qCrby5/xFntVoKKn+YQg3FsbmwQf5gL8kxqBRxzrC0UzCMhS0HfG0s5Klm7VMq8NE6llKVJyjk4Nhu6VSGPhAarOBui65EkgG5ul/mJg2CIm01bVFRTKOTKypRulXExZOM/rck3CJpCzELZCsSSXmzHplsj+wL1kzyiX05v1e4TrZvlC9fM+kfA0y5lBnxig4CAiA1CjmlVOYEMiP0hACqKAcwADIRZ7W+uQoBzTWhpwiSlktRvzPn/YF6czxES85n1+4TrJviIXrpngNKzVaYyD5Rj7qsV+DV0etprQ8wzUVwu86TOlg0u/sKdKZ9USvxPrPuJfSm/XCdbN8tGtTW6r5qVjk6APPpxA5jPMuIQDDMmEa5FbiOYSFFTEubrCdk28TviV05x7wPTmyWLywx383lBPs1HzOOaWoKmKzXKkG1R6nROaks8Th6wgUFqdw9NJIhBWhObG4+GiaxVcMzgPOCFoJa+fl/YZecz6zEr5vqPuJX4n1xL6c76oQ3C7jlEtV187DHDGBOddcFSpM2ld2MTmeTybaerkwRNEvWGaQeG7wgVoK8I5QpMs7dv8AmE6C4Uwgi2tq4mFu+anlBiaKMHIqo+0O1qluAi7lKoi0Fz4xJaadZrKYbxCzy/QT7wjXIrUzET2slTG7olGbqUtUAAb4Wa7NKwFCCYvOuCDs1Ohutl+Bia1J8vZJoCcO+JTzJjE0pL+8JNmTJkyzIYAnKJbXoG0UvmGuSbu+HLYKuZ+1IumABQ1SzYE8InVukj9UTWKKoUCpiZMcIlAL23RMc1RFO00coNJZG80EMbFyxyA/xB5QVweWQdwzrE801f1jCHGrFbQZjGkTXKWgYsxpFs8TbROqKVxGUS3nTLgrCgPTpEslkU8Y+ffl5fGSvn+sxKyPifcSsm+oxLodd3uYtmDATBTwiWllcak5mNSlhXiaxPlJWSuJq4zNYsW6tMRo1Uutc/E6AANBUEUMCStakk+Jh1uBETpOspjQiJ4mJJtBArgLe+E5Oiy1Thn36Hlq4o2VYHJ033HxMTFQirbo5MlqFjm2MGtMDAR6gscsoC0Zm4/4jlKhEajkXfL3wsi1FlhqKBjxMAACg0WNdcrZ5iHkl6VbLhGoXtNd2oMnJrtoHMw0svmcsqQZAw2jdXpRqBhRjd2oMkFaVx4nuhkmOB0QQa1jUNcHvqw9I1Smt2JO/wD1GoNbjNNwyPCDIxu1hv7UakWMpJ2szGqIW1GtXwxgAKABujw+GeYQaKpZuES2uUGnlzZOTfWYk9D19xK6P7jEjKZ9Z5hRSytwy8/dlWaapI2VxHedFdBYAE8Iesyy3onEnu5rSlZ0Y/LkOfMnla2yy1M+6FYMoYbx8CTaKmHEy268g8B7lWrXDnEhQTwhNlLjvxMIKKNKTUetsXC6m+JPV+ZiR1a86uiT1Y8TEjot9R+BnC+2X31Plo5QfZ044QKKFXy0NNlqaExUcRCsrCo4xUVp9oExGNAwMSOru7RJ0u1orDtajNwEI9FtXE/5hFsQL3aWmBSo7RppDocmENNRczpaci9/Gm6JnKFVdnaPdCNdXChG6DOl0Buziow74Di4rvGcF0DW1xgkMZYHGvpDvtDuP3MTphlgZeELPRxUBvSNfLpXPjTdoMSn1lzU2a4QJotd/lG+DMfU3W0ZshDEykU1riB6xrWq1yUwrDzJqvLWoJY5cNEqYz3NSibjEuY8w9CiceMTZty2hTaSBduh5gpcegMu8xeL1TeRXwhJwcnA4DOGnh5U2zdhWFAA8qekDrm+gRKwkjwiT1aeHuJHVLEjq/M/ATJioMfIRKIxJrce6J7stoBpXfwgKXKLcdkVLQirrSRuGZ0SnFlKEsekKQGZRNa3axrwFIST7JQRVqZ8IKiZyn6V2vPdBQs2C0tBA84DvqbZctrgsOTqlRKgZVgCgpwETjtIgFTn6RPTYq7fMK8Imzaiks7NwBbhE2btIiOMekeECYjdHHRMqZ8u08YUlTMBvJrhhCX6iwBrjmeFYeSEEtZYo1c/CGl2oVUdLAmKRMrY1udItlslqSyTTeIbanJLGSYmJgtV5j8KAQkopLCAbRXExqirpslqLQd0S1mLfsbRNa1whA9uAN/EwEnIJdqdFaHz3xZMrLNmCnLfjvi5tbtg5bKgRZN1NB0iTXurFlsrVKpypWKUGhZT0sLC3ujULS2ps7MatajM0ygoC6sd2QgpcW2sDugKizVVRQKK+sHERqRS27Z4Ra9KXj0j+lLJY0yo3YQZU5ihqmzkIElxftjbzMCQ9lhfzGZjUnVaskUpTCK20u8qCEB22ObbvCF6gfRErq18PcSOqTwiR1S+fwFqkg0yy04Z8ycrPYu4tj5QYkIVBJFCdJFZqncB/PNwG7SqIuQ0FgoqTzXaxCx3COTLRSxO0cTDIzzhXop9z8AzBRUxIU0MxhQt/HumyPhH4H7IToL4c9sj4RK6pPCOT9SnwEy5xW1j2QP5MDLQS24RIPs/3N/MBhUjhFYmmpVK0rme4RS4CXU2hat/qJWEtfDmk0FY1SzRfMr3DhEuti+Gl3sWufCJLOVN3EwHBicVZ7CcB/JgUphlBOmaBZU/Lj6RKWyWOJxPnCTFdLhkYnTdWpNpOG6ErYtTjTQz2sg7RpFwqBx0o94JG4kekM4XOvlAIYAjI6Kw0xFNDFL6ETDTujk/4mJPtCMYoPdv0G8DDdR+2FyHhz36DeBhOqX6YkdSnh8BV1matRXCvhBm0IBU1MK9xIK0MK9y3d5+0Splsitp3mLrQCRtNTCBMczEQrQ4kwdrlBH6BWExM0cXx8BAmKbv0mkSnvQNTPRcLiN4iY1stjwEP0JcvM4AxbhdMOW7cIuFlxOFIGIB46JrWungTEs0om+2sCZVnG5d8SlR3mOQOlhodwgqY1rGWuO0xGW4aOUH2L+nrBxQgcKRtewWyig/xHKAStLsyBTRKcved12z5Q21PT9Ir6w+M2V3VMEgCphWLSw1MSMoWaF5OqqdvLwMTmNQmNCMWpC0oKZRLcuGO66g8oTrJp8BE7WUqrAcYlFdWtuUSOr8Wb+feTOrfwMTeobwhch4c+b1b/TA6r9sSeqTw+ARKNMY7z9oWTRzMZqt/EWYua5ikFPZWLwpDpclnh9odHvDKRlTGNVMD3BhUihJgyWBqj4kY1gSpqF7KbW8xMklJTDWGhyHjCraqrwFNCKaszZn7UiarPau4nE+EOlLLV6JyiZLmzUxw/TDo80AUtANdLy3Zw2zs5AwJIzYksczGpljd5Q0oEnaIrnTfooOGUWJ2RnoIVhQiogAKMBzAABQaWVXUqd+gqpphvroYVFK0hVCig3aDLRjUqIaXX52HhAFoAG7Tj7mb1T+ET+oaBlz53VTPCD1R+iJfVp4e8ZjW1c/4iXeCwZrveausy4nLIfC1hZpLdGgOR46NYlLrhTjCsGFQcPhp3VP4RP6o+XuJ/VTPCJnVN9MJ0F8PcmDOldsRrV3AnyiVrGuYClxzMKtvOJiXNv+Wnjv59YrFdFYrFYr7x9plTzPlBNZqjhUmJhqbd1KtBwov7qd5yhFCqF4D4ad1TRN6H7h7if1L+ETuqmfTC9FfD3DrcpFaV3xL5LLVRctx4mCUlrXACJrWy2PdCi1VHAQGDCoNYBBrQ5aCwAqcIvFt1cOMKwYAjIxMdXFqsMWAMKRtPu3eAi4YY55QWAFTCuGFRCTVcsBXDTrWLuqJWm+Nba1swAVypjBnywt1YE2tNkgHeY1ovtoTxPCHnBWC0qTuEX+0spuxhXuL4Zb9DvQ0CljwgTRt1FAuca1QK0NOMNNRTTH/wC4mzbCoAqSdBNBUmFnXPbRoDkzim4DHz0B73bbpXh0sIucSqylC7W/fCqda5mHIA90KwM15jYUApX+YLz2VnDUB6IrCmZraFslqY/qJZDEbsPGJK+0xdmKrjjvg7sfgp/VN4j+YnZL9Y9xP6to5R1L+EDIe6nLeZcvianyjlA9k3lDa2aptBUfcxfSTZLV6heESFCpone1oq1tB2jE6XcqimyDiImNUABHpXHDdDS2LK2rIUbhnDiY9o1ZCVxG8w2M2WSpCiu7fE0M6bPEfaPaUoq295iWry1AVMd5rAu30h2sRm4CEDrJGFWOPrEuVZU5ud8GUbCc2Jqf9QAxa5hTgIl3qLbd+cKJil9nM9KFSYl1KGprUxLQrdXea6HUgs4emGMSpTNJHrjvPfBExxaVArnjGqImMaXA45wJcwzg7UwyGh0uGdN8aqaHLCYMc8P4hJapdicTjE04W72wig1q2jJTAloprSGlo3SWtIKISCVFRlFiXXWivGDKlsalYCJWtorx0b/gp3Q8x/MTvk+se4ndD9wjlPUv7sLRi2884YaFYNkecSAND7TKnmfLmFmJKp5mJV9Dca0aleYJuPRw4w101lX5c/IaHm2sooTU89g96sKZb++FFM8znE2Zq0rSvdz2YKKmEdXWq5e6BByPPn9EfWIm/h/X7ibkv1iOUdUfEe/Z7n1a8KkwqhGy6X+NE80lN6RLS1AOZJLGUpY4kVgOhwDZRPBayX2jj5cwmgrDP7K7Kv8AmA1BbLx790KKDTMONpyzaCyvMqxoq5DjCqDMqzG8/LXdF6Y7WWcSW1rM24HRyk+z6VKkCFmS62hoeYqZmGmolKtnAYHI6W2p6r2RcdNYrpuuetMsFHfxhKUpWtM4OAjWMEeYww+URXBbs4ms5YS1FK/N4aNdKrS8VgugrVhhGsl0JuwGcTZ3s2trdkKjjAX+nkfSPUwzWgV3kD1ialUPEYjyi9aIe1SnnzJ2SfWIm9KV9XuJvyfWIn9EfWPecpXlJpqvOFraK5wTQEndElZxBaqrfjEsbDO74H7QWmtKuJtGH/3DiuqNaKHoP9wuXSr3w72Dzy0Tq6tu/D1iYloRTNamRNaZQolLNW0UQD1MM7axmO4ADurBuRGIJxNMYlC1cXuNdE65yJSeLd0TZWAZmJoRGtr1eJ+0MWCLLoQSdomJVtgCmoGGhlvS6pFzCFVEnM1pJyXfCJNDts7R+bhEtXVbQuO9jEgMihCuW/jodFedLw6OJjaEx6JicuEaqtysCWLdKAJUua+xwtwiUloxGJNfWJlQjEZxKooJ1t7HdCKwM802t0SVAN7El6cIlI02+ZMqFOS90S5Q1ZZkJGapwjVPbLl1oKY0/iNQcJdSJa/eJWxeAhrccIRJyhtnbx2v9RKSyWo7sYnfIDkWx8omq7FSBUBq04wiu0xmf5chwjVXTmZhUUAWsPLrLZVoKxqWLS7lUKu4Qkmjs7CrE+kNLat1Km+tIKOZ0t3GVcBuicrtaB2sYmC4yx+qvpE1rZbfbzgYBFtrh6U5k38P64mdOT4+4mZy/ridkn1j3zoHFNFBSm7RQUpQU4RgIoK+HN1aEk0zigpSmEAKMgNHHv0mh3aJzAKK7zSBtEGlFGQ955fCGtMKQsvG5muP8c2ZnK+uJnWSfE+4mdKV9UTfw/rHwtdM2Zq5ZbhAOHMd7R37hBR1IczTWow3e6djkvSMKCJo2ycNrmNtGzzMSlVS9ow+LmdKV9UTOtk+fuH6cnxMTM5X1/BA1y0Gs9nAJtXfxaEmDVBmO7GNcneRxpBmp49wgkTGl4bzUeEEgEDjlBcaxU3mv20M1GVeP+ILDXcbVy7zFpJBbyEVFaVx0q+MzgpzgzF1d+6kGYopVgMI1qUrcIV7st2ij233W3ZngIBSXKuGX8w85Utu3ws0NdgRTOsI5b5SBuMI1zTKZls+AEA0ewUwENPlIaM+MGdLpWtfCBMd1uVaD9UNMIlB7ak0w8Yxwx8olmt7Vwrh5RJmaxLqUxNIIdpyKWFBtaEa5A3GJblmmDstSJb3oG/7wgzUBtr9omlqywGpVsYApvPnEmY7W7RJ+ccPdv05Xif4h+ulefuH6yT5xM6cn6vgSAwod8SpSSlosTy4lG0Y5RK5LLVACuO+JiKq2WdOZ6CJo2TjsARyUHVFwoqxjVOLStCwrWu+saqYSHvAbhTCJC1mTJla/KDoCNNms1aLkO+ANU8y2WTdSlI2lm3TKnZwpuhVmaxn1ZrXDQa0wFe6P6YmW9xxappuENLmsEqFABGzCSTe8xsWOUSZNle0c4lqQDdmTUxOF9JfaP2Eam6Up6RqMzDS5r2saYGoXdAle0vbHhBlPY2VS1fGKTW6VF+mEWcgsVVoK41hEnKz4VJPTgSTtKyY1Nzn/ET5TOiy1y3wyMRaCAsU4RMV2UhTSu+JkuaJVofOgwHGFUKAoyECQhmuzLwpWJ8q+WQKwktEFFES0Koe0STEpLJar3QAa9LyiartQADMGtYcNabTjuiTLKXYUqcvdv1krzhuul+B9w3XSvBofrJPifhZkt2nyz8o/wARMS9CtaVgAAADdoapU0ONIVbVVeA0s9MKVPCJblqgraRu9zde8y3Po+EDAU0PMINAtcRXuroZ7fHcIRrlDUpomzHyQbxWvPacimmMPNCFBvJp8E3Wy/OD1yfSfcHr1+gw/XSv3fDTXYTJQHHGKxWK6WcAEwtEW5sznCDMnM+7JoCYQYIP3t56EMysyY9uGAp3Qoooh2tUt3Qq9BN42mPfpDqa7WWcaxLbrsOMXLhiMcovSpFcQKkQvRFc32m8IlsJs9mrlouImUL59FaQrK1bfD00JO1hNiVA+bL0hnNwUUuIrjEpi6AkU92etTwMHr1+j3H4/wCyD16fSfgtYusMveBXRPnapa0qSaARLa5AYHXN3KB6weVy9rBjbAmKXtHCsO5pctCBonmiZ0rhWGxEuWgwqNowxEuhO0xNBE2ZYMqnhpckm1c6YxJvLUuqFFCf1QrlplBS0ZmFmbDueiK08IMy2Vcc6ZQ04CmFeJ3CNYSy2jAnOJkxqMVpRd5gvWQzN81bRAqqpjtPviQzsZm1VQaA8Yk7V3BXMCdMZWfdUBfOOUbFKOxNcRXOFWmZxOiYWpgKkxZ7GUuIWu34xMpaoUbAzIivtbmTALsCJdRrdg3sTEs7IUAl99d0SHRJap828Q11MFr3RSeDM9ntt83Be6JS2SkXgIcVRhlUUiQdm2g2cKjIxNNZyAfS0VoVAU/692euX6TH/mP2c8wOvb6BB/5C/R8EEUEmmJ36DKLTwzdFej4wUYEsm/NYXWe02CCTnEuSdWJdpHbMalta25LQMIWU9LNmyuh5Qd1J+XdDJdShoRBkA5sbuMGRtq99SOMKpGbV0araY3nHMQJNtbWovCFklUsvw8MY1BMuwvhugyFcbZrDSka3gDlDLWh3iBJHEkcIWUq//MHk8o/L5VjUSuzBkyialRGqlY7PlCy5a5LCypamqqPeeOhZaKSQMfc7czom1ePGJN+0rNdQ500HrR9Mfjn6PcL10zwEf+Z//X8c8xU6RiXNSYNk+81q324+O7QzBRWEdmJBSmgsAKsaCAQwBBw5xmIGClhU7oaYqsoPzaCaDEwDUV0hzrmTdbUc1HDl6fKaRNmCWl3/AHjEypKy+OfgIL/KuLfxCraP5Oj8X9kDr2+ge4XrZvlA/wCQ30D4BJt7zF7OkzaTVSme/TXv0y5l91NzU5jtatYFE2nOPGJebNTP/HNrFdNdDtajHgIRaWLwxbx0GaDPUWvsiuUJtVbjl5aCasxOS4AcWhFtUDmVFdEsX0NMTtE/wIWj8obuP8aJ9Xmy5IyzbwETWKJVRwEMbEuYmv8AFYl3X48NrGsH/kL/AO2YZ2utRat9hA5R7Fpj/KaYb/CNeN6sMK4w85kQu0uijvjk0uySvE4nziey62UpyBqfKEvmzZhOyBhAKB9WoxzgTlaZqxXx0fjfsgdc30j3CdZN8RC9fN+lfeSeUCazgDo79HKJxlBaCpJgGtCI5OtA78SftAdGW4HDjGsGsCbyKxcByh6mlKQCDkdHKaUl1/MENyiWO14UiVPvLiwraMaxJfVouzUti3dWGnIrqu86Q0x6Hc03OGskre2J4mGmlZakgVO6EqUUkUw0TcZWsdj+kCAZiylqdtvtWCZiqFuq7HCJhcLLlq22cKxylrZdB0jgIbXLMl7VS3y7oWqvMLPWgHrCky+T3Zs2MGxeTUDVNPWDsyxtdI4t4wAFnKJe/Mk50hmGuIuABXE/4iWQ012rguAEVlMlzGrHcDlHJxs1mHEE4cNHKNuiDK4XmJ+0US61N5/xDFNbLF2wB6mEwmzHcGp6I7oQP7QFTex8olNbKRF6e8f7iVKmKLLabVS/HQAwmvs50xiarMpWmYz4RND6trRU0hBqpQ7hjEtWxdhQndwgy5lXtYbXrH9N1QJwTd3w8ouWyxFB3QeTl+se7hGMCSmsMzfl4QUnBntZQGNe8RqLSCjUO88YkytUGFa136Pxj9EDr38BzzEvpzfqhOum+XvFREratKnRL9pNaZuGyv8AuAGl5LVf4gymPJ1Ug57QETUdpNqCmWEagghlIu3k98CWyPVcQ2df5gxLuJZjvyEGXdMRty7oZHvvUrlTGBJO3V+lnhEuTMXsxqaTC4pU8dExL0K1pXOGlqUtypl3UhZQqSxuJ4x/TS8MWwyxyhZar48ToEmUuSxqkpTH1jVLTf4741KU351rvgS0qOI3xQVrSLVrW0VhZaLkoFYoOyI1Mvhhw3RqpVKWCkWrSlopw0Wr2RBVSa0FdFiW224cIp8N+OfoEL10zwHuJfSm/VEvrZ3l8GTQViUzMlxz0l2/qVXcEqecHBcrvH+YZgoJOQEA1APHSXImAHI5H+z/AI7fSIXrpvl7iV+J9ZiX0531fAJNVzke7vjWprLN8NOQBu409Y5SbZXmIllLQP8AGiXNExmAGA3wpUTJ7ndQV8I/qRq3emAyPGP6gC3YahyMa6h2kIwrDz1QLdgW3RfM1i7ga4f5jkoY3TKjbP8AETgZjy5e44t5ROprJVzUAxiXML3dkGgMLTWFq93iYnZL9YpBBI6VPdV+MHXTPAQvXTfL3EnJvrMSvxf/AHPfzkMxba0qcfCLNuXTJQYWUylqW4/Nvg8mGJXiCBDI70rQUxAjGGFQRxEKJlKbI8I1Oy61zNYMq+3WUwyAgoC4bgMIaWrE/wDdKRqk4VI3w0tWYHHhCy0TKCu2rcP8waQotFO+LVBqFFYsF93p3QecJiFioYVHMDKciPjF62Z5QnWTvEe4kdX5mJOT/WfjXcIP+8YlTC9aoVI3e6cnBAcTn3RaomSgoyB0vtME3ZtAA1jUG4D4xetm+US+nN+r3HJ+qHnEjot9Z+ELACpiVN1gOFKHLRWJj2y3buwgZCudOYH2yaVOSj/MICMWOJz0zHtESnYqL6VOWjXJQGueUa5La/bfCPdXAinHQutLFhQBvm4UgBEYY1Zt8GYgrVsoM5NnvgNTWHeWoBElw1wAOBxPfH9QKiikitIadZS6WccoLzhtWilRhvhrqYcdExn1iIviT3RMLJLYjEwvTuDMQAa98ISVBO/GFm+zvbecBD3U2TTviWS0tSeENMoegxiaTq8MzgPOJh1MtVQVOQjWMh26dGuEJMmV9olLjs+7TrJ3iP4iVnM+v3HJ+qSJHQP1H4MEEVBifaxSWWoM28BAme1e0VqAYXlLasO0vOFms9Qi0IzJ3RNvqsstWpXdljDTAJipmTEmZrDM7INB5aJxYzURM6E+ESrJclTvPqTAmuJDTDiScFhA1i3Z74NBiYmbRlsw2a9HeYrSddMFNnZhg9ZrWNiAB4RI5OJSDe1M4lSQg/VvMIuMwnef4idWygzOEWzHRD8vYEWzdbdb8tF7olSGVGY4zDX7wsqYhyB2QB3UgSpqs2VT8/CFkzQmruoMdrfCSmFl1KIMKRqSZ2sY5ZRRmYVyEUevSw4aLSZqngP5iasxxYMj0jDS6yrBhhCSlTIbo1FDLoSQp9ImqzLQccuMDwpBHefCHBalNxrBl1tN1GG+DJ3g7Va1O+AjFrnNaZAcyvPl9Od9USvxPrPPORiR1KeEcn6oefwUxA6Mp3xJkrKQKISXQuxxLGOV4ISN+zAlJLWp+Vf4jk6vqK1oXx9Y1SW0474aRKt4U3iOTpbKyzJProVApZt5MLKRTUDGNXLrW0V0EBhQxhWvOJ2mbs4DxMItqKOA0MwUVJwEKwYAjI6FmozMActDMFFTCOHUMN/OJoKwjh1DLkfgpWc364k/P9Z579FvCJXVJ9Mcn6lPD4VmtVjwESmvlqxGY50xiKBRVjlEguQ1xrtUB90sog7TVxJA8dM3F1XcMTCraoXhHKJjiiKvTwrEoZm2m4eWhj7Qk5S/5MIKIP8AvPRcuOOUB1IqCKRrZdl1wpxi5agVzyjlJJMuWMzj6RrVR5UlPPuEYQTtChyzEVETzs2DNsPWCyoBU03Qro3RYGDOlB7bxX3cn8T/ANwxI6LfUefN6t/CB1Y+mJHUp4fCSuUJMJA/+6Ryk+xPfQQZqykUUJNMhC8oU/K2dIvW63fTKEmXFhbQg6Nd7dkPAUEDWTJrHogYd8JMl6skdFf8RJmGYlxWlctJnTTNl29EnzI4w7uSwT5cz38IDuZ1oGAG0Ylzb3mCmyu+Jb3pceJpEvlDTAbV3nwg8om2PRRVa14QZntVQDvbui++cFVtlMW/1Cka2Y3ACGmTdgh9p8l3CJzDYF2R2jwgPrJgEs7C5n/EXOylw1q7u+JNZjMTkGr46JkylVXF6ZCBL9hRMSSC0FSZdktW41MOl+rFj2DOAJutMwy91F7otmJM1lLiVphujk8jVXEgXEwcokpbczdJsTEraLTOOA8BFK8o7kX7mHTXz88JdPvFrsXdWyWgIGcK3J1l0WhJ3byYkpZKReA91Iybvcxyfq/M8+d1b+ENhKP0xK6pPD4LlOst2WpjE2/Vtb0qQJFJaKDQrkYeVMmgA0WhrXOBKmIxKkGo+aDKe1bSK3VJMaoqysu02NawiFak9InHRLlWs7npN/EGSCzG40ONsf0+Fl+xjgIWURnMJG4adRLwpUEb4WRaxpMwJrGpAODMK5wJKjC5qcIEkBbbjbTKAoUADARqk1dm6NSla49+OcapK5QURsxAlSh8gigApSLRGolcPKCiE1pjop7rVqTWkNKlv0lrFKe7ZrfHcIlK+ydYa3EkbqRyfql5o0T+qmeETOqb6Yl9WngP7AzBRUmJc1H6Jr7ysBgwwNdDzFTOsA1APH3OtauyuyDQn/UTpjrRUpXReLyu8DHSTQViW96BuZMmKi3NoDAkjeIVrmJGJ3d3fHJxST6xI6pPDnz+qeJ/UzPCE6K+HvWYKIMxwRWgqcuZOm2DKp4ROm6sDCrHdzZczWLcOOjlDbFBmxhch4cxWDdExVTttj2F/wAwi0qTmTj7yadoLuzMItq6A70J1Zq+APdANB0DFfKJDvMLt8mSjQ8xEz5hmCyYVNbRCr0EGQGMLMQz3xyaGe1GamUSk1UslukcWgz7ZUtmXFt0Nyg9ELt1ApCli7KaYU+8cn6od5J9TD8ooaIK0zPCDP2UNmLnBYE7YU2mp3eEdfORSKWYsIYhQTCvNaQ7gW3HOAJciXT/ALMclZmkFieNBwiROJZZajADaPPn9WfERyjqZnhAy90Y5POeaCTLtG7QjFpjOegMFMLQu3zY12YM5BmaeMNMApnU5AQk1XwG7OF9pNfuND5QNue/6c4D1dl3jPzhWDVpuNNDZGuUJMmrKWkrpZY8Yb+oEyVVhtNiBupE8+1l+BjWTFrrLaUrhuiS85zUii00TjajMd26DrBJoo/ce+Aiyl8BiTGuOrDW4noiJbMyKSMToZrVqYdp4MvEVZsqQ5JYrdSnDM90XzdYksbqXmEmO81gOguENMmtNdVNFRcTDtMaRU7OA+8LMZ5mGCKK+NYlOWvmE7Hy/wC4Xanknhs+UTZh9pt2hIRn1VZmZ3f4jk9olqznGlKcKRJmGjs7/s4RMmXoo1pJcgUGQrAAVQoGAicxSWSIG3Pq1aBcK74nlJj2F6KMfGFZDPZzu6A3mE1glOFU6w1JgWmTq5e8eleMS2NoVVN28mJYtDS6GtTjE2lZQOV38ROqyUAzP2h5T3o6lcBke+NRiGv2scYZWUWJWrZtCgKABuEf02yyiYba1pGpF99dq2g7oMk7PtKUFMIWSqYqcd/fBQMKHGCoItphCykXHfxOMLJXVXCoJXGm+JPJ0VQRUVzxz587ofuET+rPl72e1ss06RwHnCcnlIBs1pxiWliE02jiY1BsevWOM+EaucGNAuO+uUSlaWlolm7ed0JKmpcBTE1uhFmJcqrWrVuMFJssMLuk2e8xLQS5arwEKL5mspgBRf8AcOtwpDy7raG0jKNQGxdqnjlTwhuTKTUHxgyUIYGuO+BK4zHMAUhlVs+NYmJepFY1Nesa7u3Q3JpZ7WGWMarEbb4d+hkDDGsakVrc1eMajbuDkE5xqVBwZhXPvgSQuTEDhCS1S63eawyKw2hXGGlS2apEamXWtsMqtmI1EompWvjCykXIRq0uutFeOgqp3D/60kKcwIoOHwa/8cfREvq08ObXROyX6xE/oeY97T3E09EDpHAd0Sq6tamp0l3M7A7IwI4150xxLQsd0Aw81UKjtHS0y11FuB3/ANmX/j/siX0F8OfN/D+sRO6I+ofBJVpzzNw2R/uNZLrS4RcK0rjDN7Vz2VoPEwtAoFRolThNL0GA38YlZFv1MYXlFwdrdlRWsf1GxfYbd5jXGouWimvjhA5SCHa3ZGR4wJqllUVxjlVSZSAVxqRAu7hEsXTJj/tHlEh2eXce0aeUT3mq2GVeH8xyjoD6l/mJt1uDU/shyPhA/wCP+yE6C+HNJx0Tc5X1xOyX6h8DNa2Wxh1ZZFq9whkZnlezNi7oVJ2tdymJwGOQhZRE1i2Nw9IpExSyMvERLVgKWqohZVZFh4Q8qYy2XLbv8IeWrKFOQMTZOsINcsoeSHtvNabodGqpWmEaravu2t+hEOptyNIRLFVeAgSdqrMWxrGq27meuNQOEEe5d7fE5CEe8VxGNKH4pui3hB/4/wCyF6K+HNY7TeOiZ05P1RN/D+sfAkAxl7hXDVpuNOa82lbVupnANQDxHuCaCpggMt83LcsSVKS1H/ePMl7V0w+XgITKvE191Uc0kARUQ01VNMawpuFR7h+g30mG6g/RC9Ec1+m3jofrZPnEzOX9fws5yay0O1Sp7hCGqKeI0s1qseAiStkte/E+emfNMsLTMsB6xOmhB+rcPGJcmii70h5iIKsdKzGoHYi0jKC4Ftd+XnDzpaNaTjGvU4KCTwhHurhShpE3E20rTEj/ABCYzNs7QFadmA4LsvAY+cGanGuNISaDL1hwETJjah2UUPfCJgFuqBCzUKFvlH+IHKQbTTZbLHGDOa8IJZqRhCGZeVYg4Vwg3bNBvxgkKCTuiWbJLTG31aEmTaS2b5t0ayY0xggFowr3wr+zuOOJyGcSTe7NYemcTChpiz8cC2z5QhQTlEsEDGp4w1aGgqYEyZfQlPAZxMqzy13dI+UHbnrh0RX1h5kwOwSUSYk9Unh7iZ1b/SYfqD9MDLmzD7R/qOhuuleDRM6cr6vgwk7XFmbZGQETX1aVz4CJSTQGqgubMkwxmryQYjEACLWSzbJfhAabMmzEyUbx/Eaq4TbRQFKDv74mzLhLWhpUXnhTdEthMnswyUUHnomIZ89RWiy8z3xNRVCYYBwTEy+aNkbIIw7UMrzXBswpTHRMZlGytTGpKy5WFSpqYZZrOj25fLEuTtvMalxy7hEqUZaNjVyakwAJUvPvMWzNnboXO0ISW0u6gBqa1JhZcwLMyqSTd4wJNkpgvSpnExWsQBDQEYb4ZWmSitKCkVd1tVaYZmNU7SdVZaKDzhJWILWimQESpJRpjE1doRKXEmpOcY1z8omLetIaWHUhjmIEs1BZq0yjUjHaNCa0jwiUlqAHOAgC2iNW5pdMwrw4abFvu30pBGdKVj2zYWhe+sKoVQOA9xN6p/CJvUtzpx9rM+o6D16fSYfrJXifhNWC4Y7hhBi26dLTdLxMTDYjNSOTyykoXdI4nQSAK7o5OtJdTmxJ0rOlM1ocV4e5mkXKpyzPlCbRv/8A5+EJABJyhLrwxJxBw4e8ndU/hE/qj5c6cfbTPqOj8cfQYbrpXgfhpkxZa3NzCAcCNL7TWd1TDqtyKoxBr4Ac3Wu0xLeiT/HMnIkx6MNlBU/6iQtslAeHujObWKFGzdQn/Wh2NQq9I/bviUWMtSc4JCgmJDTHZ3Jw3DRUcc9FRxieRYvAsP8AcTC7OirgX+yjQS1RhhAIYVBic9ktjv3Ryg0lHjhDsFWpNIl2NNWxrqdJubP6pvKJ/Q/cOdNPtZn1HR+P+yG6+X9J+DvW62orw0JOR2dR8sTBfMVeAJjXpc647OcM9Cg7RgzSS4SmzmYU1VTxGgt7YY4KtT5wheY00rgCaV8IlPLudV3ZmJc1XZwPl36eUPatOMLs5kBmwUcBBmotRvEa1bLjXOlIlzr2ZbSCucLVp04brhXyGWgkKKndBmzQbiKS6ecNNaoCDhWEm3M1OgN8a86gzLd+yIabaUUrVm3CNc19mr2qVgTZmseXQEj7Qs32TuabNcYD6qWjsMTgqwZzq0tTL6XfGLTZqg54HwhZql2RR0RiYmTHm2S8KTOG7fAUKKCHa1SYlrrJzzHwtpaIHXuzE1GCDxhl9kqby+33RM2rCBVFaJaMeUM7jNRTuikWzNW5+ZolrbLVeAiYhd5Y3A1MPLuKcAamGEyuzSkJLIdmNMRSg0Cu86Z/V+Yidkv1jnO223jDzFXDfwEDWtOb5dkd8aka8VZjsmNSnePOCXl49JfvFaioy9zXnyuTpLdnrUmJr2ISBjuhJJQJTpDPvgB9YWwxAES5LqCuFCak7zDymaYrXUAWkajpANRTmIrTyiQGsq2bGvrCSqu7vvOA8I1b4i7ZJr3wJRVmKECtPtCS5klbVAOOmcNYxbHZYKO+NSusQhaBamFlATHfeY1Ti3KoJ+8JJdL6P08TAksrbDUU58dExL1p/wB4QZV/Tb0whJbJdjma134wsmi2E7HCNRgAWOFKd1IWWA5ckkmEQIWONWOJgcmTHabHpd8Dk+wEc7IGEGQ5KNfQp0aQZFWvMw3DfGqoTbMIrnCStXW1t9Y1aeda6bVrXefgJvRH1LE78P6xzmbaPjCoqZDzgda/0iPx/wBmnk/Rfheac0TkL2DPnO4XP0hHu+UjmmaisFJxPNZlUVJhWVxcOecBErb1YGS4nx5tdLTDW2Wtx38BEpr0DEe/ZmZrU3ZmEqUWudOezUphz5nyfWImdKV9XNMHM6F62Z4CB17fRoZi1UTzPCFUKoAyGma7DZSl1K+EO51a9pqD1gIAyKMlHOlzQ7swqdy0hA2LNmeZMexSYC0sTNybm5ooxaa2Q6IiWKL44nz581io2czhEkWysTxiRc8x5p4UA0zZolrU+US5dzK+dPmO/wD+IJh5lUWzN8v9wOjbL9YAoAOA061b7QDwrAPA82ZOSXnDcoljfWFdXrSFmo11DlGtS26uG6DPSxiDUgZQF2NWDuxMSzcK3HhBmTbxaAVOFaw8ybLtLUxNKCFd9YAy0BBp5aBM6xj0QaDygT/YtMLCpyWFLWrtVZjXwEayaZpRQCBmYAfWdI0GcM67ZetRXwEcnBsubNsdL/J9UTOnK8ea3Rbw0r1k3yiYzf1DBWt2RUxSY/6R9zAUKKAcxdrWHttTyETGAnLX5VJ9YQGlTmc4JoyjjBKrmQIwOMTOgSTQDMxQNJU2bT4CsEpKRRuyETJgloWMISyKaUqMtLlnmG35P5/+IllLiqtVsCxjXXMyoKkGFmEay8jZ3w891S/V4bgczWJjESGbfZEoVVOyBh/vSZh1yy18W7oaa2tEtFr2jwhpja0IviYV7pjqMl/mEd3mt2Fw8TD7fKFXcFqfOOVNbJamZwESZerQLWuh5gaZqabqseEcmkqS0w4iuxX+dHKmFEQ/MfsItLT1uyCYCHc3rLTPM9wgTXaYtMFx9BoMXtqZlv5lLvGJlglrKQ4E0Jg3TZqqhoiZnj3RLl3TZlppLwHiREhQDNIyLYeWgSC3TTaPSJhlvnYLUSh//ow0ltU+9mzgyyZRSWhWvGNXNVtmWMFouOUCTM1LLZtnEk8YAdkKhSCcyY1U4ytXguGcS5bYXUFMgI1PtdZdjTDuhZdGuLVOgSUDV760i1eAixAagCsAAZCLErWkTdq2Vxz8BzHzl/VD9ZL8TzX6DeB0jOftUxz4YRydXVpk7E76HhFwtu3ZxLWc0zXO1FpgsS5x1c2aSTwHhBdpXJqs1XpEtllylBep/mJLhU2q3cKRRtdrGT5cAN2gNU9E4b4sQm60V0TUvW3dXGJgessqMjDSGYq1asD5Q8qY7IxK7JrSNrfTRNexO/IeJiXydFmZV2cfGEl23cSYlS9WlN+ZPGsGQbFH67j3w0l2KsWFwOA3QZRfrD5CKTgKC3xgV3wa0NM4STaynxqeNYscOxUjazBjUtdUPiekYEgAmjEA5iBJK1CPQcI1ZR7kFaihhUzL0qftCqFFANE9VbC0VbCEwazcAKaNWNbrN9KDuh5dxBuII3iP6da7JIwzG+F5LKXj4V0hVAoAIoMqDRlpnTNXLZt+7xjk8rVygDnmffu5VqWE+ES0IqzdI58xulL8YbrJfnzZvVv4HSqXmYPlvx74l9ZO8RAloK4Z7o1CfqPcTAloFttwMLKlrkogKoyA97MIE5bty1HiYlqcS2bY8wz+yhK8earqxIDDDPTrvbasCvE6JblzM4BqDTUGGak4VrS3DxMSwdpjmft7lmpx9IE1Cbcanu5myeGGMVFK7oV1bJgfg26SecN1qeB5s7qpn06ZX4n1mJfTnfV7idVms4Cp/wAc15oUgUqTug5RJe+Wrcecz0dFpnEx1Z7K4DMDf3QASQWwpkOZyh7QBXPf3CJICIzkW1glUBJaJsxlQsorhWscml2pU5mJr2ITv3RLSyWB6wk2iS8as5yicbZZa6lI5OAJSi6pzPnFy3W1xpWHejS1A6RhntKjtGmie+rlO28CK9GuZicZiioI/wB6Zblw+GTECJTO19aYGmEDa5Qx7Ap6w7onSNIVsHnzMvkHdEu6xa5kQer5RMHzYD+I1a2KhGVPtA/5FLaUQ+fwbdNPOD1y/SebyjqJn06ZPz/WYl5zfq5pa6YwzNaKn+TBfU2ylWrUrF81sFtBHSMSGM15jfq/iJbM8yYa7AwHlEmY7CZMbo12fAQjvQzGOFK0iVrGNWOFIlCsyc3fT00cmHsV76mJrteiLmd/CEltrcJxPaP+IS+bdc2wDSvGJA9n4k00IsybNaYDRcgd9IlWSrgQbrjuzik3WhymFMBwgK7T7mU0HR0zZbzJimmCH1iYkx7dkYNWnGJqTZluxgDjjnE5ZjplQCmHGAbtxETVYmXQDA1MC7fSNUomKwA3/eJ0rWAD9Q0BD/UFt1gAi32wbcF+8WVm3HcMPOJpa2i5nAQ8u+WVJ84WW+uuZq0XDzhkJmK2GAyMM1oyqeES1ZZePSNTCJZLAgXJdhW41AESUKrtdImp0aiXTfo1aBAm4f4hqkYGhhZdpqWJPH4NumngY/GH0c3lX/HmeGmT0D9TRL/E+s81JRWYG3kG4wU2rqkGP6dKmpbE4isalO8cQI1EvgacK4RqVttxpwrGoW20sxHCFlKuVfWNWla0h0uFK4b9BVW6QrGX94PWL4GPxf2f55vLP+NM0yOr8zErJ/rP/RJ6xfpMfi/s5vLf+O3lpkdUsSeifqb/AKJ/F/ZH4p+kc3l/UfuEU0Seql+ESOrHif8Aon8X9ggda/gOb/8AkOqX6tByPhEvq08BEjql9zUcYqOIi5e0IvTtCNYnbHrGtl9sRrZXbEa6V2xGuldqNfK7Ua6XxPoY1yd/pGuT9XpGuHZb0jWjst6RrR2H9I1v6H9I1v8A6bxrP/TaNafy2jWH8to1jfltF7/lH7Re/wCUfWL3/KPrF7/lfeL5n5f3i6Z+X94umfl/eLpn5f3i+Z+X94vmfl/eL5v5X3i+b+X94um9gesXTewPWKzOyPWKzOyPWKzeysVm8Fj2v6Y9t+iPbfoj236I9r+mPa8Vj2nERt8R6RSZ2x6RbN/M+0WzfzftFk3837RZM/N+0WP+YfSLX/MMWt+Y0atvzHjVn8x41X639Y1X6n9Y1Q4t6xqx3+sWDv8AWLB3wFAhetm+XN//ACHRl+Oh+i3hC9FfCNSn6vWNUnf6mNUnf6xqk4RqpfZjVS+zGpl9iNVL7AjVp2BGqTsCNWnYEatOwItTgI2O6Nj9MXJxWL5faWNZL7axrZXbEa2X2xGtl9qNanajWpx+0a1OP2jWpxPpGtTv9I1qd/pGtX9XpGtXg3pGtHZb0jWjsv6Rrf0PGt/9N41p/KeNa35TRrX/ACWjWP8Akn1jWP8AlH1i9/yjF7flNF7/AJR9Y1j/AJR9Y1kz8k+sXzPyvvF038v7xdN/LHrF03sD1is3sD1is3sL6xWb2V9Y9rwWPbfpj236Y9r+mPafpj2vEeke17Q9IpN7Y9IpN7Y9ItnfmfaLZ35n2i2b+Z9otmfmfaLX7f2ij9v7RY35hjVH8x41P639Y1K9pvWNSvFvWNUnf6xql7/WNWvf6xq0gKFyHN5fnK89BFQRxi1u2Ysb8xosP5jRq/1v6xq/1t6xq/1N6xqh2m9Y1Q7Tesapf1esapO/1jUS+/1jUy+EamV2Y1MrsCNVL7AjVy+yIsTsiLV4RaOEUHD++8u6crw/6T5b1yfT/wBJ8q/5J7gIp/0lONZ83x/iFTAf9JN1k36jo//EACsQAQACAQMDAwQCAwEBAAAAAAEAESExQVEQYXEggZEwobHwwdFA4fFQYP/aAAgBAQABPyEV431LlLUH2i9V9k1T8EW3nvFNDi9H7k/pqB0v7wX+8R1+KI6l7QVBHLKzK9L0r0FGzH+/SUMrHdMHRbOOUbTxjwTzRZpL8S3HRVQPREd0XklvWniX6p5jtUxAy5vnEyHftKtohda8xcZwStubTbYlRbKwBdB1IzbMVw0c9dPRU0H+PcQdQfaKaweFFt3zFN4dpfEdsx5VE9kR3fEQ1+KJUqC8jnudXoqXF6HXpUoy+YIqWnPCpQS/bDsYjUxNLCM1dzDWNikuJ8RHe/JMG6ezHUaEBrBGDTRNY2PTfrqV/wCMnYi+vxR40eZF9xHY+yLaY7aQe194llQGqJc2ZUdZUQqV1OtX0TqYrQSVapKYKdfeQXVntG/MMwyaj3amWPoPpno0/wDKX1+KL6yTwi+lkVo4rYxBwqCl1EkHMKeOldK6qlXtLtkAMFdPaVKleh67SvoEA6fwGK7DxiPGeHKdPezPP8xjueyf3KdU8RXr7SMpuMdxPJUE/ugmje//AJKmqe01CSt5FaBHagWiQPD7wW+JayT3TwlSuipUbgY5g9bWGLdnEqsSutRIer9hxLoSKBSX2+e47SPNpTp5BUp1TxSc3sIy+4+1yrVHkYL/AGTnfEx1j+0o1TwpKGgRx/bZxiMOfySjVPEm57aMqajFWqnkYNpm7w0Se/8A41zDqD7RXWTMLbz3idAjsv4jtmUgHeJQjqo+0ZY16V1B1znTVdBMq1cMn7wUyBYqmp9PyE0/6w9W3JxZfeO1V8pZ1HjHTCau5S6kIOofaKa/DOEFcYlGge6L2L3uUaB8whNX5JXq/iOX2klzR/Kc1PdOwPechy7MeJHhqA6ZYyYOU6B8zQ3PZJTq/vOf4ssa/FKNQeRnZQXRPeU5/wDEuUbhNfU4R4YjQI39hBaKhN746E98P8DVhkQPz1z9pSeH9z9ZxELv2hn47BABQAeiisKPghAaWfPqStg4lB0SKDHVmIdQfaL6/HF9nzGqjwIq7rpg3C3mFbTKd32Z5nvKNb+BKtfySnUfdDs/aX7kracu0hxWeFOwveVaJ8krm+0p3feU638RTr8VzkB5UH2QTSQeSX/4Jne1D3mu3oPaOwadPlmgDnE7YgaH94lVTkA9utPDav264FqlfOIKOBXx6qbYZ+2kdJ1Artv9CymvwkC37L7vpz0v1b2i38BOBHhZwH7wlGet1R7xYAqxFDc+SUat4Zz/AGWU3GKDNPacwlbz7Ev2/NQDREW2ljx9kra3tUp3PDK9faRhQwvaZsqe0H2QXQNy/wDHsPcb50gRkYXaq+CUBePt3hn6flTT8dAdA5O0oHXBC1h1XlYoUDT5lIHJC2NYdm6Tx5ixIXS4rvA1ddieAoO1st83+LlTRbBL6xhdRF7/ALCwLso0Hbn19lnUoJ0L7QoOo3/UuX0qIXl09pfpJHY+ZrGrk7s8ReeAo9Fy+ZZr8UWfxE4BPCwBp8ky4+CV6J5JjoL3letvEVazoXZ12g/9p3WW/wBM8x4WY6H7zfPtSlwXzGPP7SnVPEcnyE7j9p4Xk6YNo3vL+opLDiLKAaFn3IuZx9ky1bdeU/fyx+LpZZQgLq+0sICU095dR+DjpMFHP3HeMxsX9kvVlXvbSZwRDDaotsBZ7MYnloraoaSPOF6TU6QODFBocjtLXlFxp+1zCDSrDD46Ey0C32i+gg6jKNNUbcoVVEUctQJy1Dy0j8lA+SaTL2Un7sHt1vbWohBfLcqirZrfERlMLzwynBWcdKgGDKSRIQV2bTGFrQsOer2YG/tpKXN8iO0Wm2jXx1Z7Y3iW5BoMC/qL6/BEcpELazTIGacDHYfuSlwvkmG77yjW/iOX8sTSwjwPM5hLDWnFTwzhH3S20eH5QB3/AGqX/uT9bKNZABN/ob/D8z9/frfW4gq2r9VWui4RRDvAAoKOOjULHEFlht4iFIw0+YFax0JqR8qWBc9toDNjTmIpl9tAmIhZU5LYo9YGe8NLOM7DaCWbC7EFHYqjsGJYZbSzdi1ZpT8cRULrZ3elTsCX2gbVJheqkS0e9HetZQRuv3OgnQGVrvxKpFghwywLB1d03mnQKjsaCA0/qGW4JZu7EcRSK+51cXJoTRlg/wCKgZttU5jWaWyG+IkBFVNQRQKmsAGzq5vQjJoWucGiLUPXQWgZccSrMXkqfrWcZRRp9hlfLzAcn2nj8p+9ypOjn49Nabej4YQ+1+76w4stXjeCg49Fy+dJnPG0talg1sqla+ikIOWNWOh9WmlpqMUAafAqWYGGCjBAF0Vbfz0QdQfM0IPBAFaC7zSRLv4iFd5AlEXAc112xrA4G88sGjN38X+0ctSG5SAD1lOHaAXEPzmA3h9iYljyQugGIXRWqd6GmwGjVB3WjRcawFO4ANWAcGiEK16OBzVvATK5qLwbwRpebbJilVD2DmUHWoV5myS/xL0AprW1QyXr6DWLN3z7B9D45+M+N1EQa2C4wGmbMX2luuXtjEATOfMDjs/eKBbpALQHLAQRs64j1VPg1gEDOktR1N+T6A4aPI1ZUeb+S/Rnrcv0ZsLeORlMItttQ9y33LwOPrOHjJmk5l7DToAMgWwO6K+0GA0NO0Wb+BDyDoiVatQaKRK0mPZMR1ulwG1ao7dGRaaNGtSpp5ZS7uKuBOAkbNsau0syKPc2QAHMqhsuYpo6HWvS0JiH9Yn2T6H3P4ejpNDQzDYcNtCogDSC3mIq7QVAFDBw0VMLu907Jb20s0xtcqyaoPFw8rXHoZxd3pWsd6qDN32ghadLzGl0apvWsxOHmaQTFlBXOIQqjMecxEl314I8AYAZtzEhvgDnEadK4OTqHpDvKzRUqKcyujV6P7mbL0PfVNreRr5QsoDiZmYsuXCdw5IvpfVazoQCwrFjxEFz/RGWNmhFZDHyNHRXShk8u0tS9ayfXyf+x6WM2n67eln0Z+F+J+h29Vy4BQJ3IqUhOIBSE4SHUQdolHHeCY+FxW8XXHCoaizTuBzzMi71dzcoD4jmCRg0BGAtgKMcxaEGFTp8NEKrvA2lRQcJaclQcnWyRdRbJgE1B53mfJCvnqIasi7toN6vYtDpDq2aPBvKQisL/ieOmuWGLWm7A3nTXnZAEtZMAQJXAbEHEN7D/qK7snuSLNlByCVCCaUN7LNMnuTtNJMI7soGwHBbARYIekhb7SsUze9ArymQ7GstByQbY1i+I/5R6bdv6Of7yqA7NAeWIC1o/uUejvTBfUCgb0MwNU0wS+xJblxUMNeqDvFuwb5/T99gpzpPHofRrv1ia/v+H1L1PwgJhbt3eV6XLl9L9beIeU9IGxVze94gUgnCRVFsNGuiC3BFVKjLdLUBlFXQZ3khYqq+R3i3+njaAABgIJJg6KIXcvZxBMsSrWniNJomy1ptFdULuxzZApK91maEJibZShZ5mJgGYNKwRSGBh3gi6U+JZ1XiBoTxIHiMHCl/MMbAbuImq7jep0iUAxwfAlbLA57SoZQl+0Cbxr30+0dERsvrUntd7dX2gV6tQtBN/Vh58wPwh6H0Z35g7b90fUsaS9fr3L6XLl+gksCruwbrguvc/wCJQ9KLWsurzXQqmy7rxEEpCnaAAujlUAGccnS5aiGzy4Pt9VSfRqOfyRZf6HoaK4CBxR9G/QVpsuoserkL8/Xrrn0XLlkuX/k/bT9TvN/oaX6ZYOiNXkanZavaXsyLly5RGwt/Yl9L0gDdhIQKW1er20RWsNLL/Z1elqHzmCAyvh1EpFqymhU1lhN0Tin/AC89Lly/r/i/mfuOfSlej9TvNT+9y7U4h2+6NpQ7UUHdlkcUt3tLmVV25YcJaDXysTVHLS1S4rA1loMRDZRMVtmVCLcLl6NTRb3Q0pzKrCgaNZdSqLghk40usCjOZQojA1zMAQOxtvMiNNPsxkdVfZ2lyoNQ18w7U1PLMkIgytUUbsCHQewEt2r8zK6ruWUxdW3XI/59dc/Q1v0zHj0q+u8/b5n63eZIRZk4iIszQCggEOwFdpnpW3tGCrEyONYIUcFUOEJ2gtulo79Go2522x0BrwU6d5baXUH4gotvPYbSxnD2FRGBo1vEfMikJlLxDRmLq3SHY7QffgmASGxrcOD26aI9UNcwXsIyAiBfMpKzHnCO1qvYUdoJmRmnOkvJuSOIWQOqn3lJyryq30uXLly/8W/rfpd5q+hneYTfd/l6Sa3fc/Tv6es8g+IADQp8fRG7JY5FmQxrhtcr0kZaB1uXLly/Vcsut/rfM+jLjFhMaH6K5cuXL9D1OMzv0WoLlZOXEfXQXR0QGYJYxdYZYVaShVgvB13AwuvHS46FqN+PTncCDLWlzeAe6OWVct5OTqkAFwe/Q2Wy/iaTNaXbYR9B61BuwgyD1C9Mm3KPRfd3zYbwYnde5omZcuXLlkuXL6imkbbq7RAxFQjb7PtNF3/j6D+fMO1/GfZ/8DTMsIS278EdSTVfcZnL+tG1atVyVLvQlKpSnk/hCl4LOwu01aMRwce8vql4XkdpZyz+ulXcNBdoZ7lBPzCOAQtcOZsJWtswhsDle4YKBs67WEEKoreowr9T2BhCobH7bxemKh3ZlyGp0FvG45diPqWC+SNae4W2KRcCjdnLIohwNq6AnJJR0smo7iQADBGNtG4q3DVHlxKTVXYn9vXTWFHdw2wEoLFmMmCALQEESxxNWBfRrVYeRVAorrUaxpyu+mz3nvLTPN8x+726Eeh6/eY48J/Tcf4xV4b1KUpNLItVtWlmkemNlfdFGlbqXhTtLet/TtNpyt1y5qNI1rV3iWunCVOMovWojxmre8sFolfMdoYsdoGcMOTfMwg4tBNHENKsO8pCZtG8UsLCiAQ5xDGcwi+NX6EbEF6OuNbm1FaLrVHjendih6lDWjyzWUeSorsd/wA2xaM6Sjea53RKTxU7aR7qYvdZiuXOIMI95sheC2aQFjelOsYA0/Du3qy3lKpe7dLUrMsuL/RKsokPfvbdiFDeEKULWz2RwkNwau9oYWju2D00wydLBMVXBFY7Uv8AbaVAL8wjTVryHaViByFiN0Fwc0gF6C/n0V6Cx/fpMS7JcuXL+g947+wwb92WVd/RvrcdQeSHwGhPXk9Ll9ARaBfxLnLr8Q+i4lFaDL7RRSSwGafiK2qrL+elErrnmZmYTARwk0ACjjidze3t/jMUvHd4me8mTjclk94HvHijnQNDUthk/iBV77ra/EYdjQ7MxZezpt+irlbTTSHRA2ISOzHmUII+4hq07YvBHVBeoo1PzHUNuvpYVjtOECkzhAKpgE7RCUc0NeIZulHx9B4en8fQXobzV1mGy9DN71cUbJFoHEVQobzsZhFqorg3ESQW3vdjS6mVwEXQLfaNuVMOdGUGlb2EvJNaLszMw1jhEwzn4JkJnLVYALs3rQgcxAcYdoIu1AGbqL+yBQuhWisr4mSNDWStJUoQAi6IH8TDI8MEug10rULUhC0lKqZaaEwQc256KEs0X8So9Afn1Cxuss8RTEuFgs/noqOrXkghSgBXd7/TUr0izuA5rTrerSocqiiHm7Bp0P1O19X76PvP3uYaHjrv9HLfzRCUhXEXvPZUpKKtMcxBIXRGoWJTCpVr3ZVrSm8wlQ5Dd1MtDWx7awrbcqaSlyGOShEKrFDuhAUSbcNcxBbBQcR7DOr6Wa3zE6voTRzRxN63YMukQNfxqvfosd5wdoR6lyrYXFxcBXF3DkIKKcrGP8ukaRppfEI+sCjhcFlMaDgzEqjeodocnVUDW42kTAgljbR+3EHTxdnKFbALHd460d7+BMpUPHfRBrM6DBgEbPY1lCM/zcTe8B4+rRY0WfRpGOugc/lhqnf8n+Khqnj3QC9me79OiJFII6jAChR2xAWoq28E3mYAVAvUhrBEgtaS9A5SUND8RpETDBj8CWy/8xYbRae8KGoE+0hyaNCtpRxAvQolTIU+xt0YSwWDxLKRRUVabRldgBViFtZWhZuG1a1BdXsTEj0TWVv/AIH2E/dvz9DMH6E0Dn8kzLlwX7N9F/Syh64VaRNp+au8PW45sA1t1uX6L+qyk1urw5gEMOfRUdanvM9M9My/Rfov6GG+39Bkf6qaDn0AFTS/iPRUqVK7zPRLUvePatNHdlVaFaUfLArTfFGwS5cSbUarg4lQAaehjABdqUG7A4cLcK/wVXNi+AgTtermX/Hr1/dP0H3H7EyT+h0C3QX8QuUdjYlEILP3h3nUfE5ezAmljkZjdZOxvap5igWtHQAawZ48z964MXW6SCBDd/BB0XnWr66CQfMqK32+luIMDATHUkFL2RqYFCp0nAldTMtlsuXL6XLly+l+gBaAX/h6/U9RpuZfQ/QcTRSQZKYmmwlNKjkNgeNzFYq77JfTI1ZxKnCLQERezN6lYxWgofZNtPb/AJAeVMfiBZUHQDJ0Tzp94+oPyRlClKWAjSSgot55iQBp0xXnoTczqPYhSqu9tqEc7sTygD2vbvUGANE48zLoqGSOtG1UZeZl+17KYlGa1Bg9LYCrhxlcAOhlC02YvWDkA8lfno9cSvXbLZcuXLly5cuX/hfouZu+h0cfefxM3M9a8e3lr9BFVg1nPoWAdX/2QWWPnOkxS2LhQ6NVhrSFRpWq8xwWbg1VQWRzZzOEdQsPaJXlm7Kh7R4qxqGzwI/20YbDzAG8GjwdN1vGxxH0WQg4Su6hIquc6XX0WhbpHyQ1B9AZnNL9FfSz9B+7/MNbt+jn7n8fQYl0AW21y+quvv1vFxOaSJaco+ZavmWXLly5cuXLl9E3V1Yx6DQ0FvtLt3QfeCgV4U9kCgDb+Poi1ZShyN5SEM618OqgK4CAKXrO5/rMCiuOr0v/AAH9fM+zfRRV8D+3+A4LdIALlR7FGXmmHllDkYJ10zGYYQjHrVw7CMBSqgO8p+1SuDppmC/MTG6Ne+yZCXw7zWVIFWLC6CAsbNqhXshe9sTMos0m3aL11qKjBKV0mAg6zpZ4JcuEcMcZwzAFTVpB0e12rViFRsn6uPo2IpWhGqugduZQQDQ1ZFJlaN7pl3SVb58RJFOQqvxNBoreWpQVAKC1yjRxdriBQG6IHmao2taFrzO+0aDSexYYqGAMzUQLLQHV+tv/AFlmv+hOfO+7M/8AASmmtKA7x7lCnsPwlpMpfKk3h9t6z9/dIn1YlGiRRL1JtDxA21FV1B/ma6z54lC6OzEqiCEOBheynfy0xd2ugqWkdpwvYdXzDHZ/NIXQmhVwht9o5rCEu1rozY6d1ZlrZmK0LSU9o3HWeYQ3K27xM13/AHxAijdTMKxTzgNSFZINbL050ijboDsbShsHxC3GVvzEZUU3zqjEBVWvTEFzooevciy3Uv7asc698SNokolVdpkVpV3Je6O3HRkab1hrV/Zm0oW+iBpe7OxgPiBJZYGGKlJkF7qWy27wBqWLFxtfL1XL9Zr/ALXBm7fQfh/OJ+hv6Lly5bL62S/o3K0seDPovrVEHK9WgbMvOB9RaF4neJ8vob+tW87fWr6XwvovfqOZ+H8ur9KpXVwLn2lQiGxmZmLRbpEvaXtwuX0IkjqGKGwe1ZFuAuaYHsIFAG2PiHeYU2WVFLbuNSgiorbw6aFsIAKoBL2QjU8zF3I17RAloXpKXV5q662C3K+ZTc2q12l/5nf1e30PjlD9Tn11K+jmbUT+Y6NF8HMSEVE4jLkxrfMxgdMNrjGi8Bc2RU+pg57QMVYC+6xdsvgajOhA5rVhe80dRiGXU+mHudpTpQOoTgiJ112ys4aQyWidn9YXbY0e8siV94RXTFS+V2lwitNEqLcx0MHeHj47opDGnNMS0yeV0lt9SEN4qkFA8a9Lly5cs63/AI/6naGl9dn6/afCD0Erpcv6KGzqdagCgL1PiXt+9UZBLqhU06bzSICpN0h1C998QzSDbpjjoNQB27y7Zj7o19LDi0wOZYmrL3y+lUr6Vy5fS5cv0/vtiZ+d9DNf2r0VyHNi87dM+m3iXL6KMuX9J9eMuA1t6GGu1R1t/L8XL/zaldP3+CavWGazn8Cfe/hKl2R4UTBj7Q9Gka3oPBMMVQ15ljZd1r1ePQarLCEO1bxMv+WP99cRoLq5rW2fv0rpmUdkPYzM3My2LCbAGsyZa8mH+JcSg5Ae6UpKMkWc9ACuhl9o5+0YNJiJd0eaEvjbo+TFzo1z/heNfpHo1X6E0P8Aa/Wz8iMsf0Eq3p8BBPT8ZJYEgNIYbD0Y75mEI2GoWVKUWSt2AV/hMk2GOI4d6ZLqYcAwq13a+Yh2bS9Tv3gd2PiAaaozbnMdCdwAo7kHaGt3CiaUMlTLlI6e8vG7XlqYAlBq0Ex0UJfOnTVW1hOaiUMfD4Smsii9SQZIt2Br5jKALsdoyh8qvJS9XL6XQbpZ+6bYasKHlb/BrFRGovTvKBjgLa9YQpd8BqwsJaJzbMnZWBu7RkW9J1IDe+DksIiDjy/0QTSIK+WCGSFEkzoD/hFvVjMUrRfy9O5cuXLl9L+oeh3JrufzeurYc7vIoHYfaB8A0u7Uyq3Fm9QBuRW92a/GdYoigdtC9D26a2KuyxDoLQUdKkY/qDCM0zVBdumCWbcm47RraQQ1fKNIUyy1TtCZNLV4gdXZuPiV2QNiNJUWx32ttDYhSKGtYg+7Qc7sG1boeCMpRoGi4uleAyeYOCgKOiTpOqLGt9pY3HQnnzNBwNN3iXJNuECDGq0N/eNFUbaVjShBvetxpY4pmbi4UQBnTtNPlbm6VL9xwqFijsR9ksGK3F4e0ypOjwtykJRW7LvMZwKPaABQo/v69SvVz7obRb8Xqtq6X0uarn8s0vPqB0dv9czL0ErdS+sz0zMz7pjGXEGrX+5cbjQLXxKJ/DTbpfVDry8j0vh9LfKcxGn5Ye/0rl+okso4iw7vGll0+i2aoae/qc+gt9pxR+6jDddfnrkZaxpUNU0XXmGh5fvB6azo3JrP0WZN+9/4DBdWo7R0Zo1f3azPwYBe9dKkx4g7Qjrh5l7MKC96mEnOuUaJDUGZr/ZemeYKrS6+ZdEA0XM1kFyyotot6NIboS5crbVlhcZqtS6CCJd6xZtiDULocxA4mNxmWgrWLvBtFCzxMGRwzrEn0Bw0uCFl28x6BFJ/XMowWUKtcBFFbL7oRc5rhLEFAWhZ5TUxpFQrt2ikNg+a1jnYdrkGrK3YHFcVCswTL2SigBUXnOMzAwZrpmnERo7tvW8cpi4bmkOw1vcZq1YU3biJovMdneEYRZbRuJNqHZb4l/2CPEXWdvuLD7l9AN59rN797/wBbZvAFrNFWtaK7ZgAzeprCWHvMF4mbjhcmbjvWsCNWrGrzEcxqSYNGY66Q9njHwP5cNKfuRivxZVKBCLLZTYl3xKY8HxFbPNzYIXMOmMAuUNagzFnaYkhauglwJ7wxjvNZTqKzUsLJt0u0V+IHcHphOSYbxqu2pgKKr3GqwABxj4lLC9KbDTtSr5WCi2dRumk3CNC/B3l6Gguhcs4XVNUtbZaotxHrkkaBfzL6xS+uGEpzDHPN3JU0gC4df5lNetUbiz4uajOrcKAaBXQeLeFKMLr/GX3mZVtxxPxYS3eXpVINOO8ODY+7gQCDo/zMksegrF94ZuiqvX+Y3jEqlNIwnMqWr5jLsdSZPEuQglIQEoO01LC23Ymag6dfANExkFD2+t/iYTP5vyly4suXL6361Gs/BcvpqwL0uX0uED/AAOU0YNsEtPHTx0uKgZaPfo3vmYqmUVVFcVACgBwEKMGnRRa1389GggNVYN6Nj6B5MRwpxvF7SlyZjueu/ot3oInVbrjYeipUr0fdoFDP6JiHb68POmM/wBj9e48dWxNBULAJcNRbfeqjtnXJCga6u19CgoXS1kWMNRZbcQK9/8AcuXL6GyaAtfEbNpqTVP7lF7mvXTFlocrEOqhYNiaXd9xJSyUYXX/AERVYOypQGF62R2DHlEPyR5YNa4hfZqNXwTejEJO6u3v0NMWwdqiCmnR3rqZRCILsI7L0mcoLPfpRUEs1OLl6W+wsUQjMaL94EL1AKvSKVYNZL7fU9rfvSD1xxv3e3+CdXS6Lii8wQfpBm6l7hF08Pi4aUoIKS/QuKMtyt+YR5qaFCOuDSF2epdlYq3WvslchxYfE0faugoXBacXOa4Kh3fk8ZpY0QUyptRPCZIqDQX8yoSXahymD8zJ7rZ2uaUaT3xTpxsbV0SvQfeZtsbdsfEq759yCzZ+9Uq7LOHKO0qqhhGtveFm6+ZfWlnhAo3rP7CYnu/Yr+YgSgLXxCRWweUyTRatx3iF1xJN9phjWzFfmVIqzwxn3/wH+4MDDTvjvGuari+03uR8r0V9D91xFUPd+sq7Kio/vSfZ/p3Ll9WytxeBMzFg7Iaqv2lTOSjWe+swpow9oUPpob1lssMDSuCYLaDF3W8zOWG/JAai1QFsEBoXw6HquPhsla2XeIhgyctGtSIAGlLa07seRAQt3W0+PboF0bJeu7L9QMSlwU1Udi1EQXhdGNIsii9GNJSlFVsH9dKwk1EhwADYl9GkR0YSAA0Opg2aglBQYJlWj5yeJbhW3IBKjDpfDeUubMfCxDw4FHtMzPRn0XLl9HGvhPzDQO3puXMvJmP7NJiPbLl9bly5cuXLjTXctXZNN1SNVr6Ll9Ll+jBvA8V7y/TcvpfS5f0UAq0GsLDVObZ2lzJwOtsFQPeWj/jgdM1fyhA9FTEUv3f8TDw+rr6kGqEA5t7Mt+xOYei0TYxpBFCqtq6srr79KRVoDPtLDliJwMtlstly5foF59ApLly5cvpfp7X+3ogEZfEXiEKWuNubHvDpzFobthAdwX/jfi/kml3H7w1+hWHmegN/TS7Yqm0qC3ctxogXBzKD1vXvPGpKohdY7TDBtT2ejdwGqukp424yPBZ7wM1hDtvMga0wI5A0d1xElBvC91PPadwsaw9danDKi5c0guzOvaXFc4NcS7xx3I1TxjS3Mv2++IFQSllxcr2A67npolN028x19wL3dY3HwmC5aVtLQsNkTSRi4Q2ABrcGiTV2m3MG1Z67xnmMkIWDNH4QqC4BrbAnWg2gr0+FMA0wDoj8SiNVaGM6ZgzLFTOrtH7kSwP+pZWIpz3ly5csl5lkuX9L9Bw6IPWMXNfnoRfbJXTf1k4Yoe0JiLrQdmMGluXHaDaANCgZ6yqAC5SqrpmIsOL9u8yKQV6obSh1iptwWNq3J4hNUjhjTEuLWjuytF1OL90pVmGrf4g1XCzVU7L4tl48nxK3GUvmM/d6vxBUK+niNJhvaXvDZZZLcNwFCt+RWeY6FnmBuZrt03SjBbFL04lRtXibhu4qINUtM8nUGtJFjIE1MPTFlg0avSDEEgnMryiCEbkuswQ5P95WQGc1zg/EqJXrS6XxExBcojxqE0gdPjsyq5f6g6z7GZpKMt6rX6telztEx618h+8Sex92F0eJf0LhJN/YDaXLly58QAooOOg1kmlnbpcuXLiRWg1ZqXDgmtbbsj1qwK1ch/bEjNpgq66rWXSWm0PR9ptGsuXcmmCBYgDG179Fl9L6VhVIrZDlVeRS+zNDksLrOsvrcuLVoICu9ladb9Y1gmlnbpZfpyx6/lmvwfzD1/uOZ+459C19NEuE7GPEqWANb6MU1aB5ZoRerXfpUWheP4lyz7xEUK6qZV39KAoK/amZmXC0C/iOU5Aq9oISEex3ZThmtXz0uCjASx44mM5ZeX/JVHHQihKK/lVcEQcm01rARZTS2iHmKB1rbOkH/EXpFiQqg8wuyTkel1KNZKju4JeauDmUDWZF6y4oC8cRaaju7uCKglS77xCK0GV8QNE9+3z5hTAFte7Ek98YNUSZOM7xcG3XtcGOdxxAxwqGi3RA07yPclnPAcqNUazveAnYKPL0Aon/ADl4z1/rcT5/5fqAipyvM8LZhaYFvtHncbVadJY6cheAEOWJByiwlSqK5ut3QQAot0BvfTFjTggzq3QAbIl3AiGvAAUinS2W6kgvS92PTY2W716Y8a2uaQAwqb0rxECq7XDyyxj2mLe8BrSy5qYC3SahCgOLxFsPWBT3vaMNBdWgf5gWuld53lJnK8fd0vQNHB8TCo1DrQd5Y7ezRXmOKBoA1ERWhbOIZj2RsuBPG1R/pfyoxNz8Myrlhk8HHS5nsCnIHtzGyrXheYsSC6jTf+JjsVqiBWmZmpfcKLYsHCfI6zO9X82qdiYTolSV4bdjXvGi46wO80Er28QbKmssMut/A0mEnMWqwKPiNMTBmMYCUSrd2MxhBQuf1zDRulDl0Q39ABeXoKkdn2n3n8fQ+1/YmQpr+X6yFrTr3mOMSoUwxXiIIiCOpFbE5DEAKADgKigU3V79EHUv/XS4uhXVemJt3DSpog8FdABQA5PeX0BUhOElYoA7EJVRce0K6tRGveXL9Fy5cuXBlF2C+enaeOty+o/Sztba9JSFDo7W4PT+5wP0UaD94ZqH6HTMz6M9cy3iW8dbly5csl9Fy4aeXQd2WB5NPPozNWmuRYsjWe/6Lly/QNCHQvbvDIWNu4zp6LmWhLTjiYDrgV29Vy5cv/C+7/hixSev91xPtn+C4y6QBaE6UbsIIJGG49tY0WGtrhAaN/IwZVV6a2IsnOI8QNBoXtFShi2/sRiqVgH6aQRYJoukrLNtrzKmYrfRU+GYDLvaTW0WB1zKRYHTe4RW2VIlJFoVaDWWYAVtrs1KwNs51TMTIugMwJPg2LukWm99oydp9klNVBa3jKlqrWoGqqrwuU1U2Op9oMmBBguvDGfKZZn+PdNmiXgTMQTArTBFAt0I9VVL+Yg+F8QqirUrylhK/JC+8KwNKDMrVd3VyglxSFlO/wBQz7WT15l+8T9Dsy+p9V6Fgr5ig2rvWWLLwrvLfWt26sEAD8yzCIMkNUJTwem2DSNnILQNyWMAUZDctJbx216XDiY8NNZXgNCxg3YGtitNmWkMxHr4AeWVGG2z5SmXsG6ZZgFlenMLQ4XaEApBdX5j/r/uQxcmpT5I4m2FbQxlhd8YczNcQV23rGBb1vSm0CZhwrX3lBJKO+F4gbTUzijTEeDKxLJAgg2n2IAqGl1UmAGAfiETergQQSlTtqn7QfaCgloUw8WsusGqKa1lDofmWLqHyzkYy8sGlsbUmD0cSp4qIOhmV1CMZtA3tKmfVnrb3/w6fPU6TMpG/Mfb/FpBpK8RntyHaExQKDx0BNCoPFwjOCPS3RvsijOqWdfomQXvG01gAGhg9ug/Rh30KBhVgN5kDa7HapcG0lAfdt6rhNWd6Lq+Y1BaYO+/+F9pOfageipXT46TR9l1r6GZmZmZmZly5cuX2jmat8f1nh1LlxG7Fy8Xe5K7RB17pxUsly5fp06doC/iNyn+gTec6grRVXXf3lvGlvMYWb9xOlwZgRUtioJWP25mL+8XEq/wAQ3d3p2goFHRnjpRnVtGwhiVgtuhbYqlYMGH3gxRLQq3Hj6ef791Pun59N9HSc/3b/h1HsP5joA2dwTL7wpk4Zkn6BgklxShctlbn7EGx1pvjia5i0FjrwveWccTYaz/ABLuPyxxxK7UadFRZzi4iu/IEv6j8co7ku1Y9hKkgQq27pMHosDdSJHRlt8bQHPjfriMuClDhi1p7Io/iX5xsqIrZHziwiAP3NVwBxEWsUY2VuddmZhAPhnB57StrIYa1595auEwMU8QQVASq9f5gIuhlYp0zHGEKqopzNt3y2sQte7qg+spVEqB2DNLAZaJbzM80VEC77m0OHNTMQcmgJZLJcslnS5fX9NyT9feHovqt4PuM+4fn/CL/I6KPqcOVK2+Vo/7lidB1oFTCP3HD48xd8NyDW0G8VuRtRZUWezI7mZm0WNXrAxfqNKVxGdguOM+Jd3tb0qujcAmYVt3mJVm6ml95WFM9KZd46d5VCtOeYQG+3SABKvB0xLdyJYneBw3djqrY/Za6Frog1KTXJRMtlO1tNdpmRfBjtFgJp10EEQM63m4uCfqIJQs7wxpitiBXFv5+jge0Vt8DiAVeixaypT3/wCYfZfn1s+F/PD4f26X/l3ALE/mMG4Gnt9RKkTdIMF79L28Aaqy0dKau8PRsANV2h1laJ6gkNJuWXrWqN9ego0AWviAAyJY+etmbPs6+kYtqnvESLyAG7FGPflU14NNvKYm7deR6On9az9Bz63puXY+4+mpUqVKleqoirhfN9cglFuwmejTUH+5bLYON/VmZmWy2ZdbcrCNS+q/BAqa40PEX2l9pcuIOi5ZKS5UPYlDhXd3TAGTyuIrGIYW46CEW/cE5HDPv6NBZetb0Swu9ssK+FDyoakH8X+3RGWWf7UrRWwPMo0Ul5x/RDqlTQqtg9u33SYiUW39yGVoK9lIMqXiRrX/AGU6Zq5dsRCP81DHszvOiFKa1d3f+Zi0pYNvMegkLaYx0/T3+g5mX6GJrux9R/4Uy36aFe12NYRyByMDQm97mVGv8URFlHgEFJjBfNQ+wTojoD8GZhqa6B2x3Mw8koQ3YtijJtYKNr6KBboR8NCj0K0CFip+R8SrYt2CK4RyOI4F4gvAstda6eWV3KmXSiB1N2dQlyVS3g1Yirp8tsRBlr0Gt5f9RN6Kzgl4LeJvbFlyvypl0mZQJZRuikYrCOCoe+utYTxC15bsatptDnO5iTI5rUbDtDqvuvtpaKsC8I6G0dUU0HUQhf3bWA6ZhALrXAmrFRYc5jLaV3leqsW2g0hTT2FQwbKlPfEE74hlWXTKdcBtA0sytMMTMKc9TCN5bbQPAzAtmYVRbvDHNQDC2UvYcTKUUo6FP4gUWukznzMYLLwpz0v4H5fo2fYvxPsvRPoYRZDW/Q/8GdYdS7yA5v8AxOcYDNXHeaoeDN3sMy/0RhQAzZshUK6GsFnBQfYN5cjga7mamjcHSoMFgr0MpzGeCjviioG/d4ZKnmZZD7HEFHCmEBoMS+L+JeFU0L/CXaWrKlv36MKOffWL8bI3sriLgso2X/JmCajU6jeCVFyCZtC6q/E+4isxJXNSEDWgXWjWY0s8qvwgXt6piWBpSUcHxAWwXkIAbDdM9M6i/wCUAFVjiUfHUAvBbr/hH6nL9BbHf6dIsncfaXLly5cvpfSyXLlzGkvrntUFFoFvtDY0l6oK5Hv+ob3SLwQvdWF8QxNBZ7y+gvY/eNpf/jH63LPsfx9bPuSzTx+D67RlwcyvgFWnYTEzd1aCSpW0Ed9ktFNQrztKzVQzl0S392sQKi74MzXc3zdFyQx0aviOFpdm1rERyornBbQMra0bpbVCumawI4Wru8RcWXXWhSsRFBXIC7+0xSob2Xvf1fEYBZyQugu+mZbLly5bLnhLlxYMuXLly5cslkuXLly+t/QXsT1v7x6a6Os1f63Na7ur9Sm6v9FKiAAPmYRLr5YVymwaYh9qoBnJywaF1e9TJ1YL8wQVAVdlxG5gFTtXM3YHeixFvd1DYveKKttUjnsQFFurtluOFsGA4SMKUva8Fy8aDYcakBYQYPkH5YOALcJqaqFDaANXs38epGjWD0Xt6taeu/8AgVKldalQ830+3/GO/wBjHprpvM/1aw9Wf8W5fotDbwGsUneA8y+l+trVZFwJRgWXw9d0YeQ4h6gBlc/Xu/q/e/jKK/vHr3n3P5egL6bly5fW5cuXLlxs1AX8S9rdD+EuUjEVZ8m0bmcksly4Lkux8EWoHWGhW3XQDLpwVvEFh2mlhLLq81p2ns8Bq1xCk1LasajtBZsagc9ByKTNNkLV7tlal+AtT5gU3e2jZlum6kNaIZYMiYZuJ+rVqkbCBVkK+0JEdSzebANG6a/fpgiX4Q4jPUZtr3mWec3h8EoFEaOGNrq7lToQYBW6LqVyW2lkFLgh3mU9hh728LFK6NpSdoLSaabXz9P91wmr7vS9fzvzPkfn6v11AtQO8LAR0SMKI63sQy/JjoYxrB4UmqcudiZWRWk/vESRuaIDEMtL0DeWQPk26VD/ABCb04TDlj7qVJqnBmqhgY1yjFSg38S9GYzYvaOlnE666+8SK7ENv9sDa3S/EvyW89x4jVSaPjAjvFcYv5j263hwd95YWeI7+Zqax4YNprAahXFnzwOoEpsc5avtHsWge7eYgpohmXI09hrabxS9QGzWZjSNDl8xiCH7PBBRU4FbQismCrcNvQjoAmAFak1TiJouzgZYjRWxxD3S6Q6YjOxoB38xaLZPauYMOuyHeXLlzKXL63LjyePwEdvqlTFO3S9Zyr5er9fRaFXxMl1GrMcbTwGhAqMinvAV6nh0IpFdLai9sW1tsqQGInLc7yiMMDwLHTXtaXxoT5rzdeOJk5zeptRiOBs/qUsBZi+l+jwvXDsCdENYLWIVYWe/SxM6+Oj9qPu3LMK5eoUSAbxIL0PXcv6Wr75mP1rpjZTDxfx/jMXdT4i0w5D1D2Bo/wAyk+rAah6b9NwoBDnd1btJVymCEdsD4hLa4L4LmOgaqu8dAuhV1zJyuur56BkhvVnSJWhqjEE/6KO8uhzNSxYVyF+wl0w3Hc3sK3gmiRm9Th7Gr7SrsbllrgNaZaJcb4h9LN74Gu5+b030w8uY/t09Fusz9DPpuXLgOJS0vyEpHl8jOAca2Ali6aaLEgnOx4RGlzV6y41vGqkyrLfU572XxDEpcXybpj0rDkly4KgMc2GsOCBqC/BMOnvx2jmbTzI9FQ4HBGK9qHQBpcsV7C7eO8emLVnCOFWQOXSEr0pdwvMFWWlmmxbpMLpYj0bp+7wjXRWGracy8xiu6telcrpA0igS+IRjZXg1pHw63SWrBEGyN6e8zhM10K8HiECWz4No6TS1tzFGufBwSz1gtDMPlf8AXtFYa3DGrul9WQ2XnL5t85istuT6Qy8n7x/L83prq6t8fxmPh/4QrXGDWuYARvAeXeBWz97eNLUUaq7RL+Atrx4hgVjjVSJiAyqrslxbtI0xt0wNU14GhFxbWGlwypX0Vat6xJ25hKDxKCIJTo/zAb7ALk+YqUuITNsFHaQdahtbfPGZnHwDoxMVYUVtAgLA3e9ksaWpXYTXFMFltNdpWUte0MQqdbIVgBwEXbqmAOuuTiAEabzHEpd1neUcSiUSjpUqV0bXl/UQEEFZgBRgOJRd7z3nvM89czPWsYtNcjHgjmHCzD7l+nQdU+//AI9At/r3L9Fy5cvrfS4sGBuwFaxv6r630uIBVoN5fCHJ0NL2dALZUmgs9/oqOhzDuwwC3Lewz8wUu44F9TZbfMAkobw9n0ImwY83NS4H3Qv3nZUHYH8pSNZbP3hoP1fpNDp9tMPJmi7fq3x3wG7LluAa2n0Zcv6eEWl6IMGgQsHtLiAZKAm1ZZbPrS5fRcQe7C6+Jd0OnJUOd5vZt6bl9L9AKnE89aHvMA6uXy9FDR8ohBNMrbb3laVsGt/rEL/Rb9DS7njMui9CKCFgv8SxUEs1LmeQl9kgVoErvDV/smAhIopo7x112s8y/Rqw77zJA0gbw7y8Vms5+UGf/ZEJPg1FIk1Ls1zMgukDmFeVu3naLTAfxNQeFa5xiANAGOVMXxpxCH3ct2ePTfT5YfLHTQaB267zMz1zMxUK7RO24d7mZWWWOeNWNxuuZCdrgy42EGZR8gsGWMqtixWl7RIjTwhs92HT2IF4zXzAJ0S1YjOV5D3JmYNoGZnHVqpdriN2UsDLWOFrSId0AmTqDRwTysopm9WXNjIx3RBrjhwW8T3jZsrwIiPk11O8IsBaDeszxCqL2A3WFZgVdAaw6IjO4dIu1Qqj7QRDUPLBPZDLzBDpoXRX+EVlrEv7VMHKa4URg5BKXflCLxF4MtkMe3g0uGPa1/YVzEnrdLbJkABMo/lK8QUEO23QxdXvK04Lgqw6yhOos4gTFwKdQmpH2m/8y/PNKuBamAl+yVTux3W1UxS6zJ28+z+4M1UDDUBYNOLU6mzTDcqOtZ0L1ZonUHtEUQng5ZmW5m2tF4p6RsxywIyYaYSfaJ1ZlVH0C6LLQt28W0YaxpWF5qUoD0X00P3zNP3/AC9G/wBFv7c4Aqoa5R2rOmfiCLSxfc2g5AADYG0z6je6XeXy1/dntNXwBsZhNC4t8zztGZQjJN7izbQ4e5Mw+rBeswlHoILCRTLVd9YNC3ptzKWwa0WvxAFABBANgPhMmhdHhNIW2veK+EHBaaG2AGsdmh+3SrYLsp0SYZqlZ3hlBdpB0gwpcmyPI1yh5mHEzICKBavEoHX81Aajf2vxDAurTtHILVXnG7zbK3AaD7WYhdofEEposffqUFVaWRerLWmNJve/po3Lr6m3SPtP0DP0u/1aWWDXpuX0Ywb7eG7O6BnmnqBwKcwOl+jRmEsB5PzFOK0FHW1Vpdi6fWv6N/WdGYD9aT7P6Vy9S/Uc+jf6u8NoxeetYH1LzMNCxYeJXZ0ZtJYCteJeNcQaa3wtEXsF1+04y1bWo6BqinfglLhjLdjWXggZN7BoWWaxiNY3ruCWmTsXcsHIPs6oyrz7BQYKkAS1WxtdcXwlWM1C/Mr/AA7/AMD7pNn94n2v05Hnpp/3ifqufQHSvRUzz6kL1DHllYXFla0uY4F/ZiKmk7ysGoBUEM1hEoaaQUOaIWJXDdygvLylqWdpTTaW4UGvE3C6CYvv8RVqHeNDLDhvQ6Uy9NnSrCO0zzBhuWX3YAmSgg5axDoQTfV4KASkE7nout5ffrmDW7dA1amJFFgZEmZmZmemZmZ9Fstlstly5bLlvqVJ3zU/Wk+0en5p003d+J+1x/ggIljApRtL6X6cl3keT0XHrvctBLmKyV56XLly5fQGSgyviNM2+/dYocJmuLaejNusdsg2X+xp1v1EyJZfHpvCgaZ7xBBQXS+0JKyLoLgilj9D9JxP1O0+xPS/l9NJ3/GV/doejf8AwLjlDluCOzqL89eJUfiALhZ3i+/Ri0NPKL6ysBzDXJjNNFeeZiaJt+7zTMEXIcdDb3g7sXDDeDFNFhrB/K9KTzxKuZKjxEmXR7bT3Si5ajaH+YebUuwgYpYYDdIDDFfsRVcMEJdQqdrrbECTqiwY4O4fGa4SWxXmFwomlVbGHLumWhGIwLfaNyknF7TAmnSSqvSGpozhdTQB2jGDAdA0Cql0PFHBGCSiCGGkpfEYLjKBWpLFx4v7P+0yLQ864pcPXQhCtsz+foY/qYmN8aHj0/tm/T4aTQ/rD/gYl9KnTFvr5goy2nIu0ShZuc2lc3ggy3HA4e7YreMFKN9yAfJkkDXtyiBXr8+dXQ4pVhu4llKp/MpFRpWGn8S4AvWnV2g4yU+bmUrNBxHQDw5q5QoF6TnO8QvWLsZjS0jdY0W1WvKwtdrwAsjRI3Uh6PnxA5C68sxIheBGhDFaoDqxec8UaDxEaioVbw8RAyjXc+YAVmuwG0s7onjaPjV8pa33HzTGSVRRgJ2uZVQOobFjWYFFCq0iPLGX3llEKc+Y11gtQM9AA4JYHohQI2871FLUd1viAvSj6GPn/eYeA+7DT0/p+8dJn2JaH9KlSpUCV6KldaldaOlRzmaBsXvBYmkQAYvedCUDdDY1gP8AyFlEbPALfaKh097Xp9uttj+L0b9K6e0QoGb9v9pkM1x4ejEomOlEx9NmKBb7Qu8nO0bQOr9D9zmL9nMND0/q+82j+9uk0voT/BuIUo/uDvzL6H0E4e3Va1r4LtHmQuB1D0QJBN4ymr29FCz5PekJqY0/QvokW5JvXQJM1LdhGdFGtVcc2gW+0zA+Ng6JoJFUZ16JWoA1zpAApkPB/pGGVWsFQ1JVrzK4k58SvNleTFFm9Md2U57LeYHWV27Hj0/K/kTD9uvpNZ+5bx0hlfvX/ETz9Lp26aj7pnH6vlwQoAuIghCtBtiZNhttL4jKGQejVYN4eEYLyrQ2iC1++Zau2p5PXClHG+DeCl0tfzwRhVaMGrc0kOBmyFz4HeDbu/zRXQ5SjdDJStWqvSJK3eTa9olYVZ5pK16vKHBFeAeCpkWU3MA8x4CxkwW5irmwGjXEdZSrat6w6QuirV5lVRUYNDFiJ2graZqKF7iQUIAxAZujWiVwQrG1kRw7HYakARitjVDmZ6ptC1orEUwXjejiYGL+YAotnA6Xp8R0NQMdpRCrl40mE0eSVpMwHTRalWdwGijoAVY89fuH8vTp6DWfM4ha3iWwMY98yxXn2Xv2mHF3I4dZS1xjAAlrR6XLlkuXLlykuXLly+lgFrLtce2NB7ukd65s+WsHX+CVEKlINzaGy8Ya5lRsmNGtRAvYfiEyrfjsjfYi1ojcRGqjdtBxGYS6iivbro5m0uZhBVOTmVCrA7q4iVzUXwEBVbtnR5RZBlbWTxEdDLwuxDBVrLu9ZG/KNW9DICgkUAEW2FfdGwpb5mT0ShKGq3YJbRWEgNBtDUXBWmAr3YvjgUY95QbLAwD2g2vZuht5hAMDZYOWBU1oW7kuXKHXk9pZMO0Ely5cvrcv0/tuZsfoer5lDKqXXc9O1fj+b1V0/wAf6bsKO2MeoO7WtA1WZAtNnh9PYqXn00hB3glbHf1qx4L+IiysL+//AL6aCF5dDnqugHUtQWmF1B4a6X6rl+pQwcO6eIkNQ367Iu89q9en9FT9nt6VQvaP5usfsn3ejur04v8AcHOgom3RShLI6AhKsUnmD3yl8vpWjMCqnELwastECjBsHoxLboHK6SyjQr439LQbZPBvKeylPk9Y6aujx3+IxXuq3hjeKPkOu9xwHdgKWstxPEACrQFr4idiHxcEDpb+f5YRWlHUa05aNLICWCdvTvpauuAleAa1iZyutb7y5YsVl51zXdDirXydJSKC280xZs5IGkIL9TUsjFyY1nMWFQZZipjwe/HRKVAFs07SvmOHW7WVJh2bYrNh30KxQB6CmgmWnXXxt11+P7E+5/iHoxbui5jPvvwlauy7rtAJa7r+1QoIOD0F5NHtjiQFDA1tVMW1n7O0cY1N9qJ98xqCAER0RjBaSw1xFvWGxaX/AKj4QwDlZpRn3uKG6zsvoxAomJxff2RDQ/Y9ptVxvQ8xTFVsGi7RpQaESLrAT4amnKNXlN3WsAtWcIq5BFtAxx5eLeGKIEqXv2lXtShz8aQSoPkiLChqFdLKVO0ZQmG2XXgjaZZb4b6kpxpifd3mCJrNimFeU/mZqXEAq0GV8QIMQXYHr95ozUbgHXMSVFiay0hFrsD3kEKqI+ErjXvA8uiocdoGOxhswAZuGb9j2mAeLeyJiwynySpWPfFUbgFurv8A8ypCRWmVqAWANaTO8SpLQLpCKqujFAeOiI3sJsF4lDZd4hQ1yO8twC28b3FLCszBW6aqKOv7nA+omMaugFVHWeAmUhqyK/5m+XXLsTipG4p5lWY3ZDq63PLMS5zTamVQa5VWZiZWmGQrvLsGkhPgFVv4jckpVs0xUYtw+wigTc0talRIgVrZWxFRMCrTDDAeOjIhlh+CV/m3dWyy8ZXsaEPItPdIolFLDDpgktNQNATxH+5TW63cTDgX2Z4+xMm2he1UVXjIF5JkYhXJ4molQb1LuXbwur7zGTB1pa3iLZBVGgmCI8zMELDVa0N2ZRD25f8AyNzOWdQ2SuAidhlYV8FM+UAQuOVOmXHJSDKkRxUx6LioY2IAKADjz0zGEL0Hu0iNLeXuzP1hwGmKXk2iX8fBt6PvH4Z9l6Sr97HWxmso7DSUxGgfaYUq1WazA6Gk0RR7RIAWWeYQ7LfLNBXg+qsixgN8UKa6scGx1ussWxtALa149KSjoG19aIpqe3XSywL1zWvUsU3TT5l0FGmbkwDS3XA0PojWxXxaAcGgKLrpeavOtdG6mz8Hebod1yyxHD/h/d/hB6cVeZK6a5PsP49K0WwbLG+jrVDCcvpWPZFNg3momu0V0p1eT1U6lutbBvLz9xGwYZ8HLCra46gtS+eGpAhW3XBsRxwcrzCggzGIJ0WnFxAS9A7ukZ/Kau7rFsZcW0vX2I5+FdwMCu051T4tO0e/HL2AhNFtPtvKiA8Dy6QqBh95ig4NBMp6pVL7kqKA7hoa1h4ml51QUaTpLCjmcP7ljvUL5js3X8clUEGDvGiKSDW5llhz/H+FoYt6WVL3ddD5n+rweklyvgNIINiwMFstVgFmguxGAFFXuiaz/wCZ1MxqXUhuHaOgbHmNJVaQ0XiXPrj8COBXQjDOv3DD05a30BE5yXSaXFwJepw1lWmhQ4Fx0uk4b4PxK9z2N1tpFreWW5Tuyu91hODp11MTbVcvsmZgsiFKLhN80ZUvwEi8wrFrbEuLA4DNQMVRaMDXqXxq/iVxFLKHcrYtfqQ8mW2avz1QVDPZxe8JkyaOSZlHMqswcbGDYXeJbwKbseWu58sonKGe66y63SCaF7xIq1edlEzQAPe6uVQGxiAEVVXugQcA1cuWMq2x/h/rO0fuvz6VUYYOn7bma/SHznvFxAaKGrNwmZWWaBZmapdVhqArQLUogN3x1tUw0mdWaKhYYTQtUWes60uYxYvvHE0CsGh7Supp2gAoAO0oCgK46eYcY6X1vrfS/Sf+L+27Tb6RV4P5hodHYf3t/wAidSv/AEkb/D8vpVeeAx0Ne6/LNX+1/wDxLp/WsPTyrpDgfEHwfvPlfk/8G+t/QuX/AJm84/Ix+36RY+T9iX0rD9bE+x9dyzmPAlf9k/7E/wCmT/iohr8s/wC30CjbP0D0A7/zzBgXvn/Vz/u+scy/ol/+M/TJ+uTJ/MT/ALMf8hP+Qhzj2T9In7T1mf0GP/Hn6DOz6aH6r+Ovtf8AQZkr8sumD75fD7pf6M8/g/3PL4v9z9I/3P0j/c/f/t0w7A+M/UZ+gTu/hP8AjJ/yyf8AOJ/0if8AYmU1IP8ApJ3/AJp+hT9CxBQ11n3o+3p0vf0+7zHxZRog4HXQ3b+SHL+WfsWVf9zsulf8yf8AHn/Fn/FlE6G32y+X2RH+4lf9k/7nUUOLP1DP1qU7/lP+4hz/ADz9rnY+Wf8AR9FUSfqJ+gJ+gTg+3P8AoEtP4UN34Ef9yTP/ACE/5aP+nTB/Anf/ABnaz2ibP2fifsv6n7j+pyfIl/77L4ffNWfzn6Uzz+DE7uKhZ+h72/xn7TP0mfuE/WJ3vwiv9ZOX5pR1l/7OB/2Yf9uU/wCyfoU7T8svsF5fS7Hy6E5oK+ZiCjbafoE/7vVCS/25/wBHLdflzvfLLil+edn5J+9Z2s/4Ex/wwD+uf8ydrOEwLZKOJUqVK61K/wDU0/dMc/8AyNx2PEZ/+OuX1d9lfMMD/wCKuXL9V28I+DP/AJEM9AGhP//EACoQAQACAgEEAQQDAQEBAQEAAAEAESExQRBRYXGBIJGhscHR8DDx4UBQ/9oACAEBAAE/EKl/mo9X6eOly3eP5KWlv89DQ18XBCHrOfuIGMX6ws5B8KIhmHiLveuwn632jqV3dR43QZJUR2xDoqO+m0qWuA9LI11y+2027u5QOipVwHEINXud4G7VblFHmBlhXmEmGWkteMpnsiYYxbx7hgIzOe0LFFE80Sn986hvt2FwZdHwypYEHQsZ5pbgy8Sgq/d5DGI1DfsZlMo0Q3KUC2Qq07jMoQB7EsgdNqa3CwcoEK1Ocor3E0d5WuZcuA104FyFesdOPp46X9F/RfW5fT21Mv7S02IfRF7gA0D4jRFOG/YZazzyJMqgQfd6SfwTaame1NBPiIAUEOuT5lG0R7SoIE7B7EYvfFRIowMo3HeIKsJTYINuFsMpzIVYCWaTvdFLEFFcI6gZB9ksJQFE5sgHw9kHO8ZilS13ILr6DL5smbqZVgnC7CZKpyJBLp0HYgO6FcSgrQQWXBxKXBYrwzLh6CARzuCgRuV0CjVViPTj6H/lj6L63Lly5cVvEv6LgJlJvV8IuKM1eRZpfkDOTnuL8VGsMPMX1PAmYk8Fx2slyQ2bJgzCM+JiagZUaNTb4nHRKyD5lOrxM1mc1Mup3GP2fMzaJ2Y7+wPz3fKEUEHkqAEtAoI7D8J2jt1DfXBg5lRIR3CDmHqXLmnrEeqgyyx03/8Ajv6rly+ly5cuX0v6LjNvPYm4cXV+JelK7hDxZfCPcu26eG5xm5xMGXsSJbUToqJirxxETDie0VghjvfYmBHoRLpYluIYMI0zKLlBAuCnrUGGJg05l5JiGq6OpcMMVZEsbEft8q36VENnFKP8wbjnp+5K7r4n+Klfu/6DH2r2n7IqzTn/AOZMX31v6WYc+9/sRCi/zSfjYEuzD0vpcv8A/HcuXLly5cvpfS5cuXMchPz8CfwCqd3HZhMhrmPZAFnMYPVGxb0w3Arwzam+oocoh3nUOm34FWtEMz5HEReYIt242QwgYhuftACcL3LYaiy5cRU7X/OZQmxTWVzEjCrw/YlYvjs/pUR/dn9FgrFcq/sQPHvf0kS0nj+JY4vqVOC770/coYmNs3pD2R/rGVK+Qv7leh7P4JQNj3/VmHC/n/6RHlPR+yUsSA5P3p+oiu/7aOgl4NI1ThwCX0v6L/8Aw30v6Llw630uWifkC03t+CbyH6+QGxq/50X6eS/Z3d2bFwTAfMuKQMlbl8ANOQwxO5iU3UC+IXW3Eo6cf/ai9La/K8bAMlCF7ZW04Aq5qjLL+3cL8uPiLzG0HfQrEWzw98JT+4fxYlRtObB/Bcaqq83/AJmF2eA4umtwOvcWjtu+MRp8gP6Qsd8xIV3XFj9iDPjv62YB7ZC0V3ei/uSm7R5Ut4SuP4JS1fe4Syx8JpKNJ3uDF3I8GZ/KBFnX9kXWS70/sg5qu1n6YKqv5/kQwBvDP2QCxSuRf3NL4lv1C1ieymeqb7qTcx4EF0IMuX/+A19Rr/nbvF9j2RRbTmpZZ/An9/8AKTVAH83U7HOUM/8ALlwGxtzMHEeA1bv94rF815l+SOzBWflMxq835zHyDILV4CHjKGRx5bfWoNMOAl9HTHLNG691EsfoFSofpdxSLyXsQpVW020j5qH2vMzL7oXQ3m03O+EY1dqR+maZHC/zcAKtKzK8FSq76zXRqCs9pYQSZ8gR+yJUcd//AJI2a3o/gxWF/wB5JQfUolHJvKS5beOxDKB6a/UoHy7Bn7wRea7hPyRvfELKMhK0o/mYQ+oiLtDuEW/ifwMI+FtfvH7myXyROklGX0v/APbcZ/jdWYWnp9xWSicoXoICosC171Lg6Nnkpf5YmkYzhiELjpVdRtbTP3iwsSCb7w6ovgPtTSWi+A+i4uGG3Y35VflKmDV3FrX2mjxqXL6WSyNZvUdblQfZfMPsJ8wyj6L7o53mL3SciEK284Gcno1EfxTZm74R8juj2wdgp9jFmPdhT+Q/tCU3UrkgF+bUBFh5RANF7hqC6vc5IjsF8L9JR/HOVGPec0xM0Y7mJloeV+lzmedT+yZfzYAfcS/6iYPbImp+dlC+2QD/APiJfS5c1+Dtzl9zBBtaV8xgINHcXkD7kCCMT7eV8QFcEPfC2fNP8B0RoqjSq/cQ9kPtqCp5N5CvzD2FFe8M12pjBUIck4YnC1KMRCtWD59RAsGVzguOauhQbJQD3hQa4NXS0uUOyljllzV8FzXeWHAKrosRCSFzZyXllFxror0buVnhT7U1HiUN+Gf3LL8idjh8EYpFuLqDKF6F563cAW8gd3BKMfE+djLJSqT4jfNX9Fo41RHiOUv2JpUvNH6lePTKIVQNGX7lSfSQxd8B/Sxq/KCB8a8E4mfAMPkJOAZJ3BU56D3qYrZ5AQNoOTCgBQ2zb9wvo+NKXj/ueGAOUfbAhDO/9hDTv8JKhY3uxEt+QJbNv7YIB0j9N/XZaGwtfaGaEZgcebi4vsnJofHMG67OZ8A7RRB2kNt/inQHNG4aMj7cyzVQDa+ESm2BQA8LuWMD3aeZ8amJyInF5J8XGWsneUfym7SrLuD2zCvaQO6KUDuioaZ3DtiVFWVtcrGhQmFittWYzMj/AILhuLJ8qiibvsRbsb/yfptHVnaKSDeRwAdoppFIvFx4g8tRM5l48Q9mMxy6GXrbJEvClKnu8x/nEz6kjwKsTCEliJ3quI9TZAscMeXEAfE2Mo9skosBobFJMz7NOcqPiP8A00EPwYIvrSEFUFxGpmUENRu+L7zOcCT97seJYYABiBKjLx8JY9Mq5FtAbL4mRs0Fnw5fMG2jf0Z+m6xcw7LO0Xt75ENQItdASm0Os0eFwxLT56/2Thauyx+EJT+ZZfhonAPQhRiegjaK8oX7rwSZg+1UunI5olmnyQgP4qVWn7p/iJu44BYJld5tYfDAdp6R+yYMr4EXYZ3Af0zGUDDVP0Ljoxl4e37UvA7P9ZbBZfuy5fQuBSoF3Lly8Q1BZr/MouV7jiDRgwAoI7gDh2GWwWEOCN2AA4BUOWyrqwVXmBYU7DdOsNZAPASwrgi011kezXL7g3jWhVo47zE7CTFtlRssReNIfMKk3sjV/cXthd2CDn0zKl/kYKUmCtElpXPigT9IgxTR9txyxtjvHasgjqqrFxtl3hCQomV8XiDQcIBaGj7jXS6o2qU3ExFLZqmzDoBXl0V39yAzASzuL5gb49Wgr55T5ZeZMgr2wPam0Ljl4lHYt8lS4vi4AcLuDsx/FR7U17lVqRcBeVXBVFtnI5TK+EtPmav2hyRjZMDntEWZGJ8BXuALuu3mKyZv4hK6X5itQ1FCiHEAPF9FjdRcaR6D+YGV6n+0KVb3/RCgnwEC5+YP5ghyvyJdeXoQtREdxhqjyfoRFK99WC0/9Jgte35zqvV8QTLaslbQILYa89bYqokFoDa8EKSG03px2gjaoiwLrEsl+ZZFYy09yEpC0dLl9LJfW5fRiuEAnHJj2ZgZSgv7y404VIARA0BRE6VheWGD0R2yiq23IEHu1gBfmAVXmXLoxE2q6viyNVxtVk6F9poxQGAODoja1Uw+ZdmChy5fUAk0YbzW37wmTAezpF8FxwZosu9GP9wc0l7s9YlSnYigqnlmavUu2Tb6NTX3VObdV4I87c20A8BzHX9QFpsfFxnTI42NHaNZeXQToMZVrrGD26i4gWlfOXl0QPaCad98+JddRkxhW/PEWC9uC29CpTZsikRtVpmVO6ZA2uIAIEsScznpavuUeW/uYD/uj6V6OIl7QYs4f/pepHmRaCqtmaqAqHgZmB4uEESnYvv4hJWhAUwwX7jgaC/ZL0hyVxFpQWpioOZCxGyWPRqVLwcf1IF90mbe0anNT9+L4OiSoWYtU6c3wGI7BVzOASblveWy4uX0UlkuXMSG/rHqJRCpgKcAdoCchpaBlC+KfpPqZddGWBKG/UTFmLd1josg7ENyzMbUM+56cAmArA9xD5OYLkqVaIlJSFYMMnaGMwXhwiKQasI81q40zRpW00Vx0IhxwaJSu24liZ4Yq74hQ9WU4GPHiGFDAWWq14LY8k3TJdj+WDiIIt5FVxkmD5/tNv5CoFGNaPX0LY9i4gzhMBCSq/WQ6sWXGWvXH8eWXdB/vo6lnchsIst98S5NAKlVisTKoQcu1ILjcB7JiLUK3zC6gkgpjPa9yhJXgIN5MDFwuq5x3N6gfCkavq31Ka6Wt80Roy6llQnbHIYoXVZwI+xA5E3M5YywLlVfk+YO7/waIBbgdGRc1c1GjB5vaEyH63SeamUWUrAtEdS0dclbjnsQfhOW2KFjvw56GUloYQG1ckxJgsrNk2V4/MSV0WhfPCK3IQJalaD01LHeV1/0fEtzil49BPYqvvGMEE5CbNQ8yGWu2JS4J36LlkAqQC1dBGgZXqHCe6spVFkO4o9u/c5fxLCAfMrwPgzMSgXlzWQHmZEghRw/9r76ld+B+W/SrHZP4jQQFF2P0no5mS7/AKcs5NV+hcvopr8SuTZAEGUvTSBD1FrqUgqeA/Co97g/kYy49G2SsK62IiRXaE/znWYV8oDsLK2KFLo0rP3Zh5XUVire7KbINQOHnMDhpUaq1/iaNhQHC3djII3ag9eiEy6Ff4lErMCnpeopG68y+FRhgu16TIEA5XAW/BHLKeGmYdArXiwPIZicdCv4EQ/ORvVIVeIu01Fav5urgFGFUVm8Rrx8wt7crhhFFzooQ5eNxNYwLBa89pYb+zPIwzMhasyW5hNfHU3cQIRtnI3GRWhodCH8M0oIMU6k/uuIyL4D52Z7FZiP6uJqrY98Sn1gvuzb5PVkxMjDzpMOMuyth4vUWOrTWKTOwLNNCRE7uIM4SQOxYQGKRI+BWNNQN7pRKsrAFxnhMOgCDeBmXqv/AElw/wClj2MrpiTbVvAwLyuRgZPGcTULXNAaD3KP2/EjqfB9Lp/81KB2J+CCvW/X0nowK4wr9IE4yZ9vVh9FSpUUBXAbiklLsd0+Ljk2GW3sMuWl+3QMYElxcxZcuHCnRFi614rFS+oLQstagBgDunujAi9uSjZKqqArQFR64G5lmJBAHjcY9UgWnl7rvGQwOG3Z/Mys0pOfG4balCyU/qQuAAAcEV0fkbuJKsQpc25GEPBoMPE/cWoJU0FNTtiGyEBqDkvvK8q7bSzncCF4vylS3INACz94C9GGMBS3nMv3nYa4fRKitWC5Rn8suqh3hNULipqQ2Br7wMoBen+hiMIu1C9T5qMvEdTaeHBKBpZ2/o953LS1qjlASXCPHB+0rshr24vgEFrwxPCUOubZiFp/3jsjmsh7EV8o1iuJf0L/ACdMPhjGgeD9fS46bY6WbH6hVXZ9g6sH60EpBORllZ3ZWu1suXLIv0WRqcfRaYlnEsYlwitSneWS4tuI5KLHZfQV3CLIcbC47Mu918cTHWuuOjX0X9SCkE3k0wrQQIAKKN0dKmaSTt8IgQClGKqqmekWOBCpOgKoygBlgcokFZ93p1o+g151+omrvT8kLMfQuvMFVtn8pZ3Bfp0uMeyt5xQvraS4V0uXGjUvpkcxYaC190kvpTnUa4qFiAusPjpcuXLl9RznpUolEQhDcphlLZbyS+mk80pES/P0X9N9Ll/TalfW6fvX8wtjv+tLy+30L15ILe3LyyHf98ryweVC2yH++xEz2C4KOyBDZsvF1FBLGajlqFZa5PhlrXOR8x7R1G26EG3K8A7aO0aW7XtcxzqIo1jBb2VqVIgZHmVxcuOFkDJwLP4hXsdTyAdLj5whWxVe+gXAu1xaCviXLqWVv6Oet9Ll9b67lEQqVKpu5nvG5mXFpLYx1Lly4J3l/wDL7qsWR5bfsgV9/opXZK6aRhoO7+yWUcv+UCFuH0SQbg1Sd3vBYwrXHgi1ZZLhyuqmdrAvBRR2uFT6i0yJOS92NS98RtCoPF5/EqA0FHqVuy0OUIgaBjNqNJG0wHvKlC3MowrcRldrxLT4hRxlKbw6hhYHV4KV/UdcaLYO74hiQru4MU4mO1Is4Wk8EOyoVjekg5h/CnoajSLi9A7FVNm0lbfchiGDB8MMN6wlBqoX2w8t3VuhLIlijQZm3jEJeWasJUGiDH1Ab6W9LjvpfS5cuDHrcsly5fW+gw39FOgazKs5lPeZlvS+lxYe4/hLA7/vuENdXKX1Y+pYOb3f8oqqjai/gliz3aLwbfcb9B5ChCwUNI8jzL1qmhsvEq/QSBDSSigFBgDQRSfFdhVxgC7VCzfwdM0Z0Da6P8Ttv+YDsexB25CPQI5ADtzVUdiA3HALlDhk1eNPqDootxYFXj1LlRaCAKQGY+E8Etl496tlhwtGFcBfhEIi6U7M71UpsNaFEI1e93CFLkKI21gIThp6KZFV8wTZpRe9Qte4ftc+JoSXPcUMaAdoeagwapcIg12NfF4CWy/ZjNeuPmWSyXLl5ZcupcHrmXBl9LxL6rlsvodL+utTuP4THyfqYfRx0vEVC7DGdmX/AHK2jdp+UGXHfRQxSo04Lj1fouXHouX0uLO84OtZgcWo63zNWqHwlxVwrUdxY19B0WNRrsPXeWKBbNZkrzqUleWaxmU95bMdA+VloXLe09OnOBlHmXLlyyX0c2PZCX0HMHEHodL67xMg7P8AKzL0f0wfoY9EKdCfxF4wP1MFVt+er1tlst6lOikuMXONynG9DujJHBcFm5Iso/DENatQxunMYyWAFqtVOSaIOe3uKAC9CxrmFQu3xDD0aiuLLmlVy5tKrfJaVh/fS6x0XMK/ilQQOP0BoqXucxFUVa2u3rq+2aFyvRQfSK+2UUCoIZSKPWpZtgYhGH03kiYA7EmO0oUhhZvyuGvA4lUyo3KfR2vYvsweZmwLstGS/ll9hLdpbtPTo83Qd0pL6WytFDwg8s8sSMVZnlxFjvfhMV0drB9DHpUnb9LKG7ECv8eOr1468S+lx3MSiPJozFVaV0jR8PMQpUyN3FRJAqjQwDG4ZRinybAZPMGbR8In7mNxqNFzL3EuFt84v3qLw2FAeDx5McajvgbCd7ghw6KQvaJlEdIYlj2HFGr083EsAvASHAEVsg56L6xL4dNrUQ8FMHWvKAujxDVFrhgLalAtaOWIoJvotWPeWu5TkpavEG/WW4mEwAqXuvMdSrb5xb7F4NzdHIJk/UTipBDEFDtU7ozxmBXgiAUt9o2YD/8AJ+mjrgC357Rtrz+Y+bdkNyvowSrNwRrQVnsEPkiJkLJwlY6qrX7VfuviWLXRQZVbEYAaBg9vdtqI/Sqp2T2uZT+OVqCiK5G4SOoFu/UK99mDuVZ2g0GyGXvCUTLGPmVvKp5PN7R3NVcNnAP4Itc4Pw1B9pZH3/KWpGi3XxNPoQS+n+f2Yrn/ABUqH26C4uZcX6Hq4l9dwqqrrvoChcKBQ5YChPU4j7O0BVUPYqKJVRBgBeRhGbWEFUVbFdSVyg+WkbV9DPf4C5fZZRhtbGgb4LVHHzCorDw47lXZblt5w7YKVdoSkwFVSbXfDDvVNlo92GKTaR3O2pptYN0+dzvgxU+K9oe4KioMvvuC7KGxHlcvxXVjYV0djOLeFqxYROo0xPdR3IfuC71e17/cTOpisrB5g4gXqAroLxKyGxgsoAWrolf2zp6i192XMY1mK0m/MdAFLtDYL4I5XDlyiLBiOUQruFhHbwwlHdqZnRcTcfCZ1zHpWEwMp9A1BZFKihhdd11LWXT9glEaEsjmtWOyXN4Jb9oLjMTQGbYbERcNlUXNRu41KvcAvNRKhT/DnAaxA1wElXWfBLaw5TB+yWcWq5bnz2AliOhXobG7tzUIRkLI4CHmUKjQWAGXtLwaA9fQteZVdHfukxPlDOzH+CUlI5dB0YXWW/HW4gL0NzAlwWTdPjlWBVXZzNc4ly+zBxLZcuDNINxY2Gyd71XHpkUtiGztxPm+osuMtKi2oRiuAtgbs5b3F3PXiaz36LTGCnBUeDaLsmthi8vdxAbKJeESiPYmGrlNbY+5hHvLB38QXx2dPiAEwFAKBA63ypxfgYAvCg5Ybl6dgMDOhi12jTqAV5GX7V3lTbVV8kQGYAukK8NQeGyizTuNL8wR2SexVkXY2WFUHhrvFOPVQzJd3uu0y5tjxNMXCwRGs4H4fmPaJ181dPio4yGbqdEcaqK4x8cZQfN25RWDsdQN4q0SCw3UpxDgAwy6ZWBZfnRgjKtAOr7vqdS9PcD8x0q5n4l/iRly1dSjLGPtnzM95bFYrzjzKWHgK0avwQKmVtJRt+xmV98tC8u7MGJyaIVZcXUBkAhzdTSu4KFb/ilwCVX4fiNvSk8bS+rEbqCswfYDi3FBXBcc3EEew2eo9XPhNGUO0rCe5mzvQWRA52QCpbMWhRapR3h+ECFWYp+Y5b2RIcHEvnbEhGp2t830ZuN0uGIh8GUd5JVt7aKAlhWLBs7qjakGmhqZdGDSYl98xvKtKqob00lQq9FlxqiR3PCvB4mnBj9TUtG5XRDIOYE9Xk+A/wAy4OZfWsikb6w3LVo0aEGOU5ZQFXk3M36++UPwsbfBltK8YSUdoB2lEoZToR7ymZn4iK2fvY29MXK1X6IrFKAMxahgO+JVO1l/jHeXC/14JV/3Zh9DF9ED/wDAROTN0+4IaPw/XSiL2S5cvrVdQlkLdWQ+HETtooRiomRecVRJOXsAp2ij0tvHqYhpBAAUOS2ounidBu6YnMeVk9BwUSmgFqL2SgXC+lFJQcBfzAOoEXglJi/EOOSxsQrBPRNqu8eRDD2js0LRnOUM1qIPlVIYFlhhAGkMN7Nr+yZptxkvz9iIbBC5XwMLeo4FUKi/glHeNVAI10JVcbyh84Hxa5lqCUIGrIp3uhV2D3g6BtBV+lh8q1DwmBzRKDxcvHHPWZz5j4nIEp1uVRVAWvaAuNIt3LnWpRteUFBlrUoXDWfs7F1FX2JkOGa8g7hn6xxO8nnghUj7ez4+u8r5uV4llN0PlNuzIR2716ujzGYWtxa/j5hJXosGC3guEvsbeVs+2YUCpGzZ+ku+lwfpWQmhTXUGbt+pHY1/6Q+ioqVPgD+E4iTP2E18Yly5eZfS+l9TrcWHW2I5QYMtqr9EX3AC+4xZfS3pcGX0Zk1KPwwLJVoHFAQ6kLFBb3ZVWKHvUUQt+hyEObuyFsFCugKQWUaMICpVogiPJOPxzA7rSBmkGQscgvtcVTIVtyITJqc+x+ZgchDZCzPeoqCVPLmp8kaq336hpHFu2G0a+lkAezczctEEmPyXcGcCayJtXjy9oc1+FbRB4Ie2vhHK9riBsC6v6Ll/QP8AwuFs1EH0XL6Btt/lEfrH8ItliozenS3xFiXKVBz0s6l9L3LziKbh7Idh5iHijxHRTRL8R1HD+2AqKyrt2l9VblkGDnouX1GMU3Lhqcy+mBFppl/wr7TI8z2J8+azGYlE8EoiSkBvaV3Mt7wRzFYtortL8S3tLgJZ3gnfoCWfU7hlNj/6w+p1PZg/YsV9sfzF+OIxvjcB8Ap7tkolEouUh5T2io9oqbSY/wB8SKRABc6LxCoBLXbvf8EWyjQMah5iaZX1LWoAGn+zK8hpFW2X3S1LzFmKIgtAZ2Udpg4tB0qtWnpb0Hpcs64elwvPQlCg65mJQboKbnABdczMUKTzl++PruDMv03LtjqHQKZRfSiUlSvMrrdMf/clv9OYfQ9HTFY+eBr+9+U1to7x1UcnudkRCKDAbc+wmVJOdGh9iJ4FDxVO8rcBYgAvKZzKdjoGzvUu8cd5KrseJSl4Ls8xmIOWVb88NjDbG4ot6QPn9n8oGzvt0hbAUwr/AEwS1UOQ/aXcamSa1XK4DzE8SAKTg9qGDi4W4rD37sqELYlu2H+QLyKD2lRZOAx4x8xs043XiFEIC7S09JZzcRcrAyss46Blz5fiFJCtoq/mXGMuXLlwu+t30YdLl9Ep8ziuhqHQ+mmf/aSwKIqG9w+hZcdMsj5f0mXeX/DDyUaHMVpU7A/K48xfVpGQYL8SiLndoDVzNPE6ubwGpdfYKQDW/MAcE7mZ/eokPv7cKbXzLwVC5bGPmKyANAc+0LmRMAeW89BbUWrduxLKC2/hrYz7AUruO7mWU4kvISsBbLLGliOFaRO0uTjRE4MsY3Mnm0iqqTgfEFK9UZynMBUrWpzURNlg+7n0itExYLbaIUSbY5mlatx3nNDzQwBo7xhx2gi8Oe7iUM9At9iduYQOomVTC8yszu2zssBQQNpXfT66EFWmYzcqKSpTKe8pOZb3lveFkaoKtEPCYXiViJWUlIbS5cuX0NQhqc/8c/Cn4QAQC6/uH0JUojpj+B+ssjhtYqzUuLe0u2clweuWSyXuD2cRu8MIPlilNPclnS6mDceA+EvPx3HlpqPIV8ltj7T2RfVUYwaYs5m88K2+UscWN0Yop9QqZihbnq8Ru967x3j2hk0FCS8JojiGLbVfNgibqJ+607xezJABddBHxuBTrKrTsit6NVC1o3FQ1yQ+A7R70poYEg15C4V1uXFJcuAiAC1XBKdWNhXQVjHQ11ZuDYabNmk6AdpSUSsypVSnvAe8p7zJM+JcC3LfMHpfS5l4H/CA9Z/MOtxenE1a1GtKZt/Kc9KmTdQCwLvOSMTpQ8SiUcxCV5jvhM94rxuFkKrioRrdVJzT4uMeAr9x2qY8MZrKSrzKSkpGFxlD3CkCKP2RZdy439MbsC2U7NJnC0M27Ag48nl7QdaFHroZfRYOJZKXBuChME8Yiu4RGwvQFYA+xDXRGwFq8ESHi+WmB22UALGh+JfTSCVANI+IP/cCGWXg/bD6mOz8v5JU7ydU4hLlx3GH1JmMTAC31Bz3XGbDcq2VB80UQFP1xs2UHjvBlqLfEULvurwSjpAFwAVflqDU/ntqt8ETkOT3sQ0hc23ChtVght1nTC7AlCkwLtuVEHcSrChk/iOSkQti6orb4g/x0CgUJjzeodoxhq1Y07syxGx964NyMGhog9WduWVg4HaLre4PL3YPg9whHevMUvC2QMb7sGj4udRJCGAWEXCpEUY5cgO4bOGWLAdpYUCY2KtzKoB3grOXgO8BHomXsl8FfEVDAMvNYGNoIcvlMVtE+6WvqaqVm/hl12gjlL+AqV95LuMF0veWfS3aByiownMVQ8zBCkBSj7kJi0DkU15WAZbYB8+bg0KZrJ5m9UGPglJ9BK6DLlwepluw/JBcSfRx0dTkFpajT2n9dXUOtyzpcuV1dZ1Eth2ctqf3K3KUaAo+DDAKsC5uWWoFeIt3GLUHwxvkz4bP1FpmdcobL4vdxTJ3g0Ezx7hXEqo7JtxlxAxggvV29uFjWmmwL+4sYJR61AuOYg7hYwzk6cYIFqc+nlTWhMR8+1izIid3HaVFMt5cvk1C6ngcL+WGYv5Nr8LmtBUQLAsjBrM6BdUo8Qj0HilsNbdamxPmWtehrioirKgPgPaBRYHg2fqBWtK2UrgmUyWGmtHbcYErRlnS9adpT27K0sCCgC7QXBJRWgUqlv8AMqV6wFgEeOI8FEWDwBouHwSkAIK7N/eozglJ7L+41cYQKrtPVVzdXKuMTCs1wo+WWfKyC1i3IJiBZ52UWjtoqH3DcaBvzXEtLScBRVuiriJ2t13RUqWKYVrT8svsHS4TmgzCh4Csy+Ljsm8l0cVeGIudwS5ZLIIEp0XiD1voR7L9iN6T+IfUwBV8B+Uu8CQItDnpbDDUVLdp4I5S5Z1GJYMv6OOmEzshYdg1b2JfHFeo9KS1i4zGg1hoEsbd3p2M1Oa+z4VUd9LZfRZZBxOIdCd0FYw1uwPArX8tSs39vpcQ6ZSo6gJMFKZ6cQ1GVK8SnaMqBK8sphfLMzPRqNGD+2cCrsfiH03GNW7F+UWx6eoYYZKldQ61KO0p2lO0qVH2QXWz6lFyCAWR8ulWwAtmlgm/D8AXGuE3oJ6syxUOjF5AjNUsOtiWCkgrOwPl7X4uHpYAQjqRs1DYdyKu2b4k5741BCwGN9jFi2IAFqzIsTORuybEQLAmBGzIaRK3nRA4gqsmfUNC5DfaFr0BogySAMizvIKAOCUtrf030upcelpMrG5cHH010NfTl6X8St1cD6zFbf8AiMeDt+51WhIdKuHn0V/we9eirFfASxYoLCAZOKF2FTi53n0t27xlaACwRtaP3CBz0grZPdwI7ODTgeNrMC0fvGG+K3D88WCLUB5cQDzTrSqYO9G4n9w6owGmtcwigAtiSg9mszBShSXW7LYz3xtQqAMDN5mKmdoKfZ+yXv0j3zHwG7l/hAptEAe1EswaK+DX9kK8Khc7dpTccMBqLKwzKATWLFro9ZlYtbLV4pv1iXYnQQAH5XKXdsi8QKDdahRSa4Ml4yy/E9GBrTK1KcOJ5pZLO8pFJfQ1HpfS5cv6yO4VcroW10V/CP3B/r/g2PWEqOvyT0WNwMIuo9G7lx+pAgrYoYapm45KdShQgEKSqSMtKIoJHwLNGLkTCk+ZfQBl95oSKCyMTlBwHCk1DTaw498sWIkwabFJg3qEyDNCi4p7ya1UrJY4mzOps1iUGaL1ZuPncR5Vgi5mTyFr9cTE+JiIdpRKO0DHKVK8ypmFzJMy2ZltVLdpa3EuEUlJZMXCcTN/B9iK1ev0/S9GFW0hGVJofxKieYwCIDQ6QXPaW95mZipxGyHwjXiU8w0EuUntBI1LlzjXSzpcQCrQbZYgiJ3Oly5cvtDFvrbdugxnEOJEPbxC5dyv8KCAttLZ2WV45lxZz0t+tlzP1XD6eIdCCEILT/KCDP3/AHn18J9iPsy3xv4wTB8bHTFe5QaBW8td5mqlx1FYRLEWL9vmMHVXm6oQcAWFHJOImIZvKRqPiOT7A5e4N82U9V/mDWqlZzKgo0C67zDMlXYtUrMtwsycxFpj2Gzq7g5dl5GX2TxRacRNQdpcS/QBllrOOEr2f7m5Zbm6L+LlHEKXKEf3PEi5iN0KniM192+N+LCYGIZPLvkq/i5W0+yFBCnl1ECZgvYcEuGOYNw6P0suLiENdVabeEMlWXWaxccEIa6E4h026sz7ov0mYHK/5fW9QKrv+sgHqAW9qIhoBsccP3YlUrVb1CIuw5AYFwcvBaWtDxG+DQK3FEtWF25PYefUXqlaqw28OosEs/bhCT36g33XdQO910lA9sAnIBBAlFwWuD+kRRhyeBqop6sFTnXsZ3LioxWVdvNRvva4R1L2XdRb1US4/shIKjhbhRDFe5WkKtGoTmXz5BftltpbtlqER43C4mjBoVNnqGezUUqq/BLdsESy25wEPvu4A7L2ll4sBsoVWLgxz8Rblg9hrt9XRLlYer2H5QBT9CxGI7cRq9vcb2ODlHjFprcD8qoCFqt0EP1DlLMqiA9Fos0hx6hk0gBToD+5bUup/STUQJe1UgQzHZatFeDsZoEwXpu/qCBySvEzoBmE1+AtZAMuz+AF1qUVKeTAeeLhcVlvaX4nlcremUlKgKlJfk6B63BOiwelnQAW768y0jYf5Ifef5Q19D0EHuObBf5JfLSlbqkMvAGMcM2QLJLWvgMcQhaqmm6xHhIFTdTqlUzxK/woq/TwfMum4Yj1BE7gtErwdqhUwaPMd51G1hdmkeQ8RsW2WHbRqUesb5LuowRKqQ2FWaqW0q1HA22AxHAg5L7ygAFAUVoI/IBhwulkq2lbFh2OBGqpJijIJLpKrrQXPjMstKCl095W7zghRSq2ssJHMUfJvV2Vqw5amL1fmgK0eYDOmDt28zHJZCeVckB5UlUrIQAbCXs8S6+6uwqeFVXio2C9W3ikoqj1B8a7VHc53iCukqy6pKqq8TI1vQUKbvCPaGRxZNhZ6L4JkafzMdxzcLRiDDQVgHcW2D02PEWugc+4mwSxAVSYU2YijJaAPA4BLAE5gvDFaxEpLZS7jbfmHVSA5qCwEVo4cul1joy5cvpiMK5JQ5mJRUpco/ETHaA92U95TLTmV7otYV8rLEm1gtJNktgpbBXH7h/OK2rafmH0UvRKEl77r+UVxJgSohjEA1TRxeCyiV5ZnvM94j3iPeacS0l9pL7JWwGxboVrwZiMqTMVLrPLoRNQVyCOAWsN/WGheY+TiWGDRVeDqvMZsr+CjfxLlUaHhDc4hFjDGhWygmpZeLsnEJdS5cucty5ctHouN3OOmM420tfB5lezLxdwLGfMyZ6WTMxc4ly/iLvDNrs5VLlww9C49OX6hcz6RL83ofbEd9wVfdW/uMG4TkGyoPkvCRGHQPx0l27/AJ5lD9xfyw+ijUeyCsndLafciwFW/U8fVx9Iy4pk6fPVf5SKLgxuogko8eTIQLKwqLojtl+pLRlDv6jcQBFiGlwRURsFJMd4gBGIVGuWDzK7SYztz0qPwEzjMbYhE7AoeVR+aCHd4IDrzHvE6j1uAE1Ht5h2IqcRU2jhtq1fEtkqJC3AcuiZVQAC13hwWQBQ7tceWChYAnklOvxHUpN0RiW4t+ANBVFvfOoNWxXpAbMuI/8AOLa8kDgrbC9xnel94icqKGELRmkip3Pa4LdWNlcfugBCEADi7lwXqkUE+SmYZJbA7TtnULw/QBXPiBUq0WeSAoQyXIIZIy6xOCYXdB5g/sxGays7mF9GZXPORTCvOiY8jzqVU7buOk5Fhfu+9RCyoDK8HeO8JrcOy8RClzfHIO0tSAdApEha+CxlgK9h1BISSAruv3KO8JlK4l+WkZTYZ+IA18a/3MqfoVwCKhJDn/bBXr/Uag1aY+dftjU22/59XiXL63OOt9Ll9oTTLID2ol9LIkIcBFVEjQMQB37wPmwzOIZ705jcb10i6y3+ImkBBgdLF7zoS2bpVR3tkATA0cZoiRhb67uvPmMVqhDssWgZsu4KlFBmrIdotj4oXb2qXeFzVsFzm8uoemgOVpK3o2qQsvxcSDttCj2VyVtYwxgFEBT1rmM2hIhOAvCytCGl+XdSolOT3Ff4TYDJXdNS/rqxKoVSFMwaslrK2XdHaG8xZZAzMMQ6lamCdwW8CBZYNIW64O8uLkZ4jKU05KloFglAsPuy+AjSUvI+T6j/APUVU1b2vUzzDkbcuXSdpc+RHhBnVR0tLXHkVXau0sHhks2I3nJdMbxWkCVvWr8Qp+nAXa0wjWcRq8qoBLKXyXxLLztYCEsYXMqFYrd8RKcmISshKZQtLwQSC1TELNUzXMWXLdtEaZUqhh+5UMUkoWgqH/gpM4Wvq4IbSiG0gE3SCwcPD3ORAq0cdkLY4gRwXOaWMTHAlSheSHzbLUqkq67XL7RLgKTK8R6VMWW7LGhoBaLYD7iN7LFs1B7Ygu9rfiI9/kPpq5UVC9lFXd1mx5T85SUgYlJTvKXupcvouXLiy5cINZs8tqnyll5lB5QsTKcSrFIqqGGu1lnDXPmpgqhEJ+JVva72myvlW4S1xkfbctX6i3MWoDhdS0gESkeYbH04I9VOADAIIeBUCnG/MD69WyuV7Y2lTOHagCVhAFiNiRY9Hkw1byvBFQGWLTkImPw7uNv4llUFS8dN9bVhxLl9XD0XPSq08vK9iWICX5Z1EolEBKnEpKm5SaYM96/XGJwMA7F+k+iujqKz2f8AEzB2v4ljFt/t6Md9KJXSjpnvPmfMz3hctEjQ5kKtmW40G6LttupaI3NO6PbvEqqtiwzifXSHuFkwywFOOKGz7rUPfIpkFXtRcZNKDatZd5WU7yveXLZbWNGzHJ7FKd40bXmEtkWq50c+uikuAxDtOMHq41YQajwd40g4v5RJSn5oHdN9soi+AqwSviBvBrBr3Bt7+JRHuFs2EEuPlAV3YrV9RtURMFs/cgHGYij3ZjIszc8ovmo/8eHYuZsZD9ycxSGRCryqlITYF2U5XUa2gTJZ4PTsuk3sgG7F1hPgxD+cQReSi4WnoE6AQPLBQunRO0VqX0Nyo7jDXRuYf4sMwp4J+koPsP19dS9v1MdLrFjsNh/LLisdwly+ly5eIuIS5c+3zAAnbXKKPZlqpca/anH5jiOLgiiDagbMJnSJzKYvk5RuxDUa22qw8VtiqWLIFVUjOs8AJP31EG5gdiFfMCumKwXk0+pV6BoLeO8TELYg7ZpAoLQh5rEAmoRVYX4WtQszzwJ4cvmYsG1e0v60NKxCr2xY7qzsQX3gMtFjxZk+VuIVg2tO6Hohzc1GyimKlUBWjRDZcDnwPMBBqShWKF7xo2Lzm2OUGyP2pzFArjRcDK+MDapfEvVy/Oi50bz4ShTcasGPsQBIpwVZHPucGvfx/MwVxlM7AfvF8huwNmPMzEuuF+4XpABvHKeMsCm21B0ijC6mTIABWHGIaQFQ24L+4wLhRTa7a/mOGXNhHY9MVdTrkhhvTCX1qXxE6nEtmwt48w1CPV6Y/wCbKE3OCYm87Dfr6zU1/RZgpoyH/PqB0dziX0uXLlxyiL6BlylgPHQSobQ1VKOwEAfUAhkiABsT2MF7zDraKXyxZ8xFS2KQV2Z8QbcMS3XixUcmPfvYDOHMBO7+FUqBnWIneBbDyrtLdQW6DQ5OfiCoHBDYKiDCADci6PbMkYZLCDS82yr2JBXMeLU+1n7DXGIAAbBVYEu4ecSOB7m99paYtDewC9R0ZFtle6XSwtg0AHuJ2xZKAAaDGf5ifqLayoMEqNBnvUWRSWNoTWG4ACOE4IRqwRHkgySoOCUFtErOo4raFXm68kBiAMHYnPYLGLDb3mdQ6yCqrQ5rsyn0qF3URSrnhtIUyBkVSKeBP1Dpwgua8o+R0fCEZ7QXtLw4gqMQy1KdmWQKO7laax/hNxYH66VAlREZL/j4YLroTGGf7CLMVFVqLnUsIzXvAVE94jvEDQlxByRgDQKzuJywLMBk0bWYhLgynRcp0X5ly+246CFXhbLzGFly4PQ4S4QsOhcuWwetvQmwLToIk9KlkcnheyVBVAOVqoW57KA8i6h2i2GmHS5dS5cuGul/TcPoNdPwn7lg2UK+EG72/jED6DvZhKvcJheTCh2H8dOOpRKnEag9kd1qVZS4BZayXFg/JUqIqy4xaHrmL7gmyfwdFYjrbPUW95RKgrsQ5U9/TyDxOwkIZ81UH2lu09ZcNT16K8og5le8pPJA95v0kueHEs6Lly5cXOr+CPtjygPRKi+dwwysLN1WefEFrhakseo3GNsDgH/2C1LuUzP0XL+i+mIMtl/Rl5qwrX/iM2eGEuXL65Dwj9xWv81KreP66vQ9Hcau8Nj7ype3vezcdM4WAXpqXMsWjlFEpowP4TIgAVyqSVtfAo+DoSk7qCLSk0RZUeuiUxZDjcmSmwYtGSmdHN91h7uol7CFJFatRGbFFE7NMOq+5QLTD8S5cGELa0mcy8DNnQslUzLMLEoVO2NkVTrMC0Xq7hX5YALxZeBVUPICq2dpOJvQ9yp6jmvZeJREQ0sQD2sDwjKS0WMdrqERnS29gvic6QsJ5GIBqMas0sCgK3yXcPs9rQgVYRpD7O7zApo1meCYA0CVhRC0AMac3EybSVxFtZyxCUdBEpzSuSZbB9luunN6I773NMoukqvFy3vhuLhZelZnDn0PGYgYEWWeSuKlQDHuAFGsEdmoCUnmldNTzQHRcvodSXHUeDvG5OB/bKh9NzEvI7GCjm8YTBX9cVEa10V0fou7PJ27r7sbd2JBVAvWdERQayMHHCedyuOSBSlOUq/Mt6FKvAN7ZnjcsRZwCtU7jvxK045hv0c1HUIRQ2YILtbAKDeHFsvAPu7Apo73uJeSKlcBYW4Jk9DbFhXjHMKOqhJTug5b/BGx2cNks0B2WPviHzjr3RghgYUqjcr3CVcvl1X2D2iaIPQXe6XjUMAJTKeRJiH1hQBsXdGWL1ZeFABvfxM7oPQ7KrJ2ibHIBWayxYL/AGyFdu8QnS7/AGpNTGuxkJyAF5/ESUhrAlZNJA+inICq1u+YFRjqrhgqyzk8TUVnYdcEIdw82quNRFYCFcFWvtLjehcEE94rnWQhOSrgmI5A8Jri2l9lReOtkW+ZiToK3T5HMwP2qCkECBVufM7z3C/UerUf4gFSjtKO0AlQCYhFd1hecwHvG63FGBanXxio3SNfDOXS/poB/wCEjne6/YI+yw/UtLWVnROIvifEfU+GUMxZNItPAEDe5VdyveJcXBFpYCmDFMRTlA7sf3E2LFi+hovR7QUwLTiCEGxLE0kXOV8Jp8mLk1+pcvMvVsQWOwcEM4aIwDgl1UWCVABauiGW+7xTS1ozHli6nbZXtwTAAoCge0LaPdlUJnEAIRctLlS2+iZDOs6l43USh7BAWyA0zoRSLS7rx0DL30McmUu1ewcviOMkpmzhply5pL6ldB7xmRLYEtVUsdRoZC1qErPSoAWX8FEJu9fxGn1qhOf1pq9z/Cc6Civ11zXctTbnNPTdNS9y+i4lwj5lXORB2h59pXKwCTnQfNO5RrmKoqpG3FUIsGXAHLEqME+tBWG0WR7WxHNZQyDGGu31rZQFQAEe0XugvaUnwJSzZ6rMC/vcK0NOy8ry3xCZNlo5XlUt7RXaJ0WEYOC9xIoA2HkY5vKoUc9OE4xrvmABDgZK8jC6GphfDX2MwYSlArQN83D2+4cGG4EaLWhFWy9ghRRXs+T2IRbuAn4l+Y7KuYaI8DXfFMpkF9ppLmWC0DK9oCgg7jcAzOdoqDL6iRamsxsqnAGYveITffbzbK4xewNmLEdAO5QvzwRmY6aMGj4jWJoqjKoDd5qKBV+31uDlUMmgXW44ypVVgs93Fe3q27dpSAt4eCi9gNx+GV++vu4ljt0SuhH4uIbAq8Zvs6il2cDgsPmU9d6n4UxUzl39n/g0Hf8AYmR9j+Ecu16OoVf0PX7fMqfkVKW4PUOAone7eY0yMQ7ZMyvj2XgGWtZiNXvhjQPMKggg1CzwVLOsFZQ/fTECZBdgHxiNHC3CVASnBSPZjNCI1XSqIIIWCR2d5axudMLDyhAebIC+/tdQql9qL7E7RwdA1B2EZjoUBU2g++0s4b/GxfbQTseaMeX+ImagcXBl7jxAs0Q5OTMbCUC17EUU8kpaAvxmBbsiEq6LFrqJO0xLzVUQzJyxSvQMviI0pNiFd1DOdxIVZ01iqofduXemOwEb7LvBM/8AJsDvPTEvpQq47Ua2rCeG3ywqvRLeABVXWctc0QoFdLII04eYvATIQeEPtqZAfCI2IrvEEspMyjw7gUxHFBg7lEp81zZ26KgMHBsnKr7LhD4EICqz8GYZVpZIaLtlY4Q7AzuY8ylWGWmKFa+UqB9Cy2zZvilhVlq2ahbaTq4Jqo0Daw84jg0ooaWbVWhIqzTulYbo5zUe7gLkwAdsEDYMPoose+8VxGw2Bb3iGRhzhleyYjBNgCoPygvtYbYqEdxamsAppzs3FO8HoKXP4zMy88HV+gNPD+UgLAI3N8XqX05f+O8S6sTDhdoxwyMNeO0KVoAWqgm4UhYnqY9zVDDjECnXAB9pnnN+CKZYyjqF2WaeUvvkjhVodiFfwClVKMOLgPZTFVeoDQvYP06JpC0KV7lOHEHGKitw3YIAAgwAB+ItAUJYbPymIX47YFcUdAaggwtdFxZbCuLgui5gY1azMmNwNkLYAfvPW40igRwjBMGhoqiK1mDMMy2My4ygoZctjCXBx0x0LNh8C/YbjX1ihXiX7Y5+glfeFqVz/iH1Oo8vlMhvOavulPmUsjNNwG3xMzPRmW+JfZ1At7S3tGDxZWJjKspKSkDahTcpgjLAIKHVJd8x1L7wr9CJ4weo84AkKIsDvUx6sz0Xoy6Ll9CeAo0HcckSbibPY4bzLly7jTdgFPaXu8ymCjtFGXy3L8S5bL8S66NOpcHpfS4PfrZCXn6k0eWSBzv/AATy+vU8n5z/AD+zCN9CXMy/qrqxAUAZV4g1g7Nx9X4eY3cqhWDfkIDRL6g4QfHCyEnd8QsvTQn2OPmFNoTKaTlNsOWJYNouWYPWeRj3ZlLLL50LX7x29oC8fxhL7wNwcVXl/ErQnZVYlr2xO6F7CF8tGHTeiitOx7g9wLAo8J4nnLegZmf9ZFHm5j2CrsR0FovAXlz4KOGMLXNso+OVIauEdmYMCruZhgIBVVdMktxtMaH+eZxBPlZdL4iPdiqj8GD3Nvwoir4/mKM8KQavA48s7pvYAO+CBXiQYIo7+I9qtZaCp+VXLTCgvbbj3ostFVLecsXay31GPZi9hQtCrfuUYJshdlhC9jQaUaWCiU6hUwpQGI5Y4zA+glE3ZyzRwLFTBNGIQ1DpcPoZ6/2Zohyv2PrOpTsi4QhW0wcpmNwOZWIa6fE4+h6sUYgqawKgZqstKvzGE0BGRwuGKQseS5mNNGzIv7i60jYzXplHFs4CUPVQgqeT5lxUu7ESt7Lq3zAdZrBXug7XEmJr8shnZouXE0zkYK1GeY/NGBGZOHNcxkbiw5dddhioJAQvbThfcbYKwNfdwTHbivs+7LdpgoQbdfNQ/wBypbNY8LuF/jurWjxUq6xO3SsfiOtlzoTMvmUwTol1C9ahlv2Gixbq1lhdJ0gclXe+YKS1KQ1dplzwtvzAUeoeZUtZCaZaZng0joWAMx0BgG3YOWseJkyYVV6tykotxpNVWLmfgAZId/1KL3KrmA4s6FXK1eVwLY37D8w51Smuloz3Y2MhXOhmtw+Ytpa25iaBUR3qh0AifOxfyxDCaQB88xUDd7EEteiWqAEoH3x7h66O7wtujct3YHdAe8brcLM30th5S2C1Eg7r+Uo37jp9Fy4osFwkId0laE79Fg4+j5iU9MnQ31rqYnmC8OXdrUfK3MfCo8Arg7BAdsCMvDB3QYZX3RWCreX7zaK1Kk0XdWO68Sv1NwwHclzjrfW2AJkQaN4vdYMoDRzCyt5MBAVHuYDVeIWZ+iyuaZn5IqFSTj1Hyr3MjtxUXoHdiZ8b8EXrdEbaz8XLKzTZpVC+CAt0NrRXjMPVTll+ZcHMuXDoS2H1a/l/ATB2FmvqCFAZkLr8kTX959glZlHQA3mV2WBjbPlmTmZ7zPePpPYhtk6L8JcWvJxCLF4lu01xlEPgU76fuFQ+DASsSYbqN/hl5xqWIq2PgB8QMAIo4DB0kdye0fKCd4Rcy4JYCl6C1plF6q5Tz+hf4l3lqEJo64oWK9uJhVQvuvJhWxiHdwT50Q2o++Y7jwidrXMm1w/cnDaL7XDYtVdj4u8sC/jAj0yzy3YPxRMeJwO4K+bYuGYzBQwG1CyWrXkJaqcxSs4O7CG4UWu3dG7G0QCZzUt+IobMksaMQh0qE30uGumJ5FYUfcwfUN0gW+yv2ZdMMC/kmOlwbP8Ahx0NTETpS4KhMVDqLirjuSjjAXzH3mFl1HtMk6cC3lXxB6VwCjiuG8BW4LJ6ywAwOfUxv9Yqu1/BmIJUTCJ1NosKFFvw32eBDzOntXxuUiWU1ku4hxrzApAUpdeA8sS+14luTtxA/hYu3SJUhImHvr5ZduitB0JakGmCYVfO5ZHLeR3Kea7yjXcXKXA/zFh/NCGDyu5WxUUjDZdc1IQFiMZAuOIhmyRG7yj6BmMEMVTZUXFrnEC2ODMFrMRYTsdwImBiWtgrKw5XwJpP3knI9e6LO420Kq5q9yC6/KQpG6KEUZiytU0AMuFUy/eYRGGfYqjvEDsQBtUWu2dx+jHgFKb9DHQos7ghAFDtvvq4nJOOylXGPVNc4894JeGWvBie+Ke0Qyw7HcIhKi7lU3M2yHclkR3gO8Mx1GWeWCY3xDT6HJ6aSz/aSZeB+p1DXXj6KjqNVrrtjdQAYttlfmJcPgfnCfiF41Cil7naGLWmiVgNjnBGueKXuvNbzjUDvHlQlfC7iKBqMVGqrHuINGNSzUHgvMx9F40YUlQQzTBstHVROMSCzJd1XMHu4sgeBWZ63CSHAMqVwviFdpIFoVhTgxOLuLtmGWUAvdi7Yoh9UUEFdAb1Kj4bgii/UC/6pPBIfrJNGS8EK04sbxgcBKrooyzmi6LmjQgJDzLU+2EUhWC04Xo/M4zvL9lfyR3gNPKOyq48TVgdmXqM9S2WRWpiXUuLmMipsFyhAA0DB8Rfpt5rlmr1LjDpghMVGqVqjLctyi2nym1AbQIAbQaQgGFC7v8AwgLP82hr6niW0UDv5hLfFCflBIwpUEi563mcdOI6nGGLiXnpovpplwlw1Llssly4yNIccvoczg3gor0xlpjpcusRjuW31+Lh8kDl0A90YkdS/RAHmMKKSFrK1rU4mZCCKIP0losel/SNbgXZkoNlVvaVULYkjQbMdUCBpi2GS5h2XY3dAfkl9XeNyydmmmnEWsDnoUExlWXsbD5cTBsAU19+J65gZN2xvkfUCIqhl/gyh9WsF+k/hlaezfclEqVKOikpKSkwiSqzbK8sqb5YCJ8OFzPK3Eay4lQ1gPKhKHMbIB5gLcW6BPNMpSXHywM70ouXFw9mDZIUfAES0Fe8eH+OWJJv1DoFPMFHnDzphUumUljbKdpXzCXkJQzBQZR9qgGtpdx/MuZZe9x8FY7VqrDTSoFMNnPxBTDbH8yrqasyKYyra+8ZpsnERFZiL5YLjmQhoN1MJMOutiYqpg2dhx91cq43r05THyle2Z6yCJasu4io9CEQo7phKCwDEtodteKctAKzgHF+/iXezhVFW0DkQKCFTRw3h3iYkEKlrbhczrjb3zMPHTxlxCHLcXbNeqq3dmYN5TOwbq3u2NTuTDaquVH9P7Te8X5hX0Jl6UnxIwb7b9hnHRSXjoe566cTiPtPUq9xORaMRqYhCG/IvgieUzuJbQTN0AJjLC2wVtmEVaVPiL7h0hS5aD4GUhbkb6Gbybi9HWIA/VItkT3ZobyyRXbJMMUKzGhKPRfiOvcQYAtXgiqtSF0mjzqBPhpLbsdENivHYLy+DFQcYyN5dsx3uhbEGTHWZWfRE08diWfNBcCxCEKd3XbtLda1FgXBQ6phpJW+1ZhZSGgCOzNEqT7yqyrxa9xOXjMo3B4CMy47ewNnASlIrwqt1PjBMj8qTyFpwLxFmcpazqh70ypiB9OGnI8wXVtGbMAHFVGKUBgFF28qkBcGf32iE6AvGIL3cNZgOpYw8MQWHaiuGreKxAILDMpKpO/mHBvrgVLhQYrcd3mPwuwMYOYSQ2EQcqJlsxmLGhNc94wosolC/dco70FwndL2bmDo/F3WWB0O1sK83iNNCRb4S7d5eWtmuEYz4gcRQoaZebio5+LuzPtdlyoUHKpBVg2wAUSBqzxAWgroTXvzFMgNCUqNRYL44qV2XmZ4KtWXg8US5p+eVFbujqHS+lRmhLeofxi/z8dWafWbl1Cuxt3m2WkWNiWP8pxL6kRg2xnDCV2KIOxTsxkBslFAZQ4lNahtpys9OBK+ocTIsYzd6gVgC1V0Snt3jfIHdlZ9rzOK34grgBhsvCfqXLCMsQFZWmNR3d3eUsLmKdQhKG9MVhvEpswus1ESqIgu+XyIEDneyyEvzC0UptBSB/CLhiLUPuY5f+xXe4TGS/FXcv27GVx2C3HxBpKsFa6XWj1MDpo1NVfJ6izUko+QRUzKJbqneICyDtrmtJW7LKarHuZH1bCPnEA+7vBWscEfdRAIpt2CRVOUIUjWFYaAAR29cEX5mm2BUemJeIAAciAB2uBCQmBMBYXpjUvzL9+4hQNgMs1p+i5vqQqPQ19KfTMBb4fxD6nklhdL/SA5OYlZSIgQgWUuWOZTNJL8zBuU7kolXAXBACqCipQalnS7OVTAXc3Or0bQx+CmqtqKu5dblO8k7qolrLiy4w97H/AINtYHbJgLNBkrHQuswI9g5OZe99AkuXMSyXCWSzvL+i+g9L6XLvpZOYwjvqal/WxGpn4zB9W8OXd7Mr4R9hK6OpxK6PWvEovRKO0QrUxEKgGVaCXjylUMpRlJbFiGAtHzUaAL31Al3qKgtbEM4GQZ5zUo5cEYprFNG4BA0CQ4LIHw1iUHgBH3Yps1XQMt6i5YUaWQSuFuEsiMEnLXOIapZBam3jPEsul6XArue2S7Ro+7CSK/YDS3pmbehK8JxaBOLFstuaOxqWrvJ+67Lh6iVYZhCLK27ZaS+AR8Et2luCDrRPBL9pZxHqz1YuqYh3le0CHMqlwKSsrPNPN0U7wHeUlL3Blwi8wl9Llx0wkuzh2uT+H1sAXDfeLDHvh/B10g46u+rfc+jHN14h8Qgzbuj3EJyYOaBQRssU4Udp2ZW4LtQvbnux/ReKXWNRKtqclfmcrh4KVcEco2QYarDCC5hWwPmNQbMQyjdFI87YmrNgd6h1omgtWffMXwD6FXC3UKhauk7QzU3Nti8HEczszY2D7kHpm6q45DY367j/M3tIILF3fQ9PKHmDjOgZcMLbLlxZcOQFqye4X0vvVecShWKqDTCcTv8V0JefouDnrUolEo7ECAuAqEVUry9QJeUcQZ70MehH+MOr1IVe03b2/5Qra3+06jMDrUTEqj/hiMu5YS5cE6ly4szXnBrTgI9WuomzRK1DCWRpLuXLgx6Utqhbdp8K4Il+VwzUAr5elwF/RhPoR2Y2FsijZl45lwYMuXL6X0uFwegQIjcuDDoOIdK6HXP0s0Jun6fTU4jpKnl/Ziz7ta+ZfhlxXWIMvxHcvxGKDNJQxLg4lJSEJqJuVhiFk+IBWKzjAr5GJrcQwvEvUPQ86flKiCBYwXU80pGAnyEUalPAuLhlYqCqGB4II6YsWom/LQMrwRqsJ9yGvUvNVrZZ/+IWxo0DLg15j7bBoJKogJuQpnCxgZwgd2BqZadlUA1MCXbGjtOwEPqYuc4XX5lzLqtksofBcsbeENLHrvG0U+YCHoifU81LThU4JSrtQg4KLmPi12IAXZgc6jwFFvhZ91Rvm78RSyFfzq+9lNSlDAvLHiO8JztqaXBUz+VGhk/mYLWGaNXuYnIa8AVeocYtEKHzURnxa4/uv6l4gHOFNHyXGn8hjeWV/zbIujJzbiUtiDQ0F88LAx0Oh9N4iUXVUqeZ+n6HU2ZcWlexLZzKSvf3P5Q6cIfQ/ViV0S4yAC1VAeWC2a6CPyQjKGaZsfJmH+iV1vlx6hgacYyxdWYm48TaeuUbXlXg8fMstBwGtXzxFFi/1lbGJ7RLB32FJ7syfEus2WCU037A7GnjbNCFoxe2HUCr2HKWy4uF2i9gl1zBJZbNFuyKFUlXo8LQqACOd9l8Sp6yMzZadpmBeNYe0N87hGQUaX7cYj4yl0rFgV3GYVBBADZZXfbglSKzVo1IB/BqTDdlZ3xEx2tOIHJONxAaNjQtccFuZiQsW0Ba8aYlAveDFXErKDtuc7VxCJyIDa8s9j7Q+lTbaaUV4qH8aE41R7pDDq+q01A6bByk7XF23lLCFBnbKVpB8wbdnUbVgcgD3RHrx2he4ohHmVkU/eNky0RA2KviPvFYWIUBKoBxUzWpFT1Tk2sfGHizCFlUynZgArMGCSkpLPEwiUP/ufRx0MWHwTfxBVp/ixXe/niB04Qlv0tuK+hhrpUTJFocu8sRFSjbn8Q391OzACNcB1Hff5qoFlQ5FHBECsp5L3g9ErPQcu4WZvt2jS3W63xgrvEVq0zvBHwVG+NwMOWO6w+CL6mQKDvq48oahlNSsaKAAqgqX4RGtWqyJlokMyHaXj5lpeZcc4lbyxO73fwRGjI33R/fQ/0AB/GfWIMtSqsi4J8FxLjlw7FpoB3mI8YBT8kXE4h1PEFq4O8b4O2lWXXRmI6YIkGIhB1OgTT1+eH8EZ3H979DL6Jzx/iBPiyIppzl92HR6upf0O+vHSsv0XGCDcfYuECsyl9gOKCulxYvi4Vq0ur2rwROWqmAHHvpdWRuXUrBly+iU4TKLFt5zLuOCUAtffCv5cwx8Y/lBE4VQAuxfDKqQAWwbb8vS9F8UNj5DEurHZ6rI/uN2xA3Tp9/aYbo3gMBoKisF8ICkrVfG7JYW/DtPjNxpxxa8bT7viDKiLDxkxY5d4+2nkHJ8QyhPG9h9kUxtCpbVH5lZX0A1Bypz/ACMV842ZsepMdD6LpvCyXI2v8ofQ9Dtf7plsPAGAhnZ+2F8kzLMFOILUtjct7S/Et7S3tF7IqupbLe0V7S3aW7TNqmUF6koKpeWHh9/RcR9CrCO/iKKoLdHMN6KLtIKPQRGAs1qOGRlcgc2sKvqoQZ/FHBdZhNlyo8dx3B3hW2NW+FjTFMQCrQbe0rGzQw1+A7QKkVnHEf5ggoDViqwMpZNW20zKgmCtltwnHMIVJ8vgilKwaBVBfag307Vmo93EUAa4Q2dq3EDVUnAwQs0WAC1t7swYjQ4FN8W8wZdDYxY7pW4B3CshVbeF7Q3A0BzSpnY4i1CWE84qsKxnlyYpVonNQ46pVNq9SoLnFlBQF89+0U+hxO9XiztHi3yKhDtTbGIQVdhoHgiXeKg34THTRguvg8Q2aEVHyvMKWKtVwPPfpDimO22sHiOSvSO3FbCsRWZiKXsvHO4q8MXnf4nEPrupkrZ+WQm+cv8AKH0GB0YX936mYLFYFGqr9cNdGcQlE1G+jfR6Yl5l9FMMK3LV+iIuzd3RVvlgGAMNnk8MI6XzdfgmEKOx49viCjrXIwLXNLzD6QLYw57HaHk0WJbCg6CugPlpXxgjg2Eg6BnvrUWvkVVgle7eo/hsKjyBbANH7V/MdCIUjyQ73PyVaMyvEyFJwOynj2Q4oiip8lq7i0ZlaBcrxcKoLCA8kLYByFYpFcStQVTkl2sQOlpU0sKjvVSAcS7ZiCYFXbh2vt4i/I0bB+8rzpVQPtK4NFYa+9S2DWuy39XKZaoOMTPY8Qt12AptgGqXGzJPFPJAIhiTv1Eb4q1UGmFJWHgRx/MKcIAUEqrAWLotjfdKWAEZeZnvPbotiqVGRqQ9leDvE0AINmErbqCMcm/e4dTZF9sjqLD3cVPMUtN/qOnEdPoub6OpcWKQSWSyXT0D7S4brtL+kBKl4iKixjb0ZMfaW5pTRC/mXe5cuDiX0XFIxfQaYFq0HeXf1oS6lxeRkWY7+Id/AWHHhLYMdxS+lxjl5fUdwyxCoDTwxVRihYig9rHGHwwVUXdT1Z7C+8uOpZW9hs8B5ii6NKkUEfkgy5fmojkoobWASwANJdJTLjSk1rhELFC98kfPiA4M77tx5et9y/RzPxiOovkp+Yj0P8TDpG47l9Fls1Liy8Rc8fMveug28BBOuUJpy3Qzntbvos0aC37NllJ2eXrHKy0ylOk2XLg4iotQO7xErDaOxJcqKGyclVAAfqJUbUXl210XBErQbe0WmvWC8x3GEhbyfJ54gKBWjRofCoPS5dbegi/MYHMtvpdmQQ6qqvOVRAjirJkgWkS3vS60UXeDMPYhYOMKCwLQMHww6gWOQ8lNZjAa1AFP9RFxO44IoLBQuUgY5hDIlTIWpgS1cJTH43B83mFOziUqj42G2BikQAVoCl3HEs8YWHwSika59Lt4qEtAiAhbwqiXNRo0CyxFjWaBnwonIozaLk1ljWVEUXcexEU937KkUXR3Yp1XYODFI69JUN0JeuPu1619ZuAbAAOBx5tgSriSskz5gOG+IYEEWjf0GBMTIP8A5xH8wPyETsw/UzKZmKpue0zKeJVtxjg0FYDhuZrylLF/maN9mu2jzqdq/wBFd0jdks/3YAfEtRyIgd43gRFM22dzO6JH0/aaUrjnAajyq2POqug4EVNa+FHsnsSmTocbxWcQEdRBXNiGaDLCemgIAud2CVnpvd+ZHEW5WMqFgVxb2lbqXpAeAXLLcvIfExibyYG2L7ylsS8TaX3WtjnoAi2iJ8WNmVFi/WfUwWqgdk8hHSAJsNAPLB4gZDeS9whCvL8CPE2ab9uOfdhHdtHOGGIo3AraEbIHZZgccQSIzHKDWHQq4gNSanBV7cQnCsZbDBZraoXBDPGZhyNTLowA55lKGLZRwR3EzHyGdROhTWWOZc5Bci+EcQADtUUfaJYWVYNhcImLmghdPHFyo+yIEzeXdGCozSNwpos8eYDmRrA4A68InisMdgDzepU9+cHMLheSORatFqVPL4mNxRbi8xiL4qdGqvn7ktccxUpkrkiyhuTUwQHtW4WeK1sil81qaeRm2CURWiKFFHuS1LWSZOQQW2Mp00Xdr24l1FCkuV5j0NE3jur1CpWW9Y1xHp0ywHYVaItSixRymoDaYDeVAoCgl/TvQaf0pkTaH4SqK0j/AB9J6m5xEERLOSViseiW1yn2ofi5jPfkV7aXBmH6oI5eMOxiDvV+IBA+DUuci1YatjV5jdRiktOV3XiIHB31TmHtpY9gFG0zybUjc/ILXhXgO/aDDBmOXaveMra0KbrflqdlEp7C/USxiooAUic4lhDMT7IWoBAge1XVyw43FwNhDyB7wBKKBRXoF/M7s4o38xXQUXhdIL9ERLWWo3caBLi0ZXzA+Usk/EePE7n4B8gRQQDUAah0EjVyoK/kMlQCuQdI0raY+JWODGthVuP1GXSlEXbKXK6BWreaBqHlAu0uRBBKBaoDSzmLs+us+wWL8wUAVrT6PDKAMQiw7ZmP8YQoeL0RLzABb5jhYd6LEN0rhWSxjt/EMRkbwDU8ruQ/DtGnAUKGuOlqS7xLi6ULSzUeuJRKJR1qVHb1PzH6mP8Arwdb6nUzHuf5JpK/8Uxrqb6cvV6XiFRVFlYpk4mi5cWLmPl0L2g1ErZf4AzGjYAuuQRemDJ4zlH7GYtHRcvzFl5+UhtZRolDTuhKjUGyvK9otKXn9xY1uXbhDT5qXBhDcvpfQZcvzBzuX0XLZcviXUuXmWS2urLlwZf1um8Mx3ZwaHt+k+hzPvzHUxr3WOjP8iO/mcdDaXFzGXWI9K+i5ZFaVuW3FddBXB2K7VPLtKLayXKcobhG6uF237BG5lWAYTZQAtXiU+4B7NqjWaPkbf4COULoPhTWkWg2+aZ/NLUsudvES49arQA9x2AWDaLRYU3tGmus+LZTILgFgfqHTQLDWxAzwoN3AlGXqkALTrfE0hmeNWyvs7acIJhzdcvPnpcuXLly/EuXLly5iXLly5c2rpcvpcuDiDLl/Vx/8kCBN5Rj/hx9P3F0WUbD+UVV8/rSsynvK7syOWU3lZ7SvLEZWOY4TbaVUz3nzPmbjAtj0wH5gq5PwAfNMJZUA2URcEOGRKZ54czEmTYBSU+OZRoAOACVy0ZND4WJ9LIr8tFQVK086bXXMBnKCVMztWYGhJFw8Rhro5UyC+tUmPmysuMR1DnhoK4gJxkBbiBwFQAYyNJjMv6ztqszFrQmee7UvskIpOMc1HYJFlYML3QxH14WAJcyc/iiWy3uxoVoHMEhQR5MzPeZrccNkeqcQdtt6IJrEHHAILDyl93R8JmZZsl+EuLZb4lsolEu46F5a9QgLtDsQXtLe0t7QfHROyL+GKvdjEvH+PodT/d89BYja/nMq+D8pTHpz046HRcx110y4s0N2neEN1dyr+ehYxfS44zE9x+MLgyyO4wsqe0A/l7+I7ogs2U/MHxNOinRTpVxKjg2YEdutZXDXKgW5HhonhV10uc7rzALef8AqbcyodLM7Gj7VFJfRcuXCWRYz3gmLC0ov2lx1LiyjcNHhaj8xf4oFumQm6cDMO+NEpmOxzr0wh9Tp/8AFoKM3h+kwHn6df8ATuLiL1F/Ilwcp/JHLXS4bfRUfpuXLleOlxir8sOaWPvqIo2K+4JcuEnSvPS4dd+TUKyl1S5uVUr68FwUTlfa4C+xcA3GVnZK3a/ib3SjFr/8giEbsEdYhQKLAuDvngcVR5XaYqizl2HtMOtaWS6IuvKvypgFLV7dPkQy3QtpseXAdQY894gS0lVScJe9Gk3wD+4/BkxRpP3EGiTF1ovGY00XGBcCLolBe/THFTvLo0CMqrLhN/q6AXVnYdjmInrxMgVneoWALRpgu6hzhrHALYiqLVxQCfYVKvEFhEWhvMoY1Hsd0DxqGQ2KDRAaO9S2rJU0tLvcslq7QA1XClQKsUA9Be24jgCVpbwXxCZjnC7br5hru6DldP5alrAalZYzHgIVUDOwKxlKfUypAt3cn89BgwcQZfRWzf8AIj4Jofqfi/19P+g5R0xlW/0hLJnkvUYaYSmV1Ymd9GpxA5l04lLjXOo0mL9yJWfgDvU+biJ0lyJRihwGIqFW5khu8YdwYXYhQ940FcxsFFlKi20QFaPN5rXftMg2ywAu3tI3MewQytopAhcxTqA+CWfyAtqks+4gfMlJWgOoNZx7LULUXKFRU15gDRADWgJXk+IMhubBoFC9li/U1TTVnx2jPZEuzQCBCQ+xpHoleoXeZa/Opey3UBV1fFFEfPLYsGErMEOtBWwxR4ioXN+yM1F3VMAcUX3ijWVM2y+KubgeENVXf3h9H4ghwajBayCNcFWMudTxpDM+bLSq4DsECLcKEFbbua5ioSwA0+JfqSwegf3MBPWquqtrbUU3V7HNtq6XiARKaPE4dwMAq39xmpDRunlFCRqkpWWywcPMwJLctTMpor0ESjRtUIcx+RCm7PJDHzHrsReXuyyXBJcOlx/B/sZf1n7EuDFYPp/3XOZr1Cf4mwleJNW4iUg3KGAiASjtKieiiILUqOpSURCHalHaUl1Vkdm1O8pDJEs4j58S4qr4jMHJRBkWiZ4kXduevgngiOiSeIoSAvLh8UlEQrj51ER9wcxR2lHaIdpRbEo7SkAqIVy8Q7Iv8DpPlXC12HJvzfco7SiIMrshZqVFHQSKJRKPMoqVKlQC5RKK3LuhIdoH2thsmBKuWOOWZmm5V5uZ5WoW95mtwHu9VS96fdUoHlT+Mvk4D6DZP9lzixRbtBMWbF/AdQqcpc46W9KleZXQnydGXLgtbmUGgKGOXSWhlWRWMVHLUPMtaKLotXGsCVWNUVGuw+HUADs824Be+fEZzPcl7fa9QrppPkPLBrAtwTI7BxBxLqX5rzGa4PzwD2xcDKhHcbSaly5bLly+gba3HrZWAoWo8EXMrkHCvvkR3IOBluOW2qOwtmL1B9l5+axGq1cofQUFvBFyW7gW5nQ+UOUMfG57xBgtGw658y2t8P8AcLtgLwme9IDvsTbfF+aj8stkFa1IiRMN5XYzKITDaqLazuoHU3Mw7hJU+R/CG8fRo9y7/TlDF/Cp+MV+9/JAxCXBzLly+txZb1vrdzAvVCZDa563GtanbXxL7Skn/Fli3VUVoFZlKMbeFLX4l5umdil1IaITAVWCOcEbv+7ScA+glRucGYCjGXCOUd1u1gIgTteDpUAmC172I81qApmK9G7NZgu/NAuMUeoAw47LXkoO7cP9PoDDwhJKRHhSJXJ2+0KIJWlpFGhSOC9VdTAuxvbJB3DK8R+OoR+B4CG0NOapf5WON6oOjNvuWAcFAqGLkZzLm2lPljEVyCqe78XjzCcaWpHafK5lCMha7012jXUWMiF54u6mKxE2cPmVaKzZzQXyEA8dA/csPjYsX1E0dA2q2+czKkaypJ915mBXraFNX4LZRIarmIamw3HIRAgvbXnTMssAwO33lmzoQxUB8Y3oLwUWD77l4HkC6IxHQrax/KNIOM5X8RaQgQKLm9sxzqbvJWlYto65U/8AlMCkOxm3rH0aPc/xPMForRF+OPbGQd+ARPgYhgDKTPwxCz7RH9zvdpAPc7n5h4Q2Bs9QSUcXERYlb3GAMTe55JXvKEr3lIioJY5+IdKbOArSO8roG8Qi+sS1XOH5zMINzK53xncWcSyilscEKktgwvlHyTBdV2QKq/NZiVGwngRTkTHgsICat66YE+Zl/wB4EbW4IDOrOmKsR/cIZSIve1bwy6Hn5zO2txxhS4DObVSyCNUz2g7WSRqa+Yx1V0VLfdmWjppd1ZvxKhVbQAYXvUwsBy1bAtar0ssHJ2j1gQcwsW1ziOOlXUHaVVbZjhCbBafMDguGgsrGuX3Cs4qFcACHfmWPAepQ0w0h92NZOLWaS3lLho6NKKpS7WLrjHGwBWSvbCEdgpj4lVySg8lx28gRATZo1E9mEnC8VlLFTRWpZZCQGAo8ETfMRKvRcElO8p3lkvqx8/6ky/xZQKr6Dcsz/wDpEoMiq17rLrXoYHs4oAEx4+YQb0FPlAx0YxLdAUWWSW4sgSolSrlEH2KCX2QR8e9XFoxrUJXRSVyUAotOlvEW4NcS5cdCbVrb2hG9IWfuG9R6X04mM7spD9gRzDeh+0M9bi4kCkS4vo0xg+UDy+IfEyKIKY366NsS+g9LjaFGXiWS+l9/7lcP5vRe7HnLHQtozRArMv8AMrrcUe2KhCnLzLvNV279KVxxC+uY/wCbQ2N9/wCUPo8BJlvtxmb3ofxMkxj8pBbxuLeJ8Pmz+EA5QH7fmBDX2hRhHh5L2xo1JOAtfgzKlS+c4BfLa9LjmXeILLAM3dVLvLakNg6LcXKAJI18QvlzK6cwD6n2eHywaLrc96nteCLLlzeIfxbtGiPK4jme0hVIv810uWcy4s9bj10f1lvwylJjl3WWR8a0+gQn4Oi3GKA37w8Sp2b6Equ0QHySODlEhOJHAW/ALmBM2No5N/8AhNdYFfvoY0XmG7DXtC0uLippVdd7g3mxICoEG7rNbIvaMArmurVl9Sr9wHitqvFG5fKzo4VS5m5S3g+8BzbwWvwcyoCPkUlBHzLbRufyb8rK0WIWC9Xr8y2j5soW6mNyNaqcK7m4btDhvjmWl9Oih5H5XBKt2cF4AN+WWzL2qdk7VxHLxqMCwPxxC9slPAAGsHMaxgDYGETF1zGliglqlE6jF/lIOLnjl9C8A/4lq99NdtYfxmDZVbDbQOV7QAqZQV4q4/mH2ee49/LHTLxNx3Yy3yc3/jiVNealCtFXHZ8NQxqFXZYQyxO4ftNdJgR+0ZDJkKC67y6gisV7zrlAwJM3AuqCULStAlcana/BGosc/EtcksffeIV5YXI22f1Kp6Sqse3A9NloAXyyzNkTJnAAMEJu8i7L0ZCwq73v4Zdz1FhxeekDyzPvqW8r3UQZA4au1D0SHtyfCpSMltWef7Rs6dT51T7qE800qcnxRP7K5BtuMSWBspAwX5hEDbFWby7uLiXQMPEK4kzbyh86lGrOHFBNo2UrKWbO7GBbr3oF8uoIAbHWbIHYChwEDGI7apmnxtBf/LoVU9zLGmrghQQ10VLEWV+Fhua45wc32ixXAeBo+4nuJRDK0JklDpGPpPgyzI3zaaj8Ko9UTWG1veA0hUI7bpRuVJXBFqc5LJUKUQUjflMsuaLQfYeajuZ3NOSvljIArwjzjm4wZJkWV0Q4bl1dUg2xPEGSltpmGAgQCnKHhaMG3dGTxt7w30XPFkT5cQABQAB466dcosx8v4h9Ct9m/DE94wCqHIGlHqnSl0jPYFy2vcjyFwUe2pFBzJx2MllpMHbzHsMXueL0BCyjbkKoPEsUBujIaMUbjDJy4LPemGYRNNY+0ATAUofWVVGgs1F0UeAgvLdPdrSOnsNFUWEO3qwBpMkEWKCyqrXuRr4An+Y67RQy4TnEPRzFl9Q6OqU+GVmJdwwBXwTaqklKrWVD2Aadrn5bgQb4TmCPMSMRCz2q5UQcNAVLvyHPFzg/lYn5Jrhkz1dYlNZ72eM+ioINAgAFWJ38zIQc0yLuu33E1gEgGK3V5l4B6wntSzNHVsIS5w9lBK+xO98zAsZqz+9S+yM40TZo/AZiSonUyLFQgWYTmFa1gdPF7iXVyAXYfcmKR6yPnUt6IQEu8kUmjwcTICJSJYxSx3gKZU+44AubKtW2irZWmM0MDFusd5fYTHGaHOIQslnnOdmnEFmZmWzMtmZnoXM9NRxI1ZiVd49xlBUwbNQePoN+KdWpeX8EPosH+rS3tGJrALdBPTvGqw03aSCW7Pd7F1Lu7MXqjC+qG+yImZRQ0drePEvxvmg63O99KevEqprNxiogLNoxJg7+1V8AV1QFADKrVRi5nQtqx5lZ5PfV+PmLwfIhUomD4WzDGo5I1UgW6soanrcr56Fx5Q7veyN1E+wQ+Ea0qlX2MziXLly5x1pyndfpAMkL3INnSucWMjx0S2RKNPOvDESaKl2ABEzzYBqFf9efpNxCOLT/AKh1EcEuf+aZ7TmXE/1RMX/zX6BgIgAWrogEAPI2dGNs8ttR+9s0U8c83Lh0OABW3aXqWAbBg841ARAQncp/JHUpMzmN8lSntMxgzYmfuZbtVZrzAfBzLP0xuPN7sVAEtWd9KyRDhc5hXT4xDzRBY45M0OVCFsUOIn0ro1jFFZlG015BW/KtzSuO+xCIvTXuZPyispydK4cCQ1d7AN4wW+Y+KWIy1rHmWUDhd5VB5sFnkFiWKlHsWscZSapz9UVSgAPYtlL4S00gZxmA3kDx2lZLJa8Bloto/MRVKxImjO61FWCv488G6Sl+fUKvYQmeL5eZdqlqVTkH2iiVu3cwfllZRlGEK/bOaUABU1XaIZthqj/8S3mH6ku7Vj94daM0ZelSOCG4EZyfyQg/f9Q6s4j6zlOJRfFmKfd2Gc3FfO96Ve3tt4haYkHFEB4HMrkwIb2vuMxJGM1uY9qUYCgZuaFwpFFJTrp+DcWppPjA/wAxmsFvqY3lHwOxGTXG6O68zbrIAcFuJ+4w4LwRrhK+3aUmAygd1qWLK45dTyXcyAwpMlyqtRWAVDkDXKkfqW7N1iqwsdx8FvaKK8tRN38QfEzLqtWaxVxw0E+YqqMRWwpAiKlHAENTmVhMWcnJGiJYKHaR7Mp6moUrTMxNRY4WPvRQAGDQSysp7kWGNl75H4iLSvB4TL7FQOp7SMZXrcu3CHYJY17lXmYgBG6DxH0bFquA8w222AryZe0BgRYfUfEYvnsqEWr8rL41a5uL4W5YHxGHc1fgjYWDUaiAgKB2AdXAGihQe1S8CK/kH7wbLbcDC+4yCUBoly5f031uXL+m5t3/AOMXbtRn0Wv1/MfdwSskuYtt+coNX0RVl6j7AcW7WOHiPshL1wBuX321p5gbjeOqwWtmDKjdgOccw8ukUgdiUAbQTAqqAWKlyVh8XLmCuwj2g7b6mX+I6YAAAAHiDRw27Q6ecAqYKtAFTjFUcRyJRHDcwKNDQHVb3i5w9AoVcVHfRfme0uW9+me7LFtz5nzM5zD30uW+ZxFx0JcvM+8WfeCdRzuG+j1NfQfRfVYfL+Yc+L+SHXiWHuCCfEQ3E748i29/2sqV/wBKleYj0zKWUkqVCHKVKgfVUDozLK+t+kcxYagSpUrpRKJWI6i4lw6H1m3vQfkjV18Mj6DH3CBT1LptgUBz+YmfcJ18QlSv+3MrP/CulfTcMPS+l9cRfE56X9J0466+ipX/AC2+0Mn7H+V+nG9w/bDAjsdkyoO6/tLWvI/KGv8ArfW+p9Vy5eJeY1cNdVy4wpUHpZLgxZhHouXLl9LgkvpeZcvpf0j9FMz0zLuYFw9j+Ppr/wDbzodN2X6hodpBTd1+1gPaUyns9bO5KdyN+n3gzI/JEmftIjs/jE9wr88tQ0bHxhVAlmSTD86WGSkvh/4l2bccf1xGqS+39Mst/m+033TLFbX32S9ob5RFYwzcWfIT+YOH6x/My1b8f2nb/wBfcF/yfvO1/n8zP/8AV/MvZqWvanZgR5lV3Qu/+UMjX7JbiQOgw7MDR/C/qNBXmlCYPnGH+T/UOYfl/UKs0Qc0DWLZeevcNWiSzLT1/eDQ3czXfV55oO9JNMm+JKZSXm0KNBfH+5Xw4DbB4IWbZ6m47H1ME3f57TZfwH/EXc/CP8RQz9o/iHK/x/qXVyHM3t9BgP8Af+YCUNfP9sNNV/3zKMbstX8xKqYPwsH6FfevM92MGdH6WEHiuX0TQtjiB8DA+/3/AGzC8/8AvcobSqyv8yzH+HzDifvAqq8BOGerIw15NZV/Tn/g5Sqn4CP9Ting+Y2Q/BFGT+ERaod1Sea8WSstolnH2WVlgW+G/iNCW7v/AIxF/l+08id//nAtjev6ZRSX9W/qC2yKc/Yg8T/OLrVexIas+z/ll+Hv/G4u0L8H+YmZZ7/vLWz5D/mZhGNjDjY2ev741t3++YVr/l9zI/NHsGa6FY8sKxC/yP6hyxDAp8yLMae+Lf5HBlpv+OIPg08/0xtnOJX1AxAZn4v7pQx8p/c8b83+YLgMNb+pMkTuStbf25Zoucoy3/PaXlf6fUG0vND/ABFdu+AH6IvtPG0AKt9weWz3MBv/AB8wD5/73Af8/wBxyL/n8xrYbBX9/Q7jB8KSmOMiEnYVAgVjhr9pm3eLH8SzH2R/UGbaGzv+dQAH4oV8fmKSkHmd+Fvf9sSqH/PMedvf98Dxd9pMg3vlWd6IGh9rNIXxgTZ9tO5T6JT/AASJWWR7SA7Ep2lJTtAAlSnRWZUzKOm5QdDOJVcyvEAlYzHXXHabnP0VMyulnWv+3H0DjodHfnv1WPox/wDqrpfQ19K1j/gMd9DX/HiH/C/rs6u6vqc/9zrf/SpUrpXSpX0suYK6H/Z631v6bI9K+maf1gYXxH/8hagxly/oZxCcQ/7cdbl9b6qpf0bienvhU4L/AMv/AOY/Ua//ADP8S5eSVHTLYrcFuGWBT3M1f8LCfGT/2Q==)"
      ],
      "metadata": {
        "id": "QG0WAZ4c6Z5W"
      }
    },
    {
      "cell_type": "markdown",
      "source": [
        "#PRACTICAL QUESTIONS"
      ],
      "metadata": {
        "id": "wneSfNV07Sgn"
      }
    },
    {
      "cell_type": "code",
      "source": [
        "#1. Write a Python function that takes a list of numbers as input and returns the sum of all even numbers in the list.\n",
        "from functools import reduce\n",
        "o = [1, 2, 3, 4, 11, 11, 22, 22]\n",
        "\n",
        "def b(o):\n",
        "    ab = 0\n",
        "    for i in o:\n",
        "        if i % 2 == 0:  # Check if the number is even\n",
        "            ab += i     # Add it to the sum\n",
        "    return ab\n",
        "\n",
        "print(b(o))\n"
      ],
      "metadata": {
        "colab": {
          "base_uri": "https://localhost:8080/"
        },
        "id": "a9P4PMfv7c9S",
        "outputId": "8faf4fe3-edfd-428f-feef-ef8c2462e137"
      },
      "execution_count": 1,
      "outputs": [
        {
          "output_type": "stream",
          "name": "stdout",
          "text": [
            "50\n"
          ]
        }
      ]
    },
    {
      "cell_type": "code",
      "source": [
        "#2. Create a Python function that accepts a string and returns the reverse of that string.\n",
        "a = \"ab\"\n",
        "\n",
        "def c(a):\n",
        "    b = ''\n",
        "    # Iterate over the characters of the reversed string\n",
        "    for i in a[::-1]:\n",
        "        b += i\n",
        "    print(b)\n",
        "\n",
        "c(a)"
      ],
      "metadata": {
        "colab": {
          "base_uri": "https://localhost:8080/"
        },
        "id": "zVd9VZfM8PUm",
        "outputId": "8b3ff44d-81b9-4d77-b769-d4a9afd2b71c"
      },
      "execution_count": 2,
      "outputs": [
        {
          "output_type": "stream",
          "name": "stdout",
          "text": [
            "ba\n"
          ]
        }
      ]
    },
    {
      "cell_type": "code",
      "source": [
        "#3.Implement a Python function that takes a list of integers and returns a new list containing the squares of each number.\n",
        "a = [1, 2, 3, 4]\n",
        "b = lambda c: c**2\n",
        "result = map(b, a)\n",
        "print(list(result))\n",
        "print(\"ok\")\n",
        ""
      ],
      "metadata": {
        "colab": {
          "base_uri": "https://localhost:8080/"
        },
        "id": "Uk2qdHee8VlZ",
        "outputId": "331db217-2680-4d0c-d2da-025ea9861bd1"
      },
      "execution_count": 3,
      "outputs": [
        {
          "output_type": "stream",
          "name": "stdout",
          "text": [
            "[1, 4, 9, 16]\n",
            "ok\n"
          ]
        }
      ]
    },
    {
      "cell_type": "code",
      "source": [
        "#4.Write a Python function that checks if a given number is prime or not from 1 to 200.\n",
        "a = range(1, 201)\n",
        "b = filter(lambda c: all(c % i != 0 for i in range(2, int(c**0.5) + 1)), a)\n",
        "print(list(b))\n",
        "print(\"ok\")\n",
        ""
      ],
      "metadata": {
        "colab": {
          "base_uri": "https://localhost:8080/"
        },
        "id": "g7iK_Dwy8Y4O",
        "outputId": "028b6535-3447-4f8c-abb5-6ae4ae54fe45"
      },
      "execution_count": 4,
      "outputs": [
        {
          "output_type": "stream",
          "name": "stdout",
          "text": [
            "[1, 2, 3, 5, 7, 11, 13, 17, 19, 23, 29, 31, 37, 41, 43, 47, 53, 59, 61, 67, 71, 73, 79, 83, 89, 97, 101, 103, 107, 109, 113, 127, 131, 137, 139, 149, 151, 157, 163, 167, 173, 179, 181, 191, 193, 197, 199]\n",
            "ok\n"
          ]
        }
      ]
    },
    {
      "cell_type": "code",
      "source": [
        "#5.Create an iterator class in Python that generates the Fibonacci sequence up to a specified number of terms.\n",
        "class FibonacciIterator:\n",
        "    def __init__(self, n):\n",
        "        self.n = n\n",
        "        self.a, self.b = 0, 1\n",
        "\n",
        "    def __iter__(self):\n",
        "        return self\n",
        "\n",
        "    def __next__(self):\n",
        "        if self.n <= 0:\n",
        "            raise StopIteration\n",
        "        current = self.a\n",
        "        self.a, self.b = self.b, self.a + self.b\n",
        "        self.n -= 1\n",
        "        return current\n",
        "\n",
        "fibonacci_sequence = FibonacciIterator(10)\n",
        "for num in fibonacci_sequence:\n",
        "    print(num)"
      ],
      "metadata": {
        "colab": {
          "base_uri": "https://localhost:8080/"
        },
        "id": "0Um88pdm8b6X",
        "outputId": "2b809e8c-8a5d-4fa6-b0fb-e351c4bd3281"
      },
      "execution_count": 5,
      "outputs": [
        {
          "output_type": "stream",
          "name": "stdout",
          "text": [
            "0\n",
            "1\n",
            "1\n",
            "2\n",
            "3\n",
            "5\n",
            "8\n",
            "13\n",
            "21\n",
            "34\n"
          ]
        }
      ]
    },
    {
      "cell_type": "code",
      "source": [
        "#6.Write a generator function in Python that yields the powers of 2 up to a given exponent.\n",
        "def powers_of_2_yield(n):\n",
        "    for i in range(n + 1):\n",
        "        yield 2 ** i\n",
        "\n",
        "for power in powers_of_2_yield(5):\n",
        "    print(power)\n",
        ""
      ],
      "metadata": {
        "colab": {
          "base_uri": "https://localhost:8080/"
        },
        "id": "4ES4ya1b8fJv",
        "outputId": "0346aa7b-ad49-452e-945e-1bc4a1fb7668"
      },
      "execution_count": 6,
      "outputs": [
        {
          "output_type": "stream",
          "name": "stdout",
          "text": [
            "1\n",
            "2\n",
            "4\n",
            "8\n",
            "16\n",
            "32\n"
          ]
        }
      ]
    },
    {
      "cell_type": "code",
      "source": [
        "#7.Implement a generator function that reads a file line by line and yields each line as a string.\n",
        "file_content = [\n",
        "    \"Hello, this is the first line.\",\n",
        "    \"This is the second line.\",\n",
        "    \"And this is the third line.\",\n",
        "    \"This is the fourth line.\",\n",
        "]\n",
        "\n",
        "\n",
        "def read_file_line_by_line(content):\n",
        "    for line in content:\n",
        "        yield line.strip()\n",
        "\n",
        "\n",
        "for line in read_file_line_by_line(file_content):\n",
        "    print(line)"
      ],
      "metadata": {
        "colab": {
          "base_uri": "https://localhost:8080/"
        },
        "id": "KAQ8mW8G8iah",
        "outputId": "45e0a7fd-6375-4734-eb77-23336da05ed7"
      },
      "execution_count": 7,
      "outputs": [
        {
          "output_type": "stream",
          "name": "stdout",
          "text": [
            "Hello, this is the first line.\n",
            "This is the second line.\n",
            "And this is the third line.\n",
            "This is the fourth line.\n"
          ]
        }
      ]
    },
    {
      "cell_type": "code",
      "source": [
        "#8.Use a lambda function in Python to sort a list of tuples based on the second element of each tuple.\n",
        "tuples_list = [(1, 3), (2, 1), (3, 2), (4, 4)]\n",
        "sorted_list = sorted(tuples_list, key=lambda x: x[1])\n",
        "print(sorted_list)"
      ],
      "metadata": {
        "colab": {
          "base_uri": "https://localhost:8080/"
        },
        "id": "TQc0rXdP8lqF",
        "outputId": "64ece670-9b6e-4d1a-8a3b-406ad249f8bb"
      },
      "execution_count": 8,
      "outputs": [
        {
          "output_type": "stream",
          "name": "stdout",
          "text": [
            "[(2, 1), (3, 2), (1, 3), (4, 4)]\n"
          ]
        }
      ]
    },
    {
      "cell_type": "code",
      "source": [
        "#9.Write a Python program that uses `map()` to convert a list of temperatures from Celsius to Fahrenheit.\n",
        "celsius_temperatures = [20,40,22,25]\n",
        "def celsius_to_fahrenheit(celsius):\n",
        "    return (celsius * 9/5) + 32\n",
        "fahrenheit_temperatures = list(map(celsius_to_fahrenheit, celsius_temperatures))\n",
        "\n",
        "print(fahrenheit_temperatures)"
      ],
      "metadata": {
        "colab": {
          "base_uri": "https://localhost:8080/"
        },
        "id": "8OLRjlW58pZ7",
        "outputId": "cbefae0e-1395-4e45-f187-eccd4333e170"
      },
      "execution_count": 9,
      "outputs": [
        {
          "output_type": "stream",
          "name": "stdout",
          "text": [
            "[68.0, 104.0, 71.6, 77.0]\n"
          ]
        }
      ]
    },
    {
      "cell_type": "code",
      "source": [
        "#10.Create a Python program that uses `filter()` to remove all the vowels from a given string.\n",
        "def is_not_vowel(char):\n",
        "    return char.lower() not in 'aeiou'\n",
        "input_string = \"Hello, World!\"\n",
        "filtered_string = ''.join(filter(is_not_vowel, input_string))\n",
        "\n",
        "print(filtered_string)"
      ],
      "metadata": {
        "colab": {
          "base_uri": "https://localhost:8080/"
        },
        "id": "QB_D3t0C82F0",
        "outputId": "42371386-1fc4-4ffa-b23a-b5c782617357"
      },
      "execution_count": 10,
      "outputs": [
        {
          "output_type": "stream",
          "name": "stdout",
          "text": [
            "Hll, Wrld!\n"
          ]
        }
      ]
    },
    {
      "cell_type": "code",
      "source": [
        "\"\"\"11.Imagine an accounting routine used in a book shop. It works on a list with sublists, which look like this:\n",
        "Write a Python program, which returns a list with 2-tuples. Each tuple consists of the order number and the\n",
        "product of the price per item and the quantity. The product should be increased by 10,- € if the value of the\n",
        "order is smaller than 100,00 €.\n",
        "Write a Python program using lambda and map.\"\"\"\n",
        "orders = [\n",
        "    [101, 4,40.00],\n",
        "    [202, 5, 56.80],\n",
        "    [302, 3, 32.95],\n",
        "    [402, 3, 24.99],\n",
        "]\n",
        "def calculate_order(order):\n",
        "    order_number, price_per_item, quantity = order\n",
        "    total_price = price_per_item * quantity\n",
        "    if total_price < 100:\n",
        "        total_price += 10\n",
        "    return (order_number, total_price)\n",
        "result = list(map(lambda order: calculate_order(order), orders))\n",
        "\n",
        "print(result)"
      ],
      "metadata": {
        "colab": {
          "base_uri": "https://localhost:8080/"
        },
        "id": "DYzezp4c85CX",
        "outputId": "7c8f924d-a399-42d8-ca85-79a960891a9c"
      },
      "execution_count": 11,
      "outputs": [
        {
          "output_type": "stream",
          "name": "stdout",
          "text": [
            "[(101, 160.0), (202, 284.0), (302, 108.85000000000001), (402, 84.97)]\n"
          ]
        }
      ]
    },
    {
      "cell_type": "code",
      "source": [],
      "metadata": {
        "id": "1hs6Egcb885e"
      },
      "execution_count": null,
      "outputs": []
    }
  ]
}